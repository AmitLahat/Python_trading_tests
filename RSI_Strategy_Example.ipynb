{
 "cells": [
  {
   "cell_type": "code",
   "execution_count": 31,
   "id": "f8c38b6e",
   "metadata": {},
   "outputs": [],
   "source": [
    "import pandas as pd\n",
    "import matplotlib.pyplot as plt\n",
    "#import seaborn as sb\n",
    "import numpy as np\n",
    "import plotly.graph_objects as go\n",
    "import plotly.express as px\n",
    "from plotly.subplots import make_subplots\n",
    "import requests as req\n",
    "import json\n",
    "import ta \n",
    "import math\n",
    "from datetime import datetime\n",
    "import datetime as datetimee\n",
    "from dateutil.relativedelta import relativedelta\n",
    "import time as tm\n",
    "import warnings\n",
    "warnings.filterwarnings(\"ignore\")\n",
    "#from ipywidgets import interact, interactive, fixed, interact_manual\n",
    "#import ipywidgets as widgets\n",
    "#!jupyter nbextension enable --py widgetsnbextension --sys-prefix"
   ]
  },
  {
   "cell_type": "markdown",
   "id": "16916a78",
   "metadata": {},
   "source": [
    "### Request data:"
   ]
  },
  {
   "cell_type": "code",
   "execution_count": null,
   "id": "ef713eae",
   "metadata": {},
   "outputs": [],
   "source": [
    "# Make sure the Request_Date1 isn't a sunday!!\n",
    "# Change the Total_Req amount depending on the need.\n",
    "Req_per_minute = 5 #can request using the api up to 5 times per minute.\n",
    "delay = 70 / Req_per_minute\n",
    "Total_Req = 1\n",
    "Symbol = 'QQQ'\n",
    "Request_Date1 = '2023-09-12'\n",
    "#Request_Date2 = '2021-08-02'\n",
    "rowspull = 5000\n",
    "df2 = pd.DataFrame()\n",
    "for i in range(Total_Req):\n",
    "    #check to avoid weekends\n",
    "    year1, month1, day1 = Request_Date1.split('-')  \n",
    "    year1 = int(year1); month1 = int(month1); day1 = int(day1);\n",
    "    if datetimee.date(year1,month1,day1).strftime('%A') == 'Saturday':\n",
    "        Request_Date1 = (datetimee.datetime.strptime(Request_Date1, '%Y-%m-%d') + datetimee.timedelta(days=2)).strftime('%Y-%m-%d')\n",
    "        #Request_Date2 = (datetimee.datetime.strptime(Request_Date2, '%Y-%m-%d') + datetimee.timedelta(days=2)).strftime('%Y-%m-%d')\n",
    "    Request_string = 'https://api.polygon.io/v2/aggs/ticker/'+Symbol+'/range/5/minute/'+Request_Date1+'/'+Request_Date1+'?adjusted=true&sort=asc&limit='+str(rowspull)+'&apiKey=5msoPvKD_Vl1it_uorssQeitM0MnHdYF'\n",
    "    #Request data\n",
    "    r = req.get(Request_string)\n",
    "    res = json.loads(r.content)\n",
    "    if res['queryCount'] == 0:  #avoid empty days\n",
    "        Request_Date1 = (datetimee.datetime.strptime(Request_Date1, '%Y-%m-%d') + datetimee.timedelta(days=1)).strftime('%Y-%m-%d')\n",
    "        #Request_Date2 = (datetime.datetimee.strptime(Request_Date2, '%Y-%m-%d') + datetimee.timedelta(days=1)).strftime('%Y-%m-%d')\n",
    "        continue\n",
    "    df = pd.DataFrame(res)\n",
    "    #Clean and organize\n",
    "    df1 = df[['ticker']].copy()\n",
    "    df1['OpenPrice'] = df['results'].apply(lambda x: x.get('o'))\n",
    "    df1['ClosePrice'] = df['results'].apply(lambda x: x.get('c'))\n",
    "    df1['Highp'] = df['results'].apply(lambda x: x.get('h'))\n",
    "    df1['Lowp'] = df['results'].apply(lambda x: x.get('l'))\n",
    "    df1['Volume'] = df['results'].apply(lambda x: x.get('v'))\n",
    "    df1['VWAP'] = df['results'].apply(lambda x: x.get('vw'))\n",
    "    df1['Time'] = df.results.apply(lambda x: datetimee.datetime.fromtimestamp(int(x.get('t')) / 1000))\n",
    "    df1['Date'] = pd.to_datetime(df1['Time']).dt.date\n",
    "    df1['Time'] = pd.to_datetime(df1['Time']).dt.time\n",
    "    df1['Date'] = pd.to_datetime(df1['Date'])\n",
    "    #filter standard trading hours (israel time)\n",
    "    df1['Time'] = pd.to_datetime(df1['Time'], format='%H:%M:%S')\n",
    "    df1 = df1[(df1['Time'].dt.time > pd.to_datetime('16:25:00', format='%H:%M:%S').time()) & (df1['Time'].dt.time < pd.to_datetime('23:00:00', format='%H:%M:%S').time())]\n",
    "    df1['Time'] = pd.to_datetime(df1['Time']).dt.time #return to time (object type)\n",
    "    \n",
    "    print(df1.Date.iloc[1]) #printing to see if/when loop gets stuck\n",
    "    \n",
    "    #concating the requests together to one big table (pre-made an empty df2)\n",
    "    df2 = pd.concat([df1, df2])\n",
    "    #update the date forward\n",
    "    Request_Date1 = (datetimee.datetime.strptime(Request_Date1, '%Y-%m-%d') + datetimee.timedelta(days=1)).strftime('%Y-%m-%d')\n",
    "    #Request_Date2 = (datetimee.datetime.strptime(Request_Date2, '%Y-%m-%d') + datetimee.timedelta(days=1)).strftime('%Y-%m-%d')\n",
    "    #Delay \n",
    "    tm.sleep(delay)\n",
    "    if i + 1 == Total_Req:\n",
    "        break  \n",
    "df2 = round(df2,2)        \n",
    "df2.to_csv('D:\\\\Users\\\\amit\\\\Desktop\\\\מסחר\\\\Python\\\\QQQ10.csv', index=False)"
   ]
  },
  {
   "cell_type": "markdown",
   "id": "0ef6abd4",
   "metadata": {},
   "source": [
    "### Data cleaning and custom columns:"
   ]
  },
  {
   "cell_type": "code",
   "execution_count": 3,
   "id": "2c844c30",
   "metadata": {},
   "outputs": [
    {
     "data": {
      "text/html": [
       "<div>\n",
       "<style scoped>\n",
       "    .dataframe tbody tr th:only-of-type {\n",
       "        vertical-align: middle;\n",
       "    }\n",
       "\n",
       "    .dataframe tbody tr th {\n",
       "        vertical-align: top;\n",
       "    }\n",
       "\n",
       "    .dataframe thead th {\n",
       "        text-align: right;\n",
       "    }\n",
       "</style>\n",
       "<table border=\"1\" class=\"dataframe\">\n",
       "  <thead>\n",
       "    <tr style=\"text-align: right;\">\n",
       "      <th></th>\n",
       "      <th>ticker</th>\n",
       "      <th>OpenPrice</th>\n",
       "      <th>ClosePrice</th>\n",
       "      <th>Highp</th>\n",
       "      <th>Lowp</th>\n",
       "      <th>Volume</th>\n",
       "      <th>Time</th>\n",
       "      <th>Date</th>\n",
       "      <th>StochRSI</th>\n",
       "      <th>CandleRange</th>\n",
       "      <th>PChange</th>\n",
       "      <th>DayGap</th>\n",
       "      <th>DayRange</th>\n",
       "      <th>VWAP</th>\n",
       "    </tr>\n",
       "  </thead>\n",
       "  <tbody>\n",
       "    <tr>\n",
       "      <th>15466</th>\n",
       "      <td>QQQ</td>\n",
       "      <td>306.89</td>\n",
       "      <td>307.17</td>\n",
       "      <td>307.18</td>\n",
       "      <td>306.87</td>\n",
       "      <td>389022.0</td>\n",
       "      <td>21:15:00</td>\n",
       "      <td>2022-05-27</td>\n",
       "      <td>82.43</td>\n",
       "      <td>0.31</td>\n",
       "      <td>0.10</td>\n",
       "      <td>1.08</td>\n",
       "      <td>6.83</td>\n",
       "      <td>305.87</td>\n",
       "    </tr>\n",
       "    <tr>\n",
       "      <th>14091</th>\n",
       "      <td>QQQ</td>\n",
       "      <td>316.23</td>\n",
       "      <td>315.82</td>\n",
       "      <td>316.76</td>\n",
       "      <td>315.74</td>\n",
       "      <td>959496.0</td>\n",
       "      <td>17:10:00</td>\n",
       "      <td>2022-05-04</td>\n",
       "      <td>0.00</td>\n",
       "      <td>1.02</td>\n",
       "      <td>0.32</td>\n",
       "      <td>0.13</td>\n",
       "      <td>16.40</td>\n",
       "      <td>317.88</td>\n",
       "    </tr>\n",
       "    <tr>\n",
       "      <th>26652</th>\n",
       "      <td>QQQ</td>\n",
       "      <td>263.00</td>\n",
       "      <td>262.81</td>\n",
       "      <td>263.03</td>\n",
       "      <td>262.71</td>\n",
       "      <td>366327.0</td>\n",
       "      <td>20:20:00</td>\n",
       "      <td>2022-12-22</td>\n",
       "      <td>60.32</td>\n",
       "      <td>0.32</td>\n",
       "      <td>0.12</td>\n",
       "      <td>-1.14</td>\n",
       "      <td>8.05</td>\n",
       "      <td>265.86</td>\n",
       "    </tr>\n",
       "    <tr>\n",
       "      <th>43634</th>\n",
       "      <td>QQQ</td>\n",
       "      <td>367.76</td>\n",
       "      <td>367.92</td>\n",
       "      <td>368.00</td>\n",
       "      <td>367.68</td>\n",
       "      <td>1140778.0</td>\n",
       "      <td>21:30:00</td>\n",
       "      <td>2023-11-06</td>\n",
       "      <td>98.68</td>\n",
       "      <td>0.32</td>\n",
       "      <td>0.09</td>\n",
       "      <td>0.14</td>\n",
       "      <td>2.87</td>\n",
       "      <td>368.40</td>\n",
       "    </tr>\n",
       "    <tr>\n",
       "      <th>15985</th>\n",
       "      <td>QQQ</td>\n",
       "      <td>310.32</td>\n",
       "      <td>310.61</td>\n",
       "      <td>310.86</td>\n",
       "      <td>310.07</td>\n",
       "      <td>321278.0</td>\n",
       "      <td>19:00:00</td>\n",
       "      <td>2022-06-08</td>\n",
       "      <td>29.69</td>\n",
       "      <td>0.79</td>\n",
       "      <td>0.25</td>\n",
       "      <td>-0.29</td>\n",
       "      <td>4.95</td>\n",
       "      <td>310.36</td>\n",
       "    </tr>\n",
       "  </tbody>\n",
       "</table>\n",
       "</div>"
      ],
      "text/plain": [
       "      ticker  OpenPrice  ClosePrice   Highp    Lowp     Volume      Time  \\\n",
       "15466    QQQ     306.89      307.17  307.18  306.87   389022.0  21:15:00   \n",
       "14091    QQQ     316.23      315.82  316.76  315.74   959496.0  17:10:00   \n",
       "26652    QQQ     263.00      262.81  263.03  262.71   366327.0  20:20:00   \n",
       "43634    QQQ     367.76      367.92  368.00  367.68  1140778.0  21:30:00   \n",
       "15985    QQQ     310.32      310.61  310.86  310.07   321278.0  19:00:00   \n",
       "\n",
       "            Date  StochRSI  CandleRange  PChange  DayGap  DayRange    VWAP  \n",
       "15466 2022-05-27     82.43         0.31     0.10    1.08      6.83  305.87  \n",
       "14091 2022-05-04      0.00         1.02     0.32    0.13     16.40  317.88  \n",
       "26652 2022-12-22     60.32         0.32     0.12   -1.14      8.05  265.86  \n",
       "43634 2023-11-06     98.68         0.32     0.09    0.14      2.87  368.40  \n",
       "15985 2022-06-08     29.69         0.79     0.25   -0.29      4.95  310.36  "
      ]
     },
     "execution_count": 3,
     "metadata": {},
     "output_type": "execute_result"
    }
   ],
   "source": [
    "CurrentData = pd.read_csv('D:\\\\Users\\\\amit\\\\Desktop\\\\מסחר\\\\Python\\\\QQQ5M2021_8-2023_11.csv')\n",
    "# Define input values (CurrentData)\n",
    "smoothK = 3 #3\n",
    "lengthRSI = 6 #6\n",
    "lengthStoch = 11 #11\n",
    "# Calculate RSI and Stochastic RSI\n",
    "CurrentData['RSI'] = ta.momentum.RSIIndicator(CurrentData['ClosePrice'], lengthRSI).rsi()\n",
    "rsi1 = CurrentData['RSI']\n",
    "CurrentData['StochRSI'] = ta.momentum.StochasticOscillator(CurrentData['RSI'], CurrentData['RSI'], CurrentData['RSI'], window=lengthStoch, smooth_window=smoothK).stoch()\n",
    "# Calculate the smoothed K value\n",
    "CurrentData['StochRSI'+str(lengthRSI)+'_'+str(lengthStoch)] = round(CurrentData['StochRSI'].rolling(window=smoothK).mean(),2)\n",
    "CurrentData.drop(columns=['RSI','StochRSI'], inplace=True) #drop extra columns\n",
    "\n",
    "CurrentData['CandleRange'] = round(CurrentData.Highp - CurrentData.Lowp,2)  #price range of candle $\n",
    "CurrentData['PChange'] = round(CurrentData['CandleRange']/CurrentData['OpenPrice']*100,2) #create PChange to filter for first candles\n",
    "\n",
    "gapadd = CurrentData.groupby('Date').Time.max().to_frame().reset_index().merge(CurrentData.groupby('Date').Time.min().to_frame().reset_index(), on='Date')\n",
    "gapadd.rename(columns={'Time_x': 'CloseTime', 'Time_y': 'OpenTime'}, inplace=True)\n",
    "gapadd = CurrentData.merge(gapadd, on = 'Date')\n",
    "gapadd = CurrentData[(gapadd.Time==gapadd.CloseTime) | (gapadd.Time==gapadd.OpenTime)].sort_values(['Date','Time'])\n",
    "gapadd['DayGap'] = None\n",
    "for i in range(gapadd.shape[0]):\n",
    "    if i==0:\n",
    "        gapadd['DayGap'].iloc[i] = 0\n",
    "    elif i//2==i/2:\n",
    "        gapadd['DayGap'].iloc[i] = round((gapadd.OpenPrice.iloc[i]-gapadd.ClosePrice.iloc[i-1])/gapadd.ClosePrice.iloc[i-1]*100, 2)\n",
    "    else:\n",
    "        gapadd['DayGap'].iloc[i] = gapadd['DayGap'].iloc[i-1]\n",
    "CurrentData = CurrentData.merge(gapadd[gapadd.Time=='16:30:00'][['Date','DayGap']], on='Date') \n",
    "CurrentData.DayGap = CurrentData.DayGap.astype(float)\n",
    "\n",
    "dayrang = CurrentData.groupby('Date').Highp.max().to_frame().reset_index().merge(CurrentData.groupby('Date').Lowp.min().to_frame().reset_index(), on='Date')\n",
    "dayrang.rename(columns={'Highp_x': 'DayHigh', 'Lowp_x': 'DayLow'}, inplace=True)\n",
    "dayrang['DayRange'] = round(dayrang['Highp']-dayrang['Lowp'],2)\n",
    "CurrentData = CurrentData.merge(dayrang[['Date','DayRange']], on='Date') \n",
    "CurrentData.DayGap = CurrentData.DayGap.astype(float)\n",
    "\n",
    "CurrentData.drop(columns='VWAP', inplace=True)   # Fix VWAP Values\n",
    "CurrentData['Date'] = pd.to_datetime(CurrentData['Date'])\n",
    "CurrentData['TypicalPrice'] = (CurrentData['Highp'] + CurrentData['Lowp'] + CurrentData['ClosePrice']) / 3\n",
    "CurrentData['TPxVol'] = CurrentData['TypicalPrice'] * CurrentData['Volume']\n",
    "CurrentData['VWAP'] = CurrentData.groupby('Date')['TPxVol'].cumsum() / CurrentData.groupby('Date')['Volume'].cumsum()\n",
    "CurrentData['VWAP'] = CurrentData['VWAP'].round(2)\n",
    "CurrentData.drop(columns=['TypicalPrice', 'TPxVol'], inplace=True)\n",
    "CurrentData = CurrentData.rename(columns={'StochRSI'+str(lengthRSI)+'_'+str(lengthStoch):'StochRSI'})\n",
    "CurrentData.sample(n=5)"
   ]
  },
  {
   "cell_type": "markdown",
   "id": "b88e23b0",
   "metadata": {},
   "source": [
    "## ------------- Trading Strategy Parts: -------------"
   ]
  },
  {
   "cell_type": "code",
   "execution_count": 4,
   "id": "af2c0da8",
   "metadata": {},
   "outputs": [],
   "source": [
    "def TimeToPeak(PeakTime, EntryTime):\n",
    "    time_obj1 = datetime.strptime(PeakTime, '%H:%M:%S').time()\n",
    "    time_obj2 = datetime.strptime(EntryTime, '%H:%M:%S').time()\n",
    "    time_difference = datetime.combine(datetime.today(), time_obj1) - datetime.combine(datetime.today(), time_obj2)\n",
    "    return(str(time_difference)[:4])"
   ]
  },
  {
   "cell_type": "code",
   "execution_count": 5,
   "id": "6485fd12",
   "metadata": {},
   "outputs": [],
   "source": [
    "def RstVarbls(k):\n",
    "    global CurrHigh, CurrLow, RSICross, PeakTime, CloseIndex, StopSize, StoProgEnt, StoProgReach, StopPrice, TradeRes, Direction\n",
    "    CurrHigh = 0 ; CurrLow = 0 ; RSICross = 'No' ; PeakTime = '' ; CloseIndex = k ; StopSize = '' ; \n",
    "    StoProgEnt = '' ; StoProgReach = '' ; StopPrice = '' ; TradeRes = '' ; Direction = '' ; \n",
    "    \n",
    "def UpdtEntryPrmtrs(j):\n",
    "    global CurrHigh, CurrLow, SetUpCandleIndex\n",
    "    CurrHigh = RSITest.loc[j].Highp\n",
    "    CurrLow = RSITest.loc[j].Lowp\n",
    "    SetUpCandleIndex = j\n",
    "    \n",
    "def RstNewDay(DayStartTime,j):\n",
    "    global CurrDate, dailyTNum, CurrHigh, CurrLow\n",
    "    if RSITest.loc[j].Time == DayStartTime:\n",
    "        CurrDate = RSITest.loc[j].Date\n",
    "        dailyTNum = 1 ; \n",
    "        CurrHigh = 0 ; CurrLow = 0"
   ]
  },
  {
   "cell_type": "code",
   "execution_count": 6,
   "id": "0a19a297",
   "metadata": {},
   "outputs": [],
   "source": [
    "def RessToTabls(RSIStrattData):\n",
    "    RSIStratRes = pd.DataFrame(RSIStrattData).sort_values(['Date','EntryTime'], ascending=True)\n",
    "    RSIStratRes.loc[RSIStratRes['LossDist'] > 100, 'LossDist'] = 100  #fix LossDist above 100 (candle after entry lost immediately)\n",
    "    RSIStratRes.loc[RSIStratRes['LossDist'] < 0, 'LossDist'] = 0  #fix LossDist below 0 (after entry+before peak: price was above entry)\n",
    "    return (RSIStratRes)\n",
    "    \n",
    "def WFChartTabl(WFChart):\n",
    "    global LossCount,WinCount\n",
    "    WFChart = pd.DataFrame(WFChart).sort_values(by='Date')\n",
    "    LossCount = WFChart[WFChart.R_Result==-1*InnerStop].count()[0] ; WinCount = WFChart[WFChart.R_Result==ProfitRatio].count()[0]\n",
    "    WFChart['Cumulative_R_Result'] = WFChart['R_Result'].cumsum()\n",
    "    WFChart['YYMM'] = WFChart.Date.astype(str).str[:-3]\n",
    "    return (WFChart)\n",
    "\n",
    "def MonthlyWFChart(WFChart):   \n",
    "    WFChartMonthly = WFChart.groupby('YYMM').sum('R_Result').R_Result.to_frame()\n",
    "    WFChartMonthly.reset_index(inplace=True)\n",
    "    WFChartMonthly['MonthlyCumSum'] = WFChartMonthly.R_Result.cumsum()\n",
    "    return (WFChartMonthly)"
   ]
  },
  {
   "cell_type": "code",
   "execution_count": 7,
   "id": "11b74c9f",
   "metadata": {},
   "outputs": [],
   "source": [
    "def update_WFChart(CurrDate,TradeRes,EntryPrice,k,InnerStop,ProfitRatio,Direction):\n",
    "    global WFChart\n",
    "    WFChart['Date'].append(CurrDate)\n",
    "    WFChart['Outcome'].append(TradeRes)    \n",
    "    if TradeRes == 'DayEnd':\n",
    "        if Direction == 'Short':\n",
    "            WFChart['R_Result'].append(round((EntryPrice - RSITest.loc[k].ClosePrice) / StopSize, 2))\n",
    "        elif Direction == 'Long':\n",
    "            WFChart['R_Result'].append(round((RSITest.loc[k].ClosePrice - EntryPrice) / StopSize, 2))\n",
    "    elif TradeRes == 'Loss':\n",
    "        WFChart['R_Result'].append(-1 * InnerStop)\n",
    "    else:\n",
    "        WFChart['R_Result'].append(ProfitRatio)"
   ]
  },
  {
   "cell_type": "code",
   "execution_count": 8,
   "id": "7f2c8505",
   "metadata": {},
   "outputs": [],
   "source": [
    "def OpTrDataClct(dailyTNum,j,StopSize,Direction,SetUpCandleIndex):  #collect data when opening trade\n",
    "        global RSIStrattData\n",
    "        RSIStrattData['DayTNum'].append(dailyTNum)\n",
    "        RSIStrattData['EntryTime'].append(RSITest.loc[j].Time)\n",
    "        #RSIStrattData['Ticker'].append(RSITest.loc[j].ticker)  \n",
    "        RSIStrattData['Date'].append(RSITest.loc[j].Date)  \n",
    "        RSIStrattData['StopSize'].append(StopSize)\n",
    "        RSIStrattData['Position'].append(Direction)\n",
    "        RSIStrattData['SetPChange'].append(RSITest.loc[SetUpCandleIndex].PChange)\n",
    "        RSIStrattData['SetCandHi'].append(RSITest.loc[SetUpCandleIndex].Highp)  \n",
    "        RSIStrattData['SetCandLo'].append(RSITest.loc[SetUpCandleIndex].Lowp)  \n",
    "        RSIStrattData['SetCandOp'].append(RSITest.loc[SetUpCandleIndex].OpenPrice)  \n",
    "        RSIStrattData['SetCandClo'].append(RSITest.loc[SetUpCandleIndex].ClosePrice)"
   ]
  },
  {
   "cell_type": "code",
   "execution_count": 9,
   "id": "0d2ffe9d",
   "metadata": {},
   "outputs": [],
   "source": [
    "def TrEntVarbs(CurrLow,EntrDeviat,CurrHigh,InnerStop,j,Direction,SetUpCandleIndex):\n",
    "    global dailyTNum,EntryPrice,StopSize,StopPrice,CloseIndex,EntryTime,PeakTime,LossDistHold,LossDist,EntryPrice,StopSize,StopPrice,dailyTNum\n",
    "    if Direction == 'Short':\n",
    "        EntryPrice = CurrLow-0.01-EntrDeviat            \n",
    "        StopSize = (CurrHigh-EntryPrice)*InnerStop  #variables for trade close calculations\n",
    "        StopPrice = EntryPrice + StopSize \n",
    "        LossDistHold = RSITest.loc[j+1].Highp\n",
    "    elif Direction == 'Long':        \n",
    "        EntryPrice = CurrHigh+0.01+EntrDeviat           \n",
    "        StopSize = (EntryPrice-CurrLow)*InnerStop #long\n",
    "        StopPrice = EntryPrice - StopSize\n",
    "        LossDistHold = RSITest.loc[j+1].Lowp\n",
    "    CloseIndex = 0                                                                                                  \n",
    "    OpTrDataClct(dailyTNum,j,StopSize,Direction,SetUpCandleIndex)\n",
    "    EntryTime = RSITest.loc[j].Time\n",
    "    PeakTime = RSITest.loc[j].Time\n",
    "    LossDist = LossDistHold         \n",
    "    dailyTNum += 1"
   ]
  },
  {
   "cell_type": "code",
   "execution_count": 10,
   "id": "9912b7fb",
   "metadata": {},
   "outputs": [],
   "source": [
    "#def TrClsDataClct (EntryPrice,CurrLow,StopSize,StopPrice,LossDist,RSICross,TradeRes,PeakTime,StoProgReach,StoProgEnt,PeakIndex,k,CurrHigh):  \n",
    "def TrClsDataClct(Direction,k,CurrLow,CurrHigh,PeakTime,EntryTime,EntryPrice,StopSize,StopPrice,LossDist,RSICross,TradeRes,StoProgReach,StoProgEnt):  \n",
    "    global RSIStrattData\n",
    "    if Direction == 'Short':\n",
    "        RSIStrattData['PriceToPeak'].append(round(EntryPrice-CurrLow,2)) #Close trade\n",
    "        RSIStrattData['RMax'].append(round((EntryPrice-CurrLow)/StopSize,2))\n",
    "        RSIStrattData['PChangePeak'].append(round((EntryPrice-CurrLow)/EntryPrice*100,2))\n",
    "        RSIStrattData['LossDist'].append(100-round((StopPrice-LossDist)/StopSize*100,0))\n",
    "        RSIStrattData['RSICross'].append(RSICross)\n",
    "        RSIStrattData['Result'].append(TradeRes)                    \n",
    "        RSIStrattData['TimeToPeak'].append(TimeToPeak(PeakTime,EntryTime))\n",
    "        if StoProgReach == '':\n",
    "            RSIStrattData['B2Entry'].append('Didnt Reach')    \n",
    "        elif StoProgEnt == '':\n",
    "            RSIStrattData['B2Entry'].append('Continued')    \n",
    "        elif StoProgEnt < PeakIndex:\n",
    "            RSIStrattData['B2Entry'].append('Before Peak')\n",
    "        elif StoProgEnt == PeakIndex:                        \n",
    "            RSIStrattData['B2Entry'].append('Rocket Candle') #From Entry to Profit in 1 Candle\n",
    "        else:\n",
    "            RSIStrattData['B2Entry'].append('After Peak')\n",
    "        if TradeRes == 'DayEnd':\n",
    "            if RSITest.loc[k].Time=='22:55:00':\n",
    "                RSIStrattData['CloseTime'].append(RSITest.loc[k].Time) \n",
    "            else:\n",
    "                RSIStrattData['CloseTime'].append(RSITest.loc[k-1].Time)\n",
    "        else:    \n",
    "            RSIStrattData['CloseTime'].append(RSITest.loc[k].Time) \n",
    "    elif Direction == 'Long':\n",
    "        RSIStrattData['PriceToPeak'].append(round(CurrHigh-EntryPrice,2)) #Close trade\n",
    "        RSIStrattData['RMax'].append(round((CurrHigh-EntryPrice)/StopSize,2))\n",
    "        RSIStrattData['PChangePeak'].append(round((CurrHigh-EntryPrice)/EntryPrice*100,2))\n",
    "        RSIStrattData['LossDist'].append(100-round((LossDist-StopPrice)/StopSize*100,0))\n",
    "        RSIStrattData['RSICross'].append(RSICross)\n",
    "        RSIStrattData['Result'].append(TradeRes)\n",
    "        RSIStrattData['TimeToPeak'].append(TimeToPeak(PeakTime,EntryTime))\n",
    "        if StoProgReach == '':\n",
    "            RSIStrattData['B2Entry'].append('Didnt Reach')\n",
    "        elif StoProgEnt == '':\n",
    "            RSIStrattData['B2Entry'].append('Continued')                    \n",
    "        elif StoProgEnt < PeakIndex:\n",
    "            RSIStrattData['B2Entry'].append('Before Peak')\n",
    "        elif StoProgEnt == PeakIndex:                        \n",
    "            RSIStrattData['B2Entry'].append('Rocket Candle') #From Entry to Profit in 1 Candle\n",
    "        else:\n",
    "            RSIStrattData['B2Entry'].append('After Peak')\n",
    "        if TradeRes == 'DayEnd':\n",
    "            if RSITest.loc[k].Time=='22:55:00':\n",
    "                RSIStrattData['CloseTime'].append(RSITest.loc[k].Time) \n",
    "            else:\n",
    "                RSIStrattData['CloseTime'].append(RSITest.loc[k-1].Time)\n",
    "        else:    \n",
    "            RSIStrattData['CloseTime'].append(RSITest.loc[k].Time) "
   ]
  },
  {
   "cell_type": "code",
   "execution_count": 11,
   "id": "8bd3e0c3",
   "metadata": {},
   "outputs": [],
   "source": [
    "### define Conditions ###\n",
    "DayStartTime = '16:30:00'\n",
    "EntryTimeCondit = (\"(\"\"(RSITest.loc[j].Time<='17:50:00')|\"\"((RSITest.loc[j].Time>='18:15:00')&(RSITest.loc[j].Time<='19:00:00'))|\"\n",
    "\"((RSITest.loc[j].Time>='19:30:00')&(RSITest.loc[j].Time<='20:25:00'))|\"\"((RSITest.loc[j].Time>='21:00:00')&(RSITest.loc[j].Time<='22:00:00'))\"\")\")\n",
    "EntryStopConditLo  = (\"(RSITest.loc[SetUpCandleIndex].PChange<=MaxSetPChange) and ((CurrHigh+0.01+EntrDeviat-CurrLow)*InnerStop<=MaxStopSize)\")\n",
    "EntryStopConditSho = (\"(RSITest.loc[SetUpCandleIndex].PChange<=MaxSetPChange) and ((CurrHigh-CurrLow-0.01-EntrDeviat)*InnerStop<=MaxStopSize)\")"
   ]
  },
  {
   "cell_type": "code",
   "execution_count": 12,
   "id": "90d84c41",
   "metadata": {},
   "outputs": [],
   "source": [
    "def ExtraPrmtrs(k,EntryPrice,StopSize,StoprogStp,StoProgP,Direction):\n",
    "    global LossDistHold,StoProgEnt,CurrLow,CurrHigh,PeakTime,PeakIndex,LossDist,StoProgReach\n",
    "    if Direction == 'Short':\n",
    "        if LossDistHold < RSITest.loc[k].Highp:\n",
    "            LossDistHold = RSITest.loc[k].Highp \n",
    "        if (StoProgReach == 'yes') and (RSITest.loc[k].Highp >= EntryPrice+(StopSize*StoprogStp)) and (StoProgEnt==''):\n",
    "            StoProgEnt = k\n",
    "        if RSITest.loc[k].Lowp < CurrLow:  #update variables with new low (new peak)\n",
    "            CurrLow = RSITest.loc[k].Lowp\n",
    "            PeakTime = RSITest.loc[k].Time\n",
    "            PeakIndex = k\n",
    "            LossDist = LossDistHold\n",
    "        if RSITest.loc[k].Lowp < EntryPrice-(StopSize*StoProgP):  #checkpoint for return to entry\n",
    "            StoProgReach = 'yes'\n",
    "    if Direction == 'Long':\n",
    "        if LossDistHold > RSITest.loc[k].Lowp:\n",
    "            LossDistHold = RSITest.loc[k].Lowp  \n",
    "        if (StoProgReach == 'yes') and (RSITest.loc[k].Lowp <= EntryPrice-(StopSize*StoprogStp)) and (StoProgEnt==''):\n",
    "            StoProgEnt = k\n",
    "        if RSITest.loc[k].Highp > CurrHigh:\n",
    "            CurrHigh = RSITest.loc[k].Highp\n",
    "            PeakTime = RSITest.loc[k].Time\n",
    "            PeakIndex = k\n",
    "            LossDist = LossDistHold\n",
    "        if RSITest.loc[k].Highp > EntryPrice+(StopSize*StoProgP):  #checkpoint for return to entry\n",
    "            StoProgReach = 'yes'\n",
    "        "
   ]
  },
  {
   "cell_type": "code",
   "execution_count": 13,
   "id": "56e62f84",
   "metadata": {},
   "outputs": [],
   "source": [
    "def LFLongTrd(j,MinRSI,MaxRSI,EntrDeviat,CurrDate,EntryTimeCondit,EntryStopConditLo,LateEnt,InnerStop):\n",
    "    global Engulfing_candles,RSIStrattData,WFChart,RSICross,dailyTNum\n",
    "    global CurrHigh,CurrLow,CloseIndex, SetUpCandleIndex\n",
    "    global StopSize, StoProgEnt,StoProgReach, StopPrice,StoProgEnt\n",
    "    global PeakTime,PeakIndex,EntryTime,EntryPrice\n",
    "    global LossDistHold,LossDist\n",
    "\n",
    "\n",
    "    if (CurrHigh == 0) or (RSITest.loc[j-1].StochRSI>MinRSI):  #get first values for highs/lows\n",
    "        UpdtEntryPrmtrs(j)\n",
    "    elif (RSITest.loc[j].Lowp < CurrLow) and (RSITest.loc[j].Highp > CurrHigh):\n",
    "        Engulfing_candles += 1 #count candles where we dont know if it was an entry with new high or immediate loss \n",
    "        UpdtEntryPrmtrs(j)\n",
    "    elif RSITest.loc[j].Lowp <= CurrLow: #update high and low\n",
    "        UpdtEntryPrmtrs(j)\n",
    "    elif (RSITest.loc[j].Highp>(CurrHigh+EntrDeviat) and RSITest.loc[j].Lowp<=(CurrHigh+EntrDeviat)) and (RSITest.loc[j-1].Date == CurrDate) and eval(EntryTimeCondit) and eval(EntryStopConditLo) and SetUpCandleIndex+LateEnt>=j: #open trade, make sure its in same day\n",
    "        Direction = \"Long\"                                    \n",
    "        TrEntVarbs(CurrLow,EntrDeviat,CurrHigh,InnerStop,j,Direction,SetUpCandleIndex)\n",
    "        for k in range (j+1, RSITest.head(1).index[0]+RSITest.shape[0]): \n",
    "            if (not CurrDate==RSITest.loc[k].Date) or (RSITest.loc[k].Time=='22:55:00'):  #avoid day change  \n",
    "                TradeRes = 'DayEnd'\n",
    "                TrClsDataClct(Direction,k,CurrLow,CurrHigh,PeakTime,EntryTime,EntryPrice,StopSize,StopPrice,LossDist,RSICross,TradeRes,StoProgReach,StoProgEnt)\n",
    "                update_WFChart(CurrDate,TradeRes,EntryPrice,k,InnerStop,ProfitRatio,Direction)\n",
    "                RstVarbls(k)\n",
    "                break\n",
    "            if RSITest.loc[k].StochRSI > MaxRSI:\n",
    "                RSICross = 'Yes'\n",
    "            if RSITest.loc[k].Lowp <= StopPrice:\n",
    "                TradeRes = 'Loss'\n",
    "                TrClsDataClct(Direction,k,CurrLow,CurrHigh,PeakTime,EntryTime,EntryPrice,StopSize,StopPrice,LossDist,RSICross,TradeRes,StoProgReach,StoProgEnt)\n",
    "                update_WFChart(CurrDate,TradeRes,EntryPrice,k,InnerStop,ProfitRatio,Direction)                      \n",
    "                RstVarbls(k)\n",
    "                break\n",
    "            ExtraPrmtrs(k,EntryPrice,StopSize,StoprogStp,StoProgP,Direction)\n",
    "            if RSITest.loc[k].Highp >= EntryPrice+(ProfitRatio*StopSize):\n",
    "                TradeRes = 'Win'\n",
    "                TrClsDataClct(Direction,k,CurrLow,CurrHigh,PeakTime,EntryTime,EntryPrice,StopSize,StopPrice,LossDist,RSICross,TradeRes,StoProgReach,StoProgEnt)\n",
    "                update_WFChart(CurrDate,TradeRes,EntryPrice,k,InnerStop,ProfitRatio,Direction)                       \n",
    "                RstVarbls(k)\n",
    "                break"
   ]
  },
  {
   "cell_type": "code",
   "execution_count": 14,
   "id": "130111ee",
   "metadata": {},
   "outputs": [],
   "source": [
    "def LFShrtTrd(j,MinRSI,MaxRSI,EntrDeviat,CurrDate,EntryTimeCondit,EntryStopConditSho,LateEnt,InnerStop):\n",
    "    global Engulfing_candles,RSIStrattData,WFChart,RSICross,dailyTNum\n",
    "    global CurrHigh,CurrLow,CloseIndex, SetUpCandleIndex\n",
    "    global StopSize, StoProgEnt,StoProgReach, StopPrice,StoProgEnt\n",
    "    global PeakTime,PeakIndex,EntryTime,EntryPrice\n",
    "    global LossDistHold,LossDist\n",
    "\n",
    "\n",
    "    if (CurrHigh == 0) or (RSITest.loc[j-1].StochRSI<80):  #get first values for highs/lows (also if returned to outer RSI second time)\n",
    "            UpdtEntryPrmtrs(j)\n",
    "    elif (RSITest.loc[j].Lowp < CurrLow) and (RSITest.loc[j].Highp > CurrHigh):\n",
    "        Engulfing_candles += 1 #count candles where we dont know if it was an entry with new high or immediate loss and update high/low  \n",
    "        UpdtEntryPrmtrs(j)\n",
    "    elif RSITest.loc[j].Highp >= CurrHigh: #update high and low\n",
    "        UpdtEntryPrmtrs(j)\n",
    "    elif (RSITest.loc[j].Lowp<(CurrLow-EntrDeviat)and(RSITest.loc[j].Highp>=(CurrLow-EntrDeviat))) and (RSITest.loc[j-1].Date == CurrDate) and eval(EntryTimeCondit) and eval(EntryStopConditSho) and SetUpCandleIndex+LateEnt>=j: #open trade, make sure its in same day and not 22:55\n",
    "        Direction = \"Short\"                                   \n",
    "        TrEntVarbs(CurrLow,EntrDeviat,CurrHigh,InnerStop,j,Direction,SetUpCandleIndex)         \n",
    "        for k in range (j+1, RSITest.head(1).index[0]+RSITest.shape[0]): \n",
    "            if (not CurrDate==RSITest.loc[k].Date) or (RSITest.loc[k].Time=='22:55:00'):  #avoid day change \n",
    "                TradeRes = 'DayEnd'                    \n",
    "                TrClsDataClct(Direction,k,CurrLow,CurrHigh,PeakTime,EntryTime,EntryPrice,StopSize,StopPrice,LossDist,RSICross,TradeRes,StoProgReach,StoProgEnt)\n",
    "                update_WFChart(CurrDate,TradeRes,EntryPrice,k,InnerStop,ProfitRatio,Direction)\n",
    "                RstVarbls(k)\n",
    "                break\n",
    "            if RSITest.loc[k].StochRSI < MinRSI:   #did RSI cross\n",
    "                RSICross = 'Yes'\n",
    "            if RSITest.loc[k].Highp >= EntryPrice+StopSize:  #Close trade Loss\n",
    "                TradeRes = 'Loss'                    \n",
    "                TrClsDataClct(Direction,k,CurrLow,CurrHigh,PeakTime,EntryTime,EntryPrice,StopSize,StopPrice,LossDist,RSICross,TradeRes,StoProgReach,StoProgEnt)\n",
    "                update_WFChart(CurrDate,TradeRes,EntryPrice,k,InnerStop,ProfitRatio,Direction)\n",
    "                RstVarbls(k)\n",
    "                break\n",
    "            ExtraPrmtrs(k,EntryPrice,StopSize,StoprogStp,StoProgP,Direction)\n",
    "            if RSITest.loc[k].Lowp <= EntryPrice-(StopSize*ProfitRatio):  #Close trade Win\n",
    "                TradeRes = 'Win'\n",
    "                TrClsDataClct(Direction,k,CurrLow,CurrHigh,PeakTime,EntryTime,EntryPrice,StopSize,StopPrice,LossDist,RSICross,TradeRes,StoProgReach,StoProgEnt)\n",
    "                update_WFChart(CurrDate,TradeRes,EntryPrice,k,InnerStop,ProfitRatio,Direction)\n",
    "                RstVarbls(k)\n",
    "                break"
   ]
  },
  {
   "cell_type": "markdown",
   "id": "f5af19b2",
   "metadata": {},
   "source": [
    "## ------------- Main: -------------"
   ]
  },
  {
   "cell_type": "code",
   "execution_count": 21,
   "id": "005f4515",
   "metadata": {},
   "outputs": [
    {
     "name": "stdout",
     "output_type": "stream",
     "text": [
      "Dates tested: 2023-01-03 - 2023-11-22\n",
      "Total Trades: 856\n",
      "Loss count = 558\n",
      "Win count = 245\n",
      "trades that didn't close = 53\n",
      "Profit: 221.27R\n"
     ]
    },
    {
     "data": {
      "image/png": "[encoded data removed]",
      "text/plain": [
       "<Figure size 2200x800 with 1 Axes>"
      ]
     },
     "metadata": {},
     "output_type": "display_data"
    },
    {
     "data": {
      "text/html": [
       "<div>\n",
       "<style scoped>\n",
       "    .dataframe tbody tr th:only-of-type {\n",
       "        vertical-align: middle;\n",
       "    }\n",
       "\n",
       "    .dataframe tbody tr th {\n",
       "        vertical-align: top;\n",
       "    }\n",
       "\n",
       "    .dataframe thead th {\n",
       "        text-align: right;\n",
       "    }\n",
       "</style>\n",
       "<table border=\"1\" class=\"dataframe\">\n",
       "  <thead>\n",
       "    <tr style=\"text-align: right;\">\n",
       "      <th></th>\n",
       "      <th>Position</th>\n",
       "      <th>Result</th>\n",
       "      <th>Date</th>\n",
       "      <th>EntryTime</th>\n",
       "      <th>CloseTime</th>\n",
       "      <th>TimeToPeak</th>\n",
       "      <th>StopSize</th>\n",
       "      <th>PriceToPeak</th>\n",
       "      <th>RMax</th>\n",
       "      <th>PChangePeak</th>\n",
       "      <th>LossDist</th>\n",
       "      <th>B2Entry</th>\n",
       "      <th>RSICross</th>\n",
       "      <th>DayTNum</th>\n",
       "      <th>SetPChange</th>\n",
       "      <th>SetCandHi</th>\n",
       "      <th>SetCandLo</th>\n",
       "      <th>SetCandOp</th>\n",
       "      <th>SetCandClo</th>\n",
       "    </tr>\n",
       "  </thead>\n",
       "  <tbody>\n",
       "    <tr>\n",
       "      <th>0</th>\n",
       "      <td>Short</td>\n",
       "      <td>Win</td>\n",
       "      <td>2023-01-03</td>\n",
       "      <td>16:45:00</td>\n",
       "      <td>17:05:00</td>\n",
       "      <td>0:20</td>\n",
       "      <td>1.20</td>\n",
       "      <td>3.68</td>\n",
       "      <td>3.07</td>\n",
       "      <td>1.37</td>\n",
       "      <td>0.0</td>\n",
       "      <td>Continued</td>\n",
       "      <td>Yes</td>\n",
       "      <td>1</td>\n",
       "      <td>0.44</td>\n",
       "      <td>270.15</td>\n",
       "      <td>268.96</td>\n",
       "      <td>269.43</td>\n",
       "      <td>269.10</td>\n",
       "    </tr>\n",
       "    <tr>\n",
       "      <th>1</th>\n",
       "      <td>Long</td>\n",
       "      <td>Loss</td>\n",
       "      <td>2023-01-03</td>\n",
       "      <td>17:40:00</td>\n",
       "      <td>18:10:00</td>\n",
       "      <td>0:20</td>\n",
       "      <td>0.84</td>\n",
       "      <td>0.93</td>\n",
       "      <td>1.11</td>\n",
       "      <td>0.35</td>\n",
       "      <td>52.0</td>\n",
       "      <td>After Peak</td>\n",
       "      <td>Yes</td>\n",
       "      <td>2</td>\n",
       "      <td>0.31</td>\n",
       "      <td>264.56</td>\n",
       "      <td>263.73</td>\n",
       "      <td>264.56</td>\n",
       "      <td>263.94</td>\n",
       "    </tr>\n",
       "    <tr>\n",
       "      <th>2</th>\n",
       "      <td>Short</td>\n",
       "      <td>Loss</td>\n",
       "      <td>2023-01-03</td>\n",
       "      <td>19:40:00</td>\n",
       "      <td>20:25:00</td>\n",
       "      <td>0:05</td>\n",
       "      <td>0.44</td>\n",
       "      <td>0.99</td>\n",
       "      <td>2.25</td>\n",
       "      <td>0.38</td>\n",
       "      <td>0.0</td>\n",
       "      <td>Continued</td>\n",
       "      <td>No</td>\n",
       "      <td>3</td>\n",
       "      <td>0.16</td>\n",
       "      <td>263.56</td>\n",
       "      <td>263.13</td>\n",
       "      <td>263.46</td>\n",
       "      <td>263.19</td>\n",
       "    </tr>\n",
       "    <tr>\n",
       "      <th>3</th>\n",
       "      <td>Short</td>\n",
       "      <td>Loss</td>\n",
       "      <td>2023-01-03</td>\n",
       "      <td>21:10:00</td>\n",
       "      <td>21:45:00</td>\n",
       "      <td>0:20</td>\n",
       "      <td>0.71</td>\n",
       "      <td>0.69</td>\n",
       "      <td>0.97</td>\n",
       "      <td>0.26</td>\n",
       "      <td>63.0</td>\n",
       "      <td>Didnt Reach</td>\n",
       "      <td>Yes</td>\n",
       "      <td>4</td>\n",
       "      <td>0.27</td>\n",
       "      <td>264.16</td>\n",
       "      <td>263.46</td>\n",
       "      <td>263.81</td>\n",
       "      <td>263.65</td>\n",
       "    </tr>\n",
       "    <tr>\n",
       "      <th>4</th>\n",
       "      <td>Short</td>\n",
       "      <td>Loss</td>\n",
       "      <td>2023-01-03</td>\n",
       "      <td>21:55:00</td>\n",
       "      <td>22:15:00</td>\n",
       "      <td>0:10</td>\n",
       "      <td>0.71</td>\n",
       "      <td>0.05</td>\n",
       "      <td>0.07</td>\n",
       "      <td>0.02</td>\n",
       "      <td>94.0</td>\n",
       "      <td>Didnt Reach</td>\n",
       "      <td>No</td>\n",
       "      <td>5</td>\n",
       "      <td>0.26</td>\n",
       "      <td>264.88</td>\n",
       "      <td>264.18</td>\n",
       "      <td>264.84</td>\n",
       "      <td>264.38</td>\n",
       "    </tr>\n",
       "    <tr>\n",
       "      <th>5</th>\n",
       "      <td>Long</td>\n",
       "      <td>Win</td>\n",
       "      <td>2023-01-04</td>\n",
       "      <td>17:15:00</td>\n",
       "      <td>18:30:00</td>\n",
       "      <td>1:15</td>\n",
       "      <td>0.93</td>\n",
       "      <td>3.37</td>\n",
       "      <td>3.62</td>\n",
       "      <td>1.28</td>\n",
       "      <td>65.0</td>\n",
       "      <td>Continued</td>\n",
       "      <td>Yes</td>\n",
       "      <td>1</td>\n",
       "      <td>0.35</td>\n",
       "      <td>263.45</td>\n",
       "      <td>262.53</td>\n",
       "      <td>263.35</td>\n",
       "      <td>263.38</td>\n",
       "    </tr>\n",
       "    <tr>\n",
       "      <th>6</th>\n",
       "      <td>Short</td>\n",
       "      <td>Loss</td>\n",
       "      <td>2023-01-04</td>\n",
       "      <td>18:45:00</td>\n",
       "      <td>18:55:00</td>\n",
       "      <td>0:05</td>\n",
       "      <td>0.24</td>\n",
       "      <td>0.26</td>\n",
       "      <td>1.08</td>\n",
       "      <td>0.10</td>\n",
       "      <td>42.0</td>\n",
       "      <td>Continued</td>\n",
       "      <td>No</td>\n",
       "      <td>2</td>\n",
       "      <td>0.09</td>\n",
       "      <td>267.44</td>\n",
       "      <td>267.21</td>\n",
       "      <td>267.21</td>\n",
       "      <td>267.27</td>\n",
       "    </tr>\n",
       "  </tbody>\n",
       "</table>\n",
       "</div>"
      ],
      "text/plain": [
       "  Position Result       Date EntryTime CloseTime TimeToPeak  StopSize  \\\n",
       "0    Short    Win 2023-01-03  16:45:00  17:05:00       0:20      1.20   \n",
       "1     Long   Loss 2023-01-03  17:40:00  18:10:00       0:20      0.84   \n",
       "2    Short   Loss 2023-01-03  19:40:00  20:25:00       0:05      0.44   \n",
       "3    Short   Loss 2023-01-03  21:10:00  21:45:00       0:20      0.71   \n",
       "4    Short   Loss 2023-01-03  21:55:00  22:15:00       0:10      0.71   \n",
       "5     Long    Win 2023-01-04  17:15:00  18:30:00       1:15      0.93   \n",
       "6    Short   Loss 2023-01-04  18:45:00  18:55:00       0:05      0.24   \n",
       "\n",
       "   PriceToPeak  RMax  PChangePeak  LossDist      B2Entry RSICross  DayTNum  \\\n",
       "0         3.68  3.07         1.37       0.0    Continued      Yes        1   \n",
       "1         0.93  1.11         0.35      52.0   After Peak      Yes        2   \n",
       "2         0.99  2.25         0.38       0.0    Continued       No        3   \n",
       "3         0.69  0.97         0.26      63.0  Didnt Reach      Yes        4   \n",
       "4         0.05  0.07         0.02      94.0  Didnt Reach       No        5   \n",
       "5         3.37  3.62         1.28      65.0    Continued      Yes        1   \n",
       "6         0.26  1.08         0.10      42.0    Continued       No        2   \n",
       "\n",
       "   SetPChange  SetCandHi  SetCandLo  SetCandOp  SetCandClo  \n",
       "0        0.44     270.15     268.96     269.43      269.10  \n",
       "1        0.31     264.56     263.73     264.56      263.94  \n",
       "2        0.16     263.56     263.13     263.46      263.19  \n",
       "3        0.27     264.16     263.46     263.81      263.65  \n",
       "4        0.26     264.88     264.18     264.84      264.38  \n",
       "5        0.35     263.45     262.53     263.35      263.38  \n",
       "6        0.09     267.44     267.21     267.21      267.27  "
      ]
     },
     "execution_count": 21,
     "metadata": {},
     "output_type": "execute_result"
    }
   ],
   "source": [
    "## Filter Data:\n",
    "RSITest = CurrentData[CurrentData.Time>=DayStartTime] #filter day start time\n",
    "RSITest = RSITest[RSITest.Date>='2023-01-01'].reset_index() #filter data by start/end date (optional)\n",
    "\n",
    "## variables:\n",
    "ProfitRatio = 3 ; InnerStop = 1 ; StoProgP = 1 ; StoprogStp = 0.60 ; EntrDeviat = 0.00 ; MaxDayTNum = 8\n",
    "LateEnt = 4 ; LateEntRes = 5 ; MaxSetPChange = 0.44 ; MaxStopSize = 1.6 ; MaxRSI = 81 ; MinRSI = 20\n",
    "\n",
    "## space holders:\n",
    "WFChart = {'Date':[], 'Outcome': [],'R_Result': []} \n",
    "RSIStrattData = {'Position':[],'Result':[], 'Date':[],'EntryTime':[], 'CloseTime':[],'TimeToPeak':[],'StopSize':[], 'PriceToPeak':[], 'RMax':[],'PChangePeak':[],'LossDist':[],'B2Entry':[],'RSICross':[],'DayTNum':[],'SetPChange':[],'SetCandHi':[],'SetCandLo':[], 'SetCandOp':[], 'SetCandClo':[]} #empty results dictionary to create dataframe later\n",
    "Engulfing_candles = 0 ; dailyTNum = 1  ;  CurrHigh = 0 ; CurrLow = 0 ; SetUpCandleIndex = 0 ; CloseIndex = 0 \n",
    "TradeRes = '' ; Direction = '' ; LossDist = '' ; LossDistHold = ''\n",
    "PeakIndex = '' ; PeakTime = '' ; CurrDate = '' ; RSICross = 'No'\n",
    "StopPrice = '' ; StopSize = '' ; StoProgEnt = '' ; StoProgReach = ''\n",
    "\n",
    "## Loop:\n",
    "for j in range (RSITest.head(1).index[0], RSITest.head(1).index[0]+RSITest.shape[0]): #from first index till end of filtering\n",
    "    RstNewDay(DayStartTime,j)\n",
    "    if dailyTNum > MaxDayTNum:\n",
    "        continue\n",
    "    if (SetUpCandleIndex+LateEntRes<=j) and (not CurrHigh == 0): #reset values after few candles with no entry\n",
    "        CurrHigh = 0 ; CurrLow = 0\n",
    "    if ((RSITest.loc[j].StochRSI>MaxRSI) or ((not j-1==-1) and (RSITest.loc[j-1].StochRSI>MaxRSI))) and (j >= CloseIndex):\n",
    "        CloseIndex = 0\n",
    "        LFShrtTrd(j,MinRSI,MaxRSI,EntrDeviat,CurrDate,EntryTimeCondit,EntryStopConditSho,LateEnt,InnerStop)\n",
    "    elif ((RSITest.loc[j].StochRSI<MinRSI) or ((not j-1==-1) and (RSITest.loc[j-1].StochRSI<MinRSI))) and (j >= CloseIndex):\n",
    "        CloseIndex = 0\n",
    "        LFLongTrd(j,MinRSI,MaxRSI,EntrDeviat,CurrDate,EntryTimeCondit,EntryStopConditLo,LateEnt,InnerStop)\n",
    "\n",
    "## see results (not needed for automation)        \n",
    "RSIStratRes = RessToTabls(RSIStrattData)\n",
    "WFChart = WFChartTabl(WFChart)\n",
    "WFChartMonthly = MonthlyWFChart(WFChart)\n",
    "print (\"Dates tested:\", RSITest[0:1].Date.values[0].astype(str)[0:10], \"-\", RSITest[-1:].Date.values[0].astype(str)[0:10])\n",
    "print (\"Total Trades:\", str(RSIStratRes.shape[0]))\n",
    "print (\"Loss count =\", str(LossCount)) ;  print (\"Win count =\", str(WinCount))\n",
    "print (\"trades that didn't close =\", str(WFChart.Date.count()-LossCount-WinCount))\n",
    "print (\"Profit:\",str(round(WFChart['R_Result'].sum(),2))+\"R\")\n",
    "DayEndAvg = round((WFChart['R_Result'].sum()-(WinCount*3-LossCount))/(WFChart.Date.count()-LossCount-WinCount),2)\n",
    "\n",
    "WFChart['Cumulative_R_Result'] = WFChart['R_Result'].cumsum()\n",
    "WFChart['YYMM'] = WFChart.Date.astype(str).str[:-3]\n",
    "WFChartMonthly = WFChart.groupby('YYMM').sum('R_Result').R_Result.to_frame()\n",
    "WFChartMonthly.reset_index(inplace=True)\n",
    "WFChartMonthly['MonthlyCumSum'] = WFChartMonthly.R_Result.cumsum()\n",
    "plt.figure(figsize=(22, 8))\n",
    "plt.plot(WFChartMonthly['YYMM'], WFChartMonthly['MonthlyCumSum'])\n",
    "plt.grid(True, linestyle='--', linewidth=0.5)\n",
    "plt.show()\n",
    "\n",
    "RSIStratRes.head(7)"
   ]
  },
  {
   "cell_type": "markdown",
   "id": "bda681ff",
   "metadata": {},
   "source": [
    "### Tests, graphs, more:"
   ]
  },
  {
   "cell_type": "code",
   "execution_count": 22,
   "id": "4bc3a3d6",
   "metadata": {},
   "outputs": [
    {
     "data": {
      "image/png": "[encoded data removed]",
      "text/plain": [
       "<Figure size 640x480 with 1 Axes>"
      ]
     },
     "metadata": {},
     "output_type": "display_data"
    }
   ],
   "source": [
    "#days with winning trades that came last\n",
    "RSIStratRes3 = RSIStratRes[RSIStratRes.Result=='Win'].groupby('Date').DayTNum.min()\n",
    "RSIStratRes3 = RSIStratRes3.to_frame().reset_index()\n",
    "RSIStratRes3.sort_values('DayTNum',ascending=False).head(10)\n",
    "\n",
    "plt.hist(RSIStratRes3.DayTNum, bins=8, color='blue', edgecolor='black')\n",
    "plt.grid(True, linestyle='--', alpha=0.5)\n",
    "plt.title('Occurances Of First Daily Winning Trade Number')\n",
    "plt.xlabel('First Winning Trade Daily Number')\n",
    "plt.ylabel('How Many Days')\n",
    "plt.show()"
   ]
  },
  {
   "cell_type": "code",
   "execution_count": 23,
   "id": "6d45b79e",
   "metadata": {},
   "outputs": [
    {
     "name": "stdout",
     "output_type": "stream",
     "text": [
      "Profit Per Number Of Daily Trade\n"
     ]
    },
    {
     "data": {
      "text/html": [
       "<div>\n",
       "<style scoped>\n",
       "    .dataframe tbody tr th:only-of-type {\n",
       "        vertical-align: middle;\n",
       "    }\n",
       "\n",
       "    .dataframe tbody tr th {\n",
       "        vertical-align: top;\n",
       "    }\n",
       "\n",
       "    .dataframe thead th {\n",
       "        text-align: right;\n",
       "    }\n",
       "</style>\n",
       "<table border=\"1\" class=\"dataframe\">\n",
       "  <thead>\n",
       "    <tr style=\"text-align: right;\">\n",
       "      <th></th>\n",
       "      <th>DayTNum</th>\n",
       "      <th>RResult</th>\n",
       "      <th>NTrades</th>\n",
       "      <th>ProfitRate</th>\n",
       "    </tr>\n",
       "  </thead>\n",
       "  <tbody>\n",
       "    <tr>\n",
       "      <th>0</th>\n",
       "      <td>1</td>\n",
       "      <td>57.45</td>\n",
       "      <td>225</td>\n",
       "      <td>0.26</td>\n",
       "    </tr>\n",
       "    <tr>\n",
       "      <th>1</th>\n",
       "      <td>2</td>\n",
       "      <td>59.25</td>\n",
       "      <td>207</td>\n",
       "      <td>0.29</td>\n",
       "    </tr>\n",
       "    <tr>\n",
       "      <th>2</th>\n",
       "      <td>3</td>\n",
       "      <td>36.60</td>\n",
       "      <td>184</td>\n",
       "      <td>0.20</td>\n",
       "    </tr>\n",
       "    <tr>\n",
       "      <th>3</th>\n",
       "      <td>4</td>\n",
       "      <td>39.70</td>\n",
       "      <td>137</td>\n",
       "      <td>0.29</td>\n",
       "    </tr>\n",
       "    <tr>\n",
       "      <th>4</th>\n",
       "      <td>5</td>\n",
       "      <td>19.45</td>\n",
       "      <td>71</td>\n",
       "      <td>0.27</td>\n",
       "    </tr>\n",
       "    <tr>\n",
       "      <th>5</th>\n",
       "      <td>6</td>\n",
       "      <td>14.05</td>\n",
       "      <td>24</td>\n",
       "      <td>0.59</td>\n",
       "    </tr>\n",
       "    <tr>\n",
       "      <th>6</th>\n",
       "      <td>7</td>\n",
       "      <td>3.15</td>\n",
       "      <td>7</td>\n",
       "      <td>0.45</td>\n",
       "    </tr>\n",
       "    <tr>\n",
       "      <th>7</th>\n",
       "      <td>8</td>\n",
       "      <td>3.00</td>\n",
       "      <td>1</td>\n",
       "      <td>3.00</td>\n",
       "    </tr>\n",
       "  </tbody>\n",
       "</table>\n",
       "</div>"
      ],
      "text/plain": [
       "   DayTNum  RResult  NTrades  ProfitRate\n",
       "0        1    57.45      225        0.26\n",
       "1        2    59.25      207        0.29\n",
       "2        3    36.60      184        0.20\n",
       "3        4    39.70      137        0.29\n",
       "4        5    19.45       71        0.27\n",
       "5        6    14.05       24        0.59\n",
       "6        7     3.15        7        0.45\n",
       "7        8     3.00        1        3.00"
      ]
     },
     "execution_count": 23,
     "metadata": {},
     "output_type": "execute_result"
    }
   ],
   "source": [
    "CummuDayTNumTable = {'DayTNum':[],'RResult':[],'NTrades':[]}\n",
    "for i in range(1,RSIStratRes.DayTNum.max()+1):\n",
    "    \n",
    "    RSIStratRes2 = RSIStratRes[RSIStratRes.DayTNum.isin([i])]\n",
    "    wins = RSIStratRes2[RSIStratRes2.Result=='Win'].DayTNum.count()*3\n",
    "    losses = RSIStratRes2[RSIStratRes2.Result=='Loss'].DayTNum.count()*(-1)\n",
    "    remains = RSIStratRes2[RSIStratRes2.Result=='DayEnd'].DayTNum.count()*1.05\n",
    "    CummuDayTNumTable['DayTNum'].append(i)\n",
    "    CummuDayTNumTable['RResult'].append(round(wins+losses+remains,2))\n",
    "    CummuDayTNumTable['NTrades'].append(RSIStratRes2.DayTNum.count())\n",
    "CummuDayTNumTableRes = pd.DataFrame(CummuDayTNumTable).sort_values(['DayTNum'], ascending=True)\n",
    "CummuDayTNumTableRes['ProfitRate'] = round(CummuDayTNumTableRes.RResult/CummuDayTNumTableRes.NTrades,2)\n",
    "print ('Profit Per Number Of Daily Trade')\n",
    "CummuDayTNumTableRes"
   ]
  },
  {
   "cell_type": "code",
   "execution_count": 24,
   "id": "22f0ff7e",
   "metadata": {},
   "outputs": [
    {
     "data": {
      "image/png": "[encoded data removed]",
      "text/plain": [
       "<Figure size 5500x1400 with 1 Axes>"
      ]
     },
     "metadata": {},
     "output_type": "display_data"
    }
   ],
   "source": [
    "### Chart to graph profit per EntryTime\n",
    "acLoss = RSIStratRes[RSIStratRes['Result'] == 'Loss'].groupby('EntryTime').size().reset_index(name='Count')\n",
    "acLoss = acLoss.set_index('EntryTime')\n",
    "acLoss = acLoss.reindex(RSIStratRes['EntryTime'].unique(), fill_value=0)\n",
    "acLoss.reset_index(inplace=True)\n",
    "acLoss.sort_values('EntryTime').head(10)\n",
    "\n",
    "acDayEnd = RSIStratRes[RSIStratRes['Result'] == 'DayEnd'].groupby('EntryTime').size().reset_index(name='Count')\n",
    "acDayEnd = acDayEnd.set_index('EntryTime')\n",
    "acDayEnd = acDayEnd.reindex(RSIStratRes['EntryTime'].unique(), fill_value=0)\n",
    "acDayEnd.reset_index(inplace=True)\n",
    "acDayEnd.sort_values('EntryTime').head(10)\n",
    "\n",
    "acWin = RSIStratRes[RSIStratRes['Result'] == 'Win'].groupby('EntryTime').size().reset_index(name='Count')\n",
    "acWin = acWin.set_index('EntryTime')\n",
    "acWin = acWin.reindex(RSIStratRes['EntryTime'].unique(), fill_value=0)\n",
    "acWin.reset_index(inplace=True)\n",
    "acWin.sort_values('EntryTime').head(10)\n",
    "\n",
    "ac = acWin\n",
    "ac.Count = ac.Count*3+acDayEnd.Count*1.05-acLoss.Count\n",
    "ac['EntryTime'] = ac.EntryTime.str[:-3]\n",
    "ac.sort_values('EntryTime',inplace=True)\n",
    "ac.reset_index(drop=True)\n",
    "ac.head(8)\n",
    "\n",
    "plt.figure(figsize=(55, 14))\n",
    "plt.bar(ac.EntryTime,ac.Count)\n",
    "plt.xlabel('Entry Time')\n",
    "plt.ylabel('Profit R')\n",
    "plt.title('Profit in R per time')\n",
    "plt.grid(True)\n",
    "plt.show()"
   ]
  },
  {
   "cell_type": "code",
   "execution_count": 27,
   "id": "d0c55146",
   "metadata": {},
   "outputs": [
    {
     "data": {
      "image/png": "[encoded data removed]",
      "text/plain": [
       "<Figure size 5500x1400 with 1 Axes>"
      ]
     },
     "metadata": {},
     "output_type": "display_data"
    }
   ],
   "source": [
    "### Avg of trade result per EntryTime ###\n",
    "ad = RSIStratRes.groupby('EntryTime').Result.count().to_frame().reset_index()\n",
    "ad.EntryTime = ad.EntryTime.str[:-3]\n",
    "ae = pd.merge(ac,ad)\n",
    "ae['profitability'] = round(ae.Count/ae.Result,2)*100\n",
    "\n",
    "plt.figure(figsize=(55, 14))\n",
    "plt.bar(ae.EntryTime,ae.profitability)\n",
    "plt.xlabel('Entry Time')\n",
    "plt.ylabel('Profitabillity per trade (X100)')\n",
    "plt.title('Avg of trade result per time')\n",
    "plt.grid(True)\n",
    "plt.show()"
   ]
  },
  {
   "cell_type": "code",
   "execution_count": 36,
   "id": "0e0b161d",
   "metadata": {},
   "outputs": [
    {
     "name": "stdout",
     "output_type": "stream",
     "text": [
      "Profit Per PChange of SetUp Candle\n",
      "peak around PChange: 0.45\n",
      "tested peak: 0.44, 423.85R\n"
     ]
    },
    {
     "data": {
      "text/html": [
       "<div>\n",
       "<style scoped>\n",
       "    .dataframe tbody tr th:only-of-type {\n",
       "        vertical-align: middle;\n",
       "    }\n",
       "\n",
       "    .dataframe tbody tr th {\n",
       "        vertical-align: top;\n",
       "    }\n",
       "\n",
       "    .dataframe thead th {\n",
       "        text-align: right;\n",
       "    }\n",
       "</style>\n",
       "<table border=\"1\" class=\"dataframe\">\n",
       "  <thead>\n",
       "    <tr style=\"text-align: right;\">\n",
       "      <th></th>\n",
       "      <th>SetPChange</th>\n",
       "      <th>RResult</th>\n",
       "      <th>NTrades</th>\n",
       "      <th>ProfitRate</th>\n",
       "    </tr>\n",
       "  </thead>\n",
       "  <tbody>\n",
       "    <tr>\n",
       "      <th>0</th>\n",
       "      <td>0.10</td>\n",
       "      <td>96.40</td>\n",
       "      <td>232</td>\n",
       "      <td>0.42</td>\n",
       "    </tr>\n",
       "    <tr>\n",
       "      <th>1</th>\n",
       "      <td>0.15</td>\n",
       "      <td>156.10</td>\n",
       "      <td>497</td>\n",
       "      <td>0.31</td>\n",
       "    </tr>\n",
       "    <tr>\n",
       "      <th>2</th>\n",
       "      <td>0.20</td>\n",
       "      <td>177.70</td>\n",
       "      <td>656</td>\n",
       "      <td>0.27</td>\n",
       "    </tr>\n",
       "    <tr>\n",
       "      <th>3</th>\n",
       "      <td>0.25</td>\n",
       "      <td>194.05</td>\n",
       "      <td>750</td>\n",
       "      <td>0.26</td>\n",
       "    </tr>\n",
       "    <tr>\n",
       "      <th>4</th>\n",
       "      <td>0.30</td>\n",
       "      <td>206.35</td>\n",
       "      <td>802</td>\n",
       "      <td>0.26</td>\n",
       "    </tr>\n",
       "    <tr>\n",
       "      <th>5</th>\n",
       "      <td>0.35</td>\n",
       "      <td>213.40</td>\n",
       "      <td>829</td>\n",
       "      <td>0.26</td>\n",
       "    </tr>\n",
       "  </tbody>\n",
       "</table>\n",
       "</div>"
      ],
      "text/plain": [
       "   SetPChange  RResult  NTrades  ProfitRate\n",
       "0        0.10    96.40      232        0.42\n",
       "1        0.15   156.10      497        0.31\n",
       "2        0.20   177.70      656        0.27\n",
       "3        0.25   194.05      750        0.26\n",
       "4        0.30   206.35      802        0.26\n",
       "5        0.35   213.40      829        0.26"
      ]
     },
     "execution_count": 36,
     "metadata": {},
     "output_type": "execute_result"
    }
   ],
   "source": [
    "CummuSetPChangeTable = {'SetPChange':[],'RResult':[],'NTrades':[]}\n",
    "for i in range(2,22,1):   \n",
    "    RSIStratRes2 = RSIStratRes[RSIStratRes.SetPChange<=i/20]\n",
    "    wins = RSIStratRes2[RSIStratRes2.Result=='Win'].Result.count()*3\n",
    "    losses = RSIStratRes2[RSIStratRes2.Result=='Loss'].Result.count()*(-1)\n",
    "    remains = RSIStratRes2[RSIStratRes2.Result=='DayEnd'].Result.count()*1.05\n",
    "    CummuSetPChangeTable['SetPChange'].append(i/20)\n",
    "    CummuSetPChangeTable['RResult'].append(round(wins+losses+remains,2))\n",
    "    CummuSetPChangeTable['NTrades'].append(RSIStratRes2.DayTNum.count())\n",
    "CummuSetPChangeTableRes = pd.DataFrame(CummuSetPChangeTable).sort_values(['SetPChange'], ascending=True)\n",
    "CummuSetPChangeTableRes['ProfitRate'] = round(CummuSetPChangeTableRes.RResult/CummuSetPChangeTableRes.NTrades,2)\n",
    "print ('Profit Per PChange of SetUp Candle')\n",
    "print ('peak around PChange:',CummuSetPChangeTableRes[CummuSetPChangeTableRes.RResult==CummuSetPChangeTableRes.RResult.max()]['SetPChange'].unique()[0])\n",
    "print ('tested peak: 0.44, 423.85R')\n",
    "CummuSetPChangeTableRes.head(6)"
   ]
  },
  {
   "cell_type": "code",
   "execution_count": 34,
   "id": "23e2d80f",
   "metadata": {},
   "outputs": [
    {
     "name": "stdout",
     "output_type": "stream",
     "text": [
      "Date to show (YYYY-MM-DD):2021-12-28\n"
     ]
    },
    {
     "data": {
      "application/vnd.plotly.v1+json": {
       "config": {
        "plotlyServerURL": "https://plot.ly"
       },
       "data": [
        {
         "close": [
          403.64,
          402.51,
          403.41,
          403.33,
          403.73,
          403.75,
          403.8,
          402.39,
          402.21,
          401.69,
          402.66,
          403.11,
          403.5,
          403.38,
          402.94,
          403.19,
          402.91,
          402.98,
          403.42,
          402.82,
          402.75,
          402.46,
          402.4,
          402.54,
          402.26,
          402.08,
          402.03,
          402.44,
          403.12,
          403.17,
          403.16,
          402.88,
          402.82,
          402.68,
          402.77,
          402.07,
          401.08,
          401.43,
          401.42,
          401.4,
          401.74,
          401.88,
          402.07,
          401.94,
          401.71,
          401.52,
          401.4,
          401.79,
          401.5,
          401.37,
          401.24,
          401.46,
          401.44,
          401.7,
          400.74,
          400.76,
          401,
          401.21,
          401.48,
          401.54,
          401.55,
          401.64,
          401.59,
          401.55,
          401.75,
          401.72,
          401.46,
          401.83,
          402,
          401.91,
          402.02,
          401.84,
          401.76,
          402.14,
          402.3,
          402.23,
          401.51,
          401.71
         ],
         "high": [
          404.58,
          403.71,
          403.74,
          403.71,
          403.87,
          404.23,
          403.98,
          403.86,
          402.89,
          402.57,
          402.79,
          403.2,
          403.53,
          403.94,
          403.6,
          403.41,
          403.47,
          403.24,
          403.46,
          403.48,
          403.04,
          402.8,
          402.81,
          402.74,
          402.68,
          402.21,
          402.29,
          402.46,
          403.12,
          403.3,
          403.31,
          403.18,
          403.03,
          402.9,
          402.79,
          403,
          402.29,
          401.6,
          401.62,
          401.55,
          401.94,
          401.96,
          402.1,
          402.09,
          401.94,
          401.86,
          401.72,
          401.85,
          401.83,
          401.6,
          401.59,
          401.47,
          401.55,
          401.72,
          401.68,
          401.02,
          401.06,
          401.42,
          401.55,
          401.73,
          401.73,
          401.65,
          401.71,
          401.63,
          401.95,
          401.81,
          401.74,
          401.86,
          402.04,
          402.03,
          402.1,
          402.17,
          402.08,
          402.21,
          402.52,
          402.55,
          402.23,
          401.73
         ],
         "low": [
          403.32,
          402.4,
          402.48,
          402.9,
          402.9,
          403.61,
          403.34,
          402.36,
          402.06,
          401.68,
          401.71,
          402.49,
          402.79,
          403.27,
          402.73,
          402.67,
          402.81,
          402.86,
          402.89,
          402.79,
          402.7,
          402.38,
          402.24,
          402.1,
          402.08,
          401.77,
          401.89,
          401.88,
          402.37,
          403.02,
          402.85,
          402.79,
          402.68,
          402.53,
          402.56,
          402.03,
          401.08,
          401.09,
          401.32,
          401.28,
          401.33,
          401.73,
          401.52,
          401.72,
          401.63,
          401.48,
          401.18,
          401.22,
          401.46,
          401.28,
          401.16,
          401.13,
          401.34,
          401.32,
          400.71,
          400.74,
          400.75,
          401.01,
          401.19,
          401.32,
          401.44,
          401.47,
          401.54,
          401.13,
          401.28,
          401.5,
          401.38,
          401.27,
          401.71,
          401.67,
          401.83,
          401.8,
          401.51,
          401.77,
          402.04,
          402.11,
          401.31,
          401.22
         ],
         "name": "Candlestick",
         "open": [
          404.4,
          403.64,
          402.5,
          403.39,
          403.34,
          403.7,
          403.73,
          403.82,
          402.38,
          402.21,
          401.71,
          402.66,
          403.11,
          403.48,
          403.4,
          402.9,
          403.19,
          402.91,
          403,
          403.41,
          402.82,
          402.77,
          402.46,
          402.39,
          402.55,
          402.21,
          402.07,
          402,
          402.42,
          403.11,
          403.18,
          403.16,
          402.88,
          402.81,
          402.69,
          402.78,
          402.04,
          401.09,
          401.42,
          401.43,
          401.41,
          401.78,
          401.84,
          402.07,
          401.93,
          401.71,
          401.52,
          401.42,
          401.79,
          401.51,
          401.35,
          401.24,
          401.43,
          401.46,
          401.67,
          400.75,
          400.77,
          401.01,
          401.2,
          401.49,
          401.52,
          401.56,
          401.63,
          401.6,
          401.55,
          401.8,
          401.74,
          401.46,
          401.84,
          401.99,
          401.9,
          402.02,
          401.84,
          401.77,
          402.12,
          402.31,
          402.22,
          401.49
         ],
         "type": "candlestick",
         "x": [
          "16:30:00",
          "16:35:00",
          "16:40:00",
          "16:45:00",
          "16:50:00",
          "16:55:00",
          "17:00:00",
          "17:05:00",
          "17:10:00",
          "17:15:00",
          "17:20:00",
          "17:25:00",
          "17:30:00",
          "17:35:00",
          "17:40:00",
          "17:45:00",
          "17:50:00",
          "17:55:00",
          "18:00:00",
          "18:05:00",
          "18:10:00",
          "18:15:00",
          "18:20:00",
          "18:25:00",
          "18:30:00",
          "18:35:00",
          "18:40:00",
          "18:45:00",
          "18:50:00",
          "18:55:00",
          "19:00:00",
          "19:05:00",
          "19:10:00",
          "19:15:00",
          "19:20:00",
          "19:25:00",
          "19:30:00",
          "19:35:00",
          "19:40:00",
          "19:45:00",
          "19:50:00",
          "19:55:00",
          "20:00:00",
          "20:05:00",
          "20:10:00",
          "20:15:00",
          "20:20:00",
          "20:25:00",
          "20:30:00",
          "20:35:00",
          "20:40:00",
          "20:45:00",
          "20:50:00",
          "20:55:00",
          "21:00:00",
          "21:05:00",
          "21:10:00",
          "21:15:00",
          "21:20:00",
          "21:25:00",
          "21:30:00",
          "21:35:00",
          "21:40:00",
          "21:45:00",
          "21:50:00",
          "21:55:00",
          "22:00:00",
          "22:05:00",
          "22:10:00",
          "22:15:00",
          "22:20:00",
          "22:25:00",
          "22:30:00",
          "22:35:00",
          "22:40:00",
          "22:45:00",
          "22:50:00",
          "22:55:00"
         ]
        },
        {
         "mode": "lines",
         "name": "VWAP",
         "type": "scatter",
         "x": [
          "16:30:00",
          "16:35:00",
          "16:40:00",
          "16:45:00",
          "16:50:00",
          "16:55:00",
          "17:00:00",
          "17:05:00",
          "17:10:00",
          "17:15:00",
          "17:20:00",
          "17:25:00",
          "17:30:00",
          "17:35:00",
          "17:40:00",
          "17:45:00",
          "17:50:00",
          "17:55:00",
          "18:00:00",
          "18:05:00",
          "18:10:00",
          "18:15:00",
          "18:20:00",
          "18:25:00",
          "18:30:00",
          "18:35:00",
          "18:40:00",
          "18:45:00",
          "18:50:00",
          "18:55:00",
          "19:00:00",
          "19:05:00",
          "19:10:00",
          "19:15:00",
          "19:20:00",
          "19:25:00",
          "19:30:00",
          "19:35:00",
          "19:40:00",
          "19:45:00",
          "19:50:00",
          "19:55:00",
          "20:00:00",
          "20:05:00",
          "20:10:00",
          "20:15:00",
          "20:20:00",
          "20:25:00",
          "20:30:00",
          "20:35:00",
          "20:40:00",
          "20:45:00",
          "20:50:00",
          "20:55:00",
          "21:00:00",
          "21:05:00",
          "21:10:00",
          "21:15:00",
          "21:20:00",
          "21:25:00",
          "21:30:00",
          "21:35:00",
          "21:40:00",
          "21:45:00",
          "21:50:00",
          "21:55:00",
          "22:00:00",
          "22:05:00",
          "22:10:00",
          "22:15:00",
          "22:20:00",
          "22:25:00",
          "22:30:00",
          "22:35:00",
          "22:40:00",
          "22:45:00",
          "22:50:00",
          "22:55:00"
         ],
         "y": [
          403.85,
          403.36,
          403.32,
          403.32,
          403.34,
          403.38,
          403.41,
          403.35,
          403.26,
          403.14,
          403.08,
          403.07,
          403.08,
          403.11,
          403.11,
          403.11,
          403.1,
          403.1,
          403.11,
          403.1,
          403.1,
          403.09,
          403.07,
          403.06,
          403.05,
          403.03,
          403.01,
          402.98,
          402.97,
          402.98,
          402.98,
          402.98,
          402.98,
          402.97,
          402.97,
          402.96,
          402.91,
          402.88,
          402.86,
          402.85,
          402.83,
          402.82,
          402.81,
          402.8,
          402.79,
          402.78,
          402.75,
          402.73,
          402.72,
          402.71,
          402.69,
          402.68,
          402.68,
          402.67,
          402.62,
          402.6,
          402.57,
          402.56,
          402.53,
          402.52,
          402.51,
          402.5,
          402.5,
          402.49,
          402.48,
          402.47,
          402.47,
          402.46,
          402.46,
          402.45,
          402.45,
          402.45,
          402.44,
          402.44,
          402.43,
          402.43,
          402.4,
          402.35
         ]
        }
       ],
       "layout": {
        "template": {
         "data": {
          "bar": [
           {
            "error_x": {
             "color": "#2a3f5f"
            },
            "error_y": {
             "color": "#2a3f5f"
            },
            "marker": {
             "line": {
              "color": "#E5ECF6",
              "width": 0.5
             },
             "pattern": {
              "fillmode": "overlay",
              "size": 10,
              "solidity": 0.2
             }
            },
            "type": "bar"
           }
          ],
          "barpolar": [
           {
            "marker": {
             "line": {
              "color": "#E5ECF6",
              "width": 0.5
             },
             "pattern": {
              "fillmode": "overlay",
              "size": 10,
              "solidity": 0.2
             }
            },
            "type": "barpolar"
           }
          ],
          "carpet": [
           {
            "aaxis": {
             "endlinecolor": "#2a3f5f",
             "gridcolor": "white",
             "linecolor": "white",
             "minorgridcolor": "white",
             "startlinecolor": "#2a3f5f"
            },
            "baxis": {
             "endlinecolor": "#2a3f5f",
             "gridcolor": "white",
             "linecolor": "white",
             "minorgridcolor": "white",
             "startlinecolor": "#2a3f5f"
            },
            "type": "carpet"
           }
          ],
          "choropleth": [
           {
            "colorbar": {
             "outlinewidth": 0,
             "ticks": ""
            },
            "type": "choropleth"
           }
          ],
          "contour": [
           {
            "colorbar": {
             "outlinewidth": 0,
             "ticks": ""
            },
            "colorscale": [
             [
              0,
              "#0d0887"
             ],
             [
              0.1111111111111111,
              "#46039f"
             ],
             [
              0.2222222222222222,
              "#7201a8"
             ],
             [
              0.3333333333333333,
              "#9c179e"
             ],
             [
              0.4444444444444444,
              "#bd3786"
             ],
             [
              0.5555555555555556,
              "#d8576b"
             ],
             [
              0.6666666666666666,
              "#ed7953"
             ],
             [
              0.7777777777777778,
              "#fb9f3a"
             ],
             [
              0.8888888888888888,
              "#fdca26"
             ],
             [
              1,
              "#f0f921"
             ]
            ],
            "type": "contour"
           }
          ],
          "contourcarpet": [
           {
            "colorbar": {
             "outlinewidth": 0,
             "ticks": ""
            },
            "type": "contourcarpet"
           }
          ],
          "heatmap": [
           {
            "colorbar": {
             "outlinewidth": 0,
             "ticks": ""
            },
            "colorscale": [
             [
              0,
              "#0d0887"
             ],
             [
              0.1111111111111111,
              "#46039f"
             ],
             [
              0.2222222222222222,
              "#7201a8"
             ],
             [
              0.3333333333333333,
              "#9c179e"
             ],
             [
              0.4444444444444444,
              "#bd3786"
             ],
             [
              0.5555555555555556,
              "#d8576b"
             ],
             [
              0.6666666666666666,
              "#ed7953"
             ],
             [
              0.7777777777777778,
              "#fb9f3a"
             ],
             [
              0.8888888888888888,
              "#fdca26"
             ],
             [
              1,
              "#f0f921"
             ]
            ],
            "type": "heatmap"
           }
          ],
          "heatmapgl": [
           {
            "colorbar": {
             "outlinewidth": 0,
             "ticks": ""
            },
            "colorscale": [
             [
              0,
              "#0d0887"
             ],
             [
              0.1111111111111111,
              "#46039f"
             ],
             [
              0.2222222222222222,
              "#7201a8"
             ],
             [
              0.3333333333333333,
              "#9c179e"
             ],
             [
              0.4444444444444444,
              "#bd3786"
             ],
             [
              0.5555555555555556,
              "#d8576b"
             ],
             [
              0.6666666666666666,
              "#ed7953"
             ],
             [
              0.7777777777777778,
              "#fb9f3a"
             ],
             [
              0.8888888888888888,
              "#fdca26"
             ],
             [
              1,
              "#f0f921"
             ]
            ],
            "type": "heatmapgl"
           }
          ],
          "histogram": [
           {
            "marker": {
             "pattern": {
              "fillmode": "overlay",
              "size": 10,
              "solidity": 0.2
             }
            },
            "type": "histogram"
           }
          ],
          "histogram2d": [
           {
            "colorbar": {
             "outlinewidth": 0,
             "ticks": ""
            },
            "colorscale": [
             [
              0,
              "#0d0887"
             ],
             [
              0.1111111111111111,
              "#46039f"
             ],
             [
              0.2222222222222222,
              "#7201a8"
             ],
             [
              0.3333333333333333,
              "#9c179e"
             ],
             [
              0.4444444444444444,
              "#bd3786"
             ],
             [
              0.5555555555555556,
              "#d8576b"
             ],
             [
              0.6666666666666666,
              "#ed7953"
             ],
             [
              0.7777777777777778,
              "#fb9f3a"
             ],
             [
              0.8888888888888888,
              "#fdca26"
             ],
             [
              1,
              "#f0f921"
             ]
            ],
            "type": "histogram2d"
           }
          ],
          "histogram2dcontour": [
           {
            "colorbar": {
             "outlinewidth": 0,
             "ticks": ""
            },
            "colorscale": [
             [
              0,
              "#0d0887"
             ],
             [
              0.1111111111111111,
              "#46039f"
             ],
             [
              0.2222222222222222,
              "#7201a8"
             ],
             [
              0.3333333333333333,
              "#9c179e"
             ],
             [
              0.4444444444444444,
              "#bd3786"
             ],
             [
              0.5555555555555556,
              "#d8576b"
             ],
             [
              0.6666666666666666,
              "#ed7953"
             ],
             [
              0.7777777777777778,
              "#fb9f3a"
             ],
             [
              0.8888888888888888,
              "#fdca26"
             ],
             [
              1,
              "#f0f921"
             ]
            ],
            "type": "histogram2dcontour"
           }
          ],
          "mesh3d": [
           {
            "colorbar": {
             "outlinewidth": 0,
             "ticks": ""
            },
            "type": "mesh3d"
           }
          ],
          "parcoords": [
           {
            "line": {
             "colorbar": {
              "outlinewidth": 0,
              "ticks": ""
             }
            },
            "type": "parcoords"
           }
          ],
          "pie": [
           {
            "automargin": true,
            "type": "pie"
           }
          ],
          "scatter": [
           {
            "fillpattern": {
             "fillmode": "overlay",
             "size": 10,
             "solidity": 0.2
            },
            "type": "scatter"
           }
          ],
          "scatter3d": [
           {
            "line": {
             "colorbar": {
              "outlinewidth": 0,
              "ticks": ""
             }
            },
            "marker": {
             "colorbar": {
              "outlinewidth": 0,
              "ticks": ""
             }
            },
            "type": "scatter3d"
           }
          ],
          "scattercarpet": [
           {
            "marker": {
             "colorbar": {
              "outlinewidth": 0,
              "ticks": ""
             }
            },
            "type": "scattercarpet"
           }
          ],
          "scattergeo": [
           {
            "marker": {
             "colorbar": {
              "outlinewidth": 0,
              "ticks": ""
             }
            },
            "type": "scattergeo"
           }
          ],
          "scattergl": [
           {
            "marker": {
             "colorbar": {
              "outlinewidth": 0,
              "ticks": ""
             }
            },
            "type": "scattergl"
           }
          ],
          "scattermapbox": [
           {
            "marker": {
             "colorbar": {
              "outlinewidth": 0,
              "ticks": ""
             }
            },
            "type": "scattermapbox"
           }
          ],
          "scatterpolar": [
           {
            "marker": {
             "colorbar": {
              "outlinewidth": 0,
              "ticks": ""
             }
            },
            "type": "scatterpolar"
           }
          ],
          "scatterpolargl": [
           {
            "marker": {
             "colorbar": {
              "outlinewidth": 0,
              "ticks": ""
             }
            },
            "type": "scatterpolargl"
           }
          ],
          "scatterternary": [
           {
            "marker": {
             "colorbar": {
              "outlinewidth": 0,
              "ticks": ""
             }
            },
            "type": "scatterternary"
           }
          ],
          "surface": [
           {
            "colorbar": {
             "outlinewidth": 0,
             "ticks": ""
            },
            "colorscale": [
             [
              0,
              "#0d0887"
             ],
             [
              0.1111111111111111,
              "#46039f"
             ],
             [
              0.2222222222222222,
              "#7201a8"
             ],
             [
              0.3333333333333333,
              "#9c179e"
             ],
             [
              0.4444444444444444,
              "#bd3786"
             ],
             [
              0.5555555555555556,
              "#d8576b"
             ],
             [
              0.6666666666666666,
              "#ed7953"
             ],
             [
              0.7777777777777778,
              "#fb9f3a"
             ],
             [
              0.8888888888888888,
              "#fdca26"
             ],
             [
              1,
              "#f0f921"
             ]
            ],
            "type": "surface"
           }
          ],
          "table": [
           {
            "cells": {
             "fill": {
              "color": "#EBF0F8"
             },
             "line": {
              "color": "white"
             }
            },
            "header": {
             "fill": {
              "color": "#C8D4E3"
             },
             "line": {
              "color": "white"
             }
            },
            "type": "table"
           }
          ]
         },
         "layout": {
          "annotationdefaults": {
           "arrowcolor": "#2a3f5f",
           "arrowhead": 0,
           "arrowwidth": 1
          },
          "autotypenumbers": "strict",
          "coloraxis": {
           "colorbar": {
            "outlinewidth": 0,
            "ticks": ""
           }
          },
          "colorscale": {
           "diverging": [
            [
             0,
             "#8e0152"
            ],
            [
             0.1,
             "#c51b7d"
            ],
            [
             0.2,
             "#de77ae"
            ],
            [
             0.3,
             "#f1b6da"
            ],
            [
             0.4,
             "#fde0ef"
            ],
            [
             0.5,
             "#f7f7f7"
            ],
            [
             0.6,
             "#e6f5d0"
            ],
            [
             0.7,
             "#b8e186"
            ],
            [
             0.8,
             "#7fbc41"
            ],
            [
             0.9,
             "#4d9221"
            ],
            [
             1,
             "#276419"
            ]
           ],
           "sequential": [
            [
             0,
             "#0d0887"
            ],
            [
             0.1111111111111111,
             "#46039f"
            ],
            [
             0.2222222222222222,
             "#7201a8"
            ],
            [
             0.3333333333333333,
             "#9c179e"
            ],
            [
             0.4444444444444444,
             "#bd3786"
            ],
            [
             0.5555555555555556,
             "#d8576b"
            ],
            [
             0.6666666666666666,
             "#ed7953"
            ],
            [
             0.7777777777777778,
             "#fb9f3a"
            ],
            [
             0.8888888888888888,
             "#fdca26"
            ],
            [
             1,
             "#f0f921"
            ]
           ],
           "sequentialminus": [
            [
             0,
             "#0d0887"
            ],
            [
             0.1111111111111111,
             "#46039f"
            ],
            [
             0.2222222222222222,
             "#7201a8"
            ],
            [
             0.3333333333333333,
             "#9c179e"
            ],
            [
             0.4444444444444444,
             "#bd3786"
            ],
            [
             0.5555555555555556,
             "#d8576b"
            ],
            [
             0.6666666666666666,
             "#ed7953"
            ],
            [
             0.7777777777777778,
             "#fb9f3a"
            ],
            [
             0.8888888888888888,
             "#fdca26"
            ],
            [
             1,
             "#f0f921"
            ]
           ]
          },
          "colorway": [
           "#636efa",
           "#EF553B",
           "#00cc96",
           "#ab63fa",
           "#FFA15A",
           "#19d3f3",
           "#FF6692",
           "#B6E880",
           "#FF97FF",
           "#FECB52"
          ],
          "font": {
           "color": "#2a3f5f"
          },
          "geo": {
           "bgcolor": "white",
           "lakecolor": "white",
           "landcolor": "#E5ECF6",
           "showlakes": true,
           "showland": true,
           "subunitcolor": "white"
          },
          "hoverlabel": {
           "align": "left"
          },
          "hovermode": "closest",
          "mapbox": {
           "style": "light"
          },
          "paper_bgcolor": "white",
          "plot_bgcolor": "#E5ECF6",
          "polar": {
           "angularaxis": {
            "gridcolor": "white",
            "linecolor": "white",
            "ticks": ""
           },
           "bgcolor": "#E5ECF6",
           "radialaxis": {
            "gridcolor": "white",
            "linecolor": "white",
            "ticks": ""
           }
          },
          "scene": {
           "xaxis": {
            "backgroundcolor": "#E5ECF6",
            "gridcolor": "white",
            "gridwidth": 2,
            "linecolor": "white",
            "showbackground": true,
            "ticks": "",
            "zerolinecolor": "white"
           },
           "yaxis": {
            "backgroundcolor": "#E5ECF6",
            "gridcolor": "white",
            "gridwidth": 2,
            "linecolor": "white",
            "showbackground": true,
            "ticks": "",
            "zerolinecolor": "white"
           },
           "zaxis": {
            "backgroundcolor": "#E5ECF6",
            "gridcolor": "white",
            "gridwidth": 2,
            "linecolor": "white",
            "showbackground": true,
            "ticks": "",
            "zerolinecolor": "white"
           }
          },
          "shapedefaults": {
           "line": {
            "color": "#2a3f5f"
           }
          },
          "ternary": {
           "aaxis": {
            "gridcolor": "white",
            "linecolor": "white",
            "ticks": ""
           },
           "baxis": {
            "gridcolor": "white",
            "linecolor": "white",
            "ticks": ""
           },
           "bgcolor": "#E5ECF6",
           "caxis": {
            "gridcolor": "white",
            "linecolor": "white",
            "ticks": ""
           }
          },
          "title": {
           "x": 0.05
          },
          "xaxis": {
           "automargin": true,
           "gridcolor": "white",
           "linecolor": "white",
           "ticks": "",
           "title": {
            "standoff": 15
           },
           "zerolinecolor": "white",
           "zerolinewidth": 2
          },
          "yaxis": {
           "automargin": true,
           "gridcolor": "white",
           "linecolor": "white",
           "ticks": "",
           "title": {
            "standoff": 15
           },
           "zerolinecolor": "white",
           "zerolinewidth": 2
          }
         }
        },
        "title": {
         "text": "['QQQ'], <DatetimeArray>\n['2021-12-28 00:00:00']\nLength: 1, dtype: datetime64[ns]"
        },
        "xaxis": {
         "rangeslider": {
          "visible": false
         },
         "title": {
          "text": "Time"
         }
        },
        "yaxis": {
         "tickangle": 0,
         "title": {
          "text": "Price"
         }
        }
       }
      },
      "text/html": [
       "<div>                            <div id=\"d6cd51ef-e2c3-4d23-aee5-986abd2aa223\" class=\"plotly-graph-div\" style=\"height:525px; width:100%;\"></div>            <script type=\"text/javascript\">                require([\"plotly\"], function(Plotly) {                    window.PLOTLYENV=window.PLOTLYENV || {};                                    if (document.getElementById(\"d6cd51ef-e2c3-4d23-aee5-986abd2aa223\")) {                    Plotly.newPlot(                        \"d6cd51ef-e2c3-4d23-aee5-986abd2aa223\",                        [{\"close\":[403.64,402.51,403.41,403.33,403.73,403.75,403.8,402.39,402.21,401.69,402.66,403.11,403.5,403.38,402.94,403.19,402.91,402.98,403.42,402.82,402.75,402.46,402.4,402.54,402.26,402.08,402.03,402.44,403.12,403.17,403.16,402.88,402.82,402.68,402.77,402.07,401.08,401.43,401.42,401.4,401.74,401.88,402.07,401.94,401.71,401.52,401.4,401.79,401.5,401.37,401.24,401.46,401.44,401.7,400.74,400.76,401.0,401.21,401.48,401.54,401.55,401.64,401.59,401.55,401.75,401.72,401.46,401.83,402.0,401.91,402.02,401.84,401.76,402.14,402.3,402.23,401.51,401.71],\"high\":[404.58,403.71,403.74,403.71,403.87,404.23,403.98,403.86,402.89,402.57,402.79,403.2,403.53,403.94,403.6,403.41,403.47,403.24,403.46,403.48,403.04,402.8,402.81,402.74,402.68,402.21,402.29,402.46,403.12,403.3,403.31,403.18,403.03,402.9,402.79,403.0,402.29,401.6,401.62,401.55,401.94,401.96,402.1,402.09,401.94,401.86,401.72,401.85,401.83,401.6,401.59,401.47,401.55,401.72,401.68,401.02,401.06,401.42,401.55,401.73,401.73,401.65,401.71,401.63,401.95,401.81,401.74,401.86,402.04,402.03,402.1,402.17,402.08,402.21,402.52,402.55,402.23,401.73],\"low\":[403.32,402.4,402.48,402.9,402.9,403.61,403.34,402.36,402.06,401.68,401.71,402.49,402.79,403.27,402.73,402.67,402.81,402.86,402.89,402.79,402.7,402.38,402.24,402.1,402.08,401.77,401.89,401.88,402.37,403.02,402.85,402.79,402.68,402.53,402.56,402.03,401.08,401.09,401.32,401.28,401.33,401.73,401.52,401.72,401.63,401.48,401.18,401.22,401.46,401.28,401.16,401.13,401.34,401.32,400.71,400.74,400.75,401.01,401.19,401.32,401.44,401.47,401.54,401.13,401.28,401.5,401.38,401.27,401.71,401.67,401.83,401.8,401.51,401.77,402.04,402.11,401.31,401.22],\"name\":\"Candlestick\",\"open\":[404.4,403.64,402.5,403.39,403.34,403.7,403.73,403.82,402.38,402.21,401.71,402.66,403.11,403.48,403.4,402.9,403.19,402.91,403.0,403.41,402.82,402.77,402.46,402.39,402.55,402.21,402.07,402.0,402.42,403.11,403.18,403.16,402.88,402.81,402.69,402.78,402.04,401.09,401.42,401.43,401.41,401.78,401.84,402.07,401.93,401.71,401.52,401.42,401.79,401.51,401.35,401.24,401.43,401.46,401.67,400.75,400.77,401.01,401.2,401.49,401.52,401.56,401.63,401.6,401.55,401.8,401.74,401.46,401.84,401.99,401.9,402.02,401.84,401.77,402.12,402.31,402.22,401.49],\"x\":[\"16:30:00\",\"16:35:00\",\"16:40:00\",\"16:45:00\",\"16:50:00\",\"16:55:00\",\"17:00:00\",\"17:05:00\",\"17:10:00\",\"17:15:00\",\"17:20:00\",\"17:25:00\",\"17:30:00\",\"17:35:00\",\"17:40:00\",\"17:45:00\",\"17:50:00\",\"17:55:00\",\"18:00:00\",\"18:05:00\",\"18:10:00\",\"18:15:00\",\"18:20:00\",\"18:25:00\",\"18:30:00\",\"18:35:00\",\"18:40:00\",\"18:45:00\",\"18:50:00\",\"18:55:00\",\"19:00:00\",\"19:05:00\",\"19:10:00\",\"19:15:00\",\"19:20:00\",\"19:25:00\",\"19:30:00\",\"19:35:00\",\"19:40:00\",\"19:45:00\",\"19:50:00\",\"19:55:00\",\"20:00:00\",\"20:05:00\",\"20:10:00\",\"20:15:00\",\"20:20:00\",\"20:25:00\",\"20:30:00\",\"20:35:00\",\"20:40:00\",\"20:45:00\",\"20:50:00\",\"20:55:00\",\"21:00:00\",\"21:05:00\",\"21:10:00\",\"21:15:00\",\"21:20:00\",\"21:25:00\",\"21:30:00\",\"21:35:00\",\"21:40:00\",\"21:45:00\",\"21:50:00\",\"21:55:00\",\"22:00:00\",\"22:05:00\",\"22:10:00\",\"22:15:00\",\"22:20:00\",\"22:25:00\",\"22:30:00\",\"22:35:00\",\"22:40:00\",\"22:45:00\",\"22:50:00\",\"22:55:00\"],\"type\":\"candlestick\"},{\"mode\":\"lines\",\"name\":\"VWAP\",\"x\":[\"16:30:00\",\"16:35:00\",\"16:40:00\",\"16:45:00\",\"16:50:00\",\"16:55:00\",\"17:00:00\",\"17:05:00\",\"17:10:00\",\"17:15:00\",\"17:20:00\",\"17:25:00\",\"17:30:00\",\"17:35:00\",\"17:40:00\",\"17:45:00\",\"17:50:00\",\"17:55:00\",\"18:00:00\",\"18:05:00\",\"18:10:00\",\"18:15:00\",\"18:20:00\",\"18:25:00\",\"18:30:00\",\"18:35:00\",\"18:40:00\",\"18:45:00\",\"18:50:00\",\"18:55:00\",\"19:00:00\",\"19:05:00\",\"19:10:00\",\"19:15:00\",\"19:20:00\",\"19:25:00\",\"19:30:00\",\"19:35:00\",\"19:40:00\",\"19:45:00\",\"19:50:00\",\"19:55:00\",\"20:00:00\",\"20:05:00\",\"20:10:00\",\"20:15:00\",\"20:20:00\",\"20:25:00\",\"20:30:00\",\"20:35:00\",\"20:40:00\",\"20:45:00\",\"20:50:00\",\"20:55:00\",\"21:00:00\",\"21:05:00\",\"21:10:00\",\"21:15:00\",\"21:20:00\",\"21:25:00\",\"21:30:00\",\"21:35:00\",\"21:40:00\",\"21:45:00\",\"21:50:00\",\"21:55:00\",\"22:00:00\",\"22:05:00\",\"22:10:00\",\"22:15:00\",\"22:20:00\",\"22:25:00\",\"22:30:00\",\"22:35:00\",\"22:40:00\",\"22:45:00\",\"22:50:00\",\"22:55:00\"],\"y\":[403.85,403.36,403.32,403.32,403.34,403.38,403.41,403.35,403.26,403.14,403.08,403.07,403.08,403.11,403.11,403.11,403.1,403.1,403.11,403.1,403.1,403.09,403.07,403.06,403.05,403.03,403.01,402.98,402.97,402.98,402.98,402.98,402.98,402.97,402.97,402.96,402.91,402.88,402.86,402.85,402.83,402.82,402.81,402.8,402.79,402.78,402.75,402.73,402.72,402.71,402.69,402.68,402.68,402.67,402.62,402.6,402.57,402.56,402.53,402.52,402.51,402.5,402.5,402.49,402.48,402.47,402.47,402.46,402.46,402.45,402.45,402.45,402.44,402.44,402.43,402.43,402.4,402.35],\"type\":\"scatter\"}],                        {\"template\":{\"data\":{\"histogram2dcontour\":[{\"type\":\"histogram2dcontour\",\"colorbar\":{\"outlinewidth\":0,\"ticks\":\"\"},\"colorscale\":[[0.0,\"#0d0887\"],[0.1111111111111111,\"#46039f\"],[0.2222222222222222,\"#7201a8\"],[0.3333333333333333,\"#9c179e\"],[0.4444444444444444,\"#bd3786\"],[0.5555555555555556,\"#d8576b\"],[0.6666666666666666,\"#ed7953\"],[0.7777777777777778,\"#fb9f3a\"],[0.8888888888888888,\"#fdca26\"],[1.0,\"#f0f921\"]]}],\"choropleth\":[{\"type\":\"choropleth\",\"colorbar\":{\"outlinewidth\":0,\"ticks\":\"\"}}],\"histogram2d\":[{\"type\":\"histogram2d\",\"colorbar\":{\"outlinewidth\":0,\"ticks\":\"\"},\"colorscale\":[[0.0,\"#0d0887\"],[0.1111111111111111,\"#46039f\"],[0.2222222222222222,\"#7201a8\"],[0.3333333333333333,\"#9c179e\"],[0.4444444444444444,\"#bd3786\"],[0.5555555555555556,\"#d8576b\"],[0.6666666666666666,\"#ed7953\"],[0.7777777777777778,\"#fb9f3a\"],[0.8888888888888888,\"#fdca26\"],[1.0,\"#f0f921\"]]}],\"heatmap\":[{\"type\":\"heatmap\",\"colorbar\":{\"outlinewidth\":0,\"ticks\":\"\"},\"colorscale\":[[0.0,\"#0d0887\"],[0.1111111111111111,\"#46039f\"],[0.2222222222222222,\"#7201a8\"],[0.3333333333333333,\"#9c179e\"],[0.4444444444444444,\"#bd3786\"],[0.5555555555555556,\"#d8576b\"],[0.6666666666666666,\"#ed7953\"],[0.7777777777777778,\"#fb9f3a\"],[0.8888888888888888,\"#fdca26\"],[1.0,\"#f0f921\"]]}],\"heatmapgl\":[{\"type\":\"heatmapgl\",\"colorbar\":{\"outlinewidth\":0,\"ticks\":\"\"},\"colorscale\":[[0.0,\"#0d0887\"],[0.1111111111111111,\"#46039f\"],[0.2222222222222222,\"#7201a8\"],[0.3333333333333333,\"#9c179e\"],[0.4444444444444444,\"#bd3786\"],[0.5555555555555556,\"#d8576b\"],[0.6666666666666666,\"#ed7953\"],[0.7777777777777778,\"#fb9f3a\"],[0.8888888888888888,\"#fdca26\"],[1.0,\"#f0f921\"]]}],\"contourcarpet\":[{\"type\":\"contourcarpet\",\"colorbar\":{\"outlinewidth\":0,\"ticks\":\"\"}}],\"contour\":[{\"type\":\"contour\",\"colorbar\":{\"outlinewidth\":0,\"ticks\":\"\"},\"colorscale\":[[0.0,\"#0d0887\"],[0.1111111111111111,\"#46039f\"],[0.2222222222222222,\"#7201a8\"],[0.3333333333333333,\"#9c179e\"],[0.4444444444444444,\"#bd3786\"],[0.5555555555555556,\"#d8576b\"],[0.6666666666666666,\"#ed7953\"],[0.7777777777777778,\"#fb9f3a\"],[0.8888888888888888,\"#fdca26\"],[1.0,\"#f0f921\"]]}],\"surface\":[{\"type\":\"surface\",\"colorbar\":{\"outlinewidth\":0,\"ticks\":\"\"},\"colorscale\":[[0.0,\"#0d0887\"],[0.1111111111111111,\"#46039f\"],[0.2222222222222222,\"#7201a8\"],[0.3333333333333333,\"#9c179e\"],[0.4444444444444444,\"#bd3786\"],[0.5555555555555556,\"#d8576b\"],[0.6666666666666666,\"#ed7953\"],[0.7777777777777778,\"#fb9f3a\"],[0.8888888888888888,\"#fdca26\"],[1.0,\"#f0f921\"]]}],\"mesh3d\":[{\"type\":\"mesh3d\",\"colorbar\":{\"outlinewidth\":0,\"ticks\":\"\"}}],\"scatter\":[{\"fillpattern\":{\"fillmode\":\"overlay\",\"size\":10,\"solidity\":0.2},\"type\":\"scatter\"}],\"parcoords\":[{\"type\":\"parcoords\",\"line\":{\"colorbar\":{\"outlinewidth\":0,\"ticks\":\"\"}}}],\"scatterpolargl\":[{\"type\":\"scatterpolargl\",\"marker\":{\"colorbar\":{\"outlinewidth\":0,\"ticks\":\"\"}}}],\"bar\":[{\"error_x\":{\"color\":\"#2a3f5f\"},\"error_y\":{\"color\":\"#2a3f5f\"},\"marker\":{\"line\":{\"color\":\"#E5ECF6\",\"width\":0.5},\"pattern\":{\"fillmode\":\"overlay\",\"size\":10,\"solidity\":0.2}},\"type\":\"bar\"}],\"scattergeo\":[{\"type\":\"scattergeo\",\"marker\":{\"colorbar\":{\"outlinewidth\":0,\"ticks\":\"\"}}}],\"scatterpolar\":[{\"type\":\"scatterpolar\",\"marker\":{\"colorbar\":{\"outlinewidth\":0,\"ticks\":\"\"}}}],\"histogram\":[{\"marker\":{\"pattern\":{\"fillmode\":\"overlay\",\"size\":10,\"solidity\":0.2}},\"type\":\"histogram\"}],\"scattergl\":[{\"type\":\"scattergl\",\"marker\":{\"colorbar\":{\"outlinewidth\":0,\"ticks\":\"\"}}}],\"scatter3d\":[{\"type\":\"scatter3d\",\"line\":{\"colorbar\":{\"outlinewidth\":0,\"ticks\":\"\"}},\"marker\":{\"colorbar\":{\"outlinewidth\":0,\"ticks\":\"\"}}}],\"scattermapbox\":[{\"type\":\"scattermapbox\",\"marker\":{\"colorbar\":{\"outlinewidth\":0,\"ticks\":\"\"}}}],\"scatterternary\":[{\"type\":\"scatterternary\",\"marker\":{\"colorbar\":{\"outlinewidth\":0,\"ticks\":\"\"}}}],\"scattercarpet\":[{\"type\":\"scattercarpet\",\"marker\":{\"colorbar\":{\"outlinewidth\":0,\"ticks\":\"\"}}}],\"carpet\":[{\"aaxis\":{\"endlinecolor\":\"#2a3f5f\",\"gridcolor\":\"white\",\"linecolor\":\"white\",\"minorgridcolor\":\"white\",\"startlinecolor\":\"#2a3f5f\"},\"baxis\":{\"endlinecolor\":\"#2a3f5f\",\"gridcolor\":\"white\",\"linecolor\":\"white\",\"minorgridcolor\":\"white\",\"startlinecolor\":\"#2a3f5f\"},\"type\":\"carpet\"}],\"table\":[{\"cells\":{\"fill\":{\"color\":\"#EBF0F8\"},\"line\":{\"color\":\"white\"}},\"header\":{\"fill\":{\"color\":\"#C8D4E3\"},\"line\":{\"color\":\"white\"}},\"type\":\"table\"}],\"barpolar\":[{\"marker\":{\"line\":{\"color\":\"#E5ECF6\",\"width\":0.5},\"pattern\":{\"fillmode\":\"overlay\",\"size\":10,\"solidity\":0.2}},\"type\":\"barpolar\"}],\"pie\":[{\"automargin\":true,\"type\":\"pie\"}]},\"layout\":{\"autotypenumbers\":\"strict\",\"colorway\":[\"#636efa\",\"#EF553B\",\"#00cc96\",\"#ab63fa\",\"#FFA15A\",\"#19d3f3\",\"#FF6692\",\"#B6E880\",\"#FF97FF\",\"#FECB52\"],\"font\":{\"color\":\"#2a3f5f\"},\"hovermode\":\"closest\",\"hoverlabel\":{\"align\":\"left\"},\"paper_bgcolor\":\"white\",\"plot_bgcolor\":\"#E5ECF6\",\"polar\":{\"bgcolor\":\"#E5ECF6\",\"angularaxis\":{\"gridcolor\":\"white\",\"linecolor\":\"white\",\"ticks\":\"\"},\"radialaxis\":{\"gridcolor\":\"white\",\"linecolor\":\"white\",\"ticks\":\"\"}},\"ternary\":{\"bgcolor\":\"#E5ECF6\",\"aaxis\":{\"gridcolor\":\"white\",\"linecolor\":\"white\",\"ticks\":\"\"},\"baxis\":{\"gridcolor\":\"white\",\"linecolor\":\"white\",\"ticks\":\"\"},\"caxis\":{\"gridcolor\":\"white\",\"linecolor\":\"white\",\"ticks\":\"\"}},\"coloraxis\":{\"colorbar\":{\"outlinewidth\":0,\"ticks\":\"\"}},\"colorscale\":{\"sequential\":[[0.0,\"#0d0887\"],[0.1111111111111111,\"#46039f\"],[0.2222222222222222,\"#7201a8\"],[0.3333333333333333,\"#9c179e\"],[0.4444444444444444,\"#bd3786\"],[0.5555555555555556,\"#d8576b\"],[0.6666666666666666,\"#ed7953\"],[0.7777777777777778,\"#fb9f3a\"],[0.8888888888888888,\"#fdca26\"],[1.0,\"#f0f921\"]],\"sequentialminus\":[[0.0,\"#0d0887\"],[0.1111111111111111,\"#46039f\"],[0.2222222222222222,\"#7201a8\"],[0.3333333333333333,\"#9c179e\"],[0.4444444444444444,\"#bd3786\"],[0.5555555555555556,\"#d8576b\"],[0.6666666666666666,\"#ed7953\"],[0.7777777777777778,\"#fb9f3a\"],[0.8888888888888888,\"#fdca26\"],[1.0,\"#f0f921\"]],\"diverging\":[[0,\"#8e0152\"],[0.1,\"#c51b7d\"],[0.2,\"#de77ae\"],[0.3,\"#f1b6da\"],[0.4,\"#fde0ef\"],[0.5,\"#f7f7f7\"],[0.6,\"#e6f5d0\"],[0.7,\"#b8e186\"],[0.8,\"#7fbc41\"],[0.9,\"#4d9221\"],[1,\"#276419\"]]},\"xaxis\":{\"gridcolor\":\"white\",\"linecolor\":\"white\",\"ticks\":\"\",\"title\":{\"standoff\":15},\"zerolinecolor\":\"white\",\"automargin\":true,\"zerolinewidth\":2},\"yaxis\":{\"gridcolor\":\"white\",\"linecolor\":\"white\",\"ticks\":\"\",\"title\":{\"standoff\":15},\"zerolinecolor\":\"white\",\"automargin\":true,\"zerolinewidth\":2},\"scene\":{\"xaxis\":{\"backgroundcolor\":\"#E5ECF6\",\"gridcolor\":\"white\",\"linecolor\":\"white\",\"showbackground\":true,\"ticks\":\"\",\"zerolinecolor\":\"white\",\"gridwidth\":2},\"yaxis\":{\"backgroundcolor\":\"#E5ECF6\",\"gridcolor\":\"white\",\"linecolor\":\"white\",\"showbackground\":true,\"ticks\":\"\",\"zerolinecolor\":\"white\",\"gridwidth\":2},\"zaxis\":{\"backgroundcolor\":\"#E5ECF6\",\"gridcolor\":\"white\",\"linecolor\":\"white\",\"showbackground\":true,\"ticks\":\"\",\"zerolinecolor\":\"white\",\"gridwidth\":2}},\"shapedefaults\":{\"line\":{\"color\":\"#2a3f5f\"}},\"annotationdefaults\":{\"arrowcolor\":\"#2a3f5f\",\"arrowhead\":0,\"arrowwidth\":1},\"geo\":{\"bgcolor\":\"white\",\"landcolor\":\"#E5ECF6\",\"subunitcolor\":\"white\",\"showland\":true,\"showlakes\":true,\"lakecolor\":\"white\"},\"title\":{\"x\":0.05},\"mapbox\":{\"style\":\"light\"}}},\"yaxis\":{\"title\":{\"text\":\"Price\"},\"tickangle\":0},\"xaxis\":{\"rangeslider\":{\"visible\":false},\"title\":{\"text\":\"Time\"}},\"title\":{\"text\":\"['QQQ'], <DatetimeArray>\\n['2021-12-28 00:00:00']\\nLength: 1, dtype: datetime64[ns]\"}},                        {\"responsive\": true}                    ).then(function(){\n",
       "                            \n",
       "var gd = document.getElementById('d6cd51ef-e2c3-4d23-aee5-986abd2aa223');\n",
       "var x = new MutationObserver(function (mutations, observer) {{\n",
       "        var display = window.getComputedStyle(gd).display;\n",
       "        if (!display || display === 'none') {{\n",
       "            console.log([gd, 'removed!']);\n",
       "            Plotly.purge(gd);\n",
       "            observer.disconnect();\n",
       "        }}\n",
       "}});\n",
       "\n",
       "// Listen for the removal of the full notebook cells\n",
       "var notebookContainer = gd.closest('#notebook-container');\n",
       "if (notebookContainer) {{\n",
       "    x.observe(notebookContainer, {childList: true});\n",
       "}}\n",
       "\n",
       "// Listen for the clearing of the current output cell\n",
       "var outputEl = gd.closest('.output');\n",
       "if (outputEl) {{\n",
       "    x.observe(outputEl, {childList: true});\n",
       "}}\n",
       "\n",
       "                        })                };                });            </script>        </div>"
      ]
     },
     "metadata": {},
     "output_type": "display_data"
    },
    {
     "data": {
      "application/vnd.plotly.v1+json": {
       "config": {
        "plotlyServerURL": "https://plot.ly"
       },
       "data": [
        {
         "hovertemplate": "Time=%{x}<br>StochRSI=%{y}<extra></extra>",
         "legendgroup": "",
         "line": {
          "color": "#636efa",
          "dash": "solid"
         },
         "marker": {
          "symbol": "circle"
         },
         "mode": "lines",
         "name": "",
         "orientation": "v",
         "showlegend": false,
         "type": "scatter",
         "x": [
          "16:30:00",
          "16:35:00",
          "16:40:00",
          "16:45:00",
          "16:50:00",
          "16:55:00",
          "17:00:00",
          "17:05:00",
          "17:10:00",
          "17:15:00",
          "17:20:00",
          "17:25:00",
          "17:30:00",
          "17:35:00",
          "17:40:00",
          "17:45:00",
          "17:50:00",
          "17:55:00",
          "18:00:00",
          "18:05:00",
          "18:10:00",
          "18:15:00",
          "18:20:00",
          "18:25:00",
          "18:30:00",
          "18:35:00",
          "18:40:00",
          "18:45:00",
          "18:50:00",
          "18:55:00",
          "19:00:00",
          "19:05:00",
          "19:10:00",
          "19:15:00",
          "19:20:00",
          "19:25:00",
          "19:30:00",
          "19:35:00",
          "19:40:00",
          "19:45:00",
          "19:50:00",
          "19:55:00",
          "20:00:00",
          "20:05:00",
          "20:10:00",
          "20:15:00",
          "20:20:00",
          "20:25:00",
          "20:30:00",
          "20:35:00",
          "20:40:00",
          "20:45:00",
          "20:50:00",
          "20:55:00",
          "21:00:00",
          "21:05:00",
          "21:10:00",
          "21:15:00",
          "21:20:00",
          "21:25:00",
          "21:30:00",
          "21:35:00",
          "21:40:00",
          "21:45:00",
          "21:50:00",
          "21:55:00",
          "22:00:00",
          "22:05:00",
          "22:10:00",
          "22:15:00",
          "22:20:00",
          "22:25:00",
          "22:30:00",
          "22:35:00",
          "22:40:00",
          "22:45:00",
          "22:50:00",
          "22:55:00"
         ],
         "xaxis": "x",
         "y": [
          100,
          73.37,
          60.13,
          42.01,
          56.37,
          57.61,
          64.56,
          43.5,
          22.16,
          0,
          13.98,
          39.24,
          69.31,
          83.1,
          77.61,
          71.65,
          62.68,
          65.43,
          73.49,
          73.13,
          50.6,
          18.44,
          0,
          7.92,
          7.92,
          7.92,
          0,
          21.02,
          54.35,
          87.68,
          99.58,
          87.98,
          74.17,
          55.59,
          52.09,
          32.57,
          18.23,
          8.32,
          16.55,
          24.54,
          33.72,
          53.61,
          78.95,
          90.26,
          83.78,
          66.99,
          51.72,
          58.27,
          57.19,
          54.14,
          27.6,
          30.69,
          37.54,
          69.25,
          50.69,
          34.38,
          14.74,
          38.18,
          70.47,
          90.1,
          100,
          100,
          96.69,
          90.53,
          90.53,
          91.48,
          70.98,
          66.2,
          68.56,
          86.59,
          88.74,
          68.71,
          50.45,
          49.92,
          69.94,
          90.41,
          60.24,
          34.91
         ],
         "yaxis": "y"
        }
       ],
       "layout": {
        "height": 300,
        "legend": {
         "tracegroupgap": 0
        },
        "margin": {
         "t": 60
        },
        "shapes": [
         {
          "line": {
           "color": "black",
           "dash": "dot",
           "width": 1
          },
          "type": "line",
          "x0": "16:30:00",
          "x1": "22:55:00",
          "y0": 20,
          "y1": 20
         },
         {
          "line": {
           "color": "black",
           "dash": "dot",
           "width": 1
          },
          "type": "line",
          "x0": "16:30:00",
          "x1": "22:55:00",
          "y0": 80,
          "y1": 80
         }
        ],
        "template": {
         "data": {
          "bar": [
           {
            "error_x": {
             "color": "#2a3f5f"
            },
            "error_y": {
             "color": "#2a3f5f"
            },
            "marker": {
             "line": {
              "color": "#E5ECF6",
              "width": 0.5
             },
             "pattern": {
              "fillmode": "overlay",
              "size": 10,
              "solidity": 0.2
             }
            },
            "type": "bar"
           }
          ],
          "barpolar": [
           {
            "marker": {
             "line": {
              "color": "#E5ECF6",
              "width": 0.5
             },
             "pattern": {
              "fillmode": "overlay",
              "size": 10,
              "solidity": 0.2
             }
            },
            "type": "barpolar"
           }
          ],
          "carpet": [
           {
            "aaxis": {
             "endlinecolor": "#2a3f5f",
             "gridcolor": "white",
             "linecolor": "white",
             "minorgridcolor": "white",
             "startlinecolor": "#2a3f5f"
            },
            "baxis": {
             "endlinecolor": "#2a3f5f",
             "gridcolor": "white",
             "linecolor": "white",
             "minorgridcolor": "white",
             "startlinecolor": "#2a3f5f"
            },
            "type": "carpet"
           }
          ],
          "choropleth": [
           {
            "colorbar": {
             "outlinewidth": 0,
             "ticks": ""
            },
            "type": "choropleth"
           }
          ],
          "contour": [
           {
            "colorbar": {
             "outlinewidth": 0,
             "ticks": ""
            },
            "colorscale": [
             [
              0,
              "#0d0887"
             ],
             [
              0.1111111111111111,
              "#46039f"
             ],
             [
              0.2222222222222222,
              "#7201a8"
             ],
             [
              0.3333333333333333,
              "#9c179e"
             ],
             [
              0.4444444444444444,
              "#bd3786"
             ],
             [
              0.5555555555555556,
              "#d8576b"
             ],
             [
              0.6666666666666666,
              "#ed7953"
             ],
             [
              0.7777777777777778,
              "#fb9f3a"
             ],
             [
              0.8888888888888888,
              "#fdca26"
             ],
             [
              1,
              "#f0f921"
             ]
            ],
            "type": "contour"
           }
          ],
          "contourcarpet": [
           {
            "colorbar": {
             "outlinewidth": 0,
             "ticks": ""
            },
            "type": "contourcarpet"
           }
          ],
          "heatmap": [
           {
            "colorbar": {
             "outlinewidth": 0,
             "ticks": ""
            },
            "colorscale": [
             [
              0,
              "#0d0887"
             ],
             [
              0.1111111111111111,
              "#46039f"
             ],
             [
              0.2222222222222222,
              "#7201a8"
             ],
             [
              0.3333333333333333,
              "#9c179e"
             ],
             [
              0.4444444444444444,
              "#bd3786"
             ],
             [
              0.5555555555555556,
              "#d8576b"
             ],
             [
              0.6666666666666666,
              "#ed7953"
             ],
             [
              0.7777777777777778,
              "#fb9f3a"
             ],
             [
              0.8888888888888888,
              "#fdca26"
             ],
             [
              1,
              "#f0f921"
             ]
            ],
            "type": "heatmap"
           }
          ],
          "heatmapgl": [
           {
            "colorbar": {
             "outlinewidth": 0,
             "ticks": ""
            },
            "colorscale": [
             [
              0,
              "#0d0887"
             ],
             [
              0.1111111111111111,
              "#46039f"
             ],
             [
              0.2222222222222222,
              "#7201a8"
             ],
             [
              0.3333333333333333,
              "#9c179e"
             ],
             [
              0.4444444444444444,
              "#bd3786"
             ],
             [
              0.5555555555555556,
              "#d8576b"
             ],
             [
              0.6666666666666666,
              "#ed7953"
             ],
             [
              0.7777777777777778,
              "#fb9f3a"
             ],
             [
              0.8888888888888888,
              "#fdca26"
             ],
             [
              1,
              "#f0f921"
             ]
            ],
            "type": "heatmapgl"
           }
          ],
          "histogram": [
           {
            "marker": {
             "pattern": {
              "fillmode": "overlay",
              "size": 10,
              "solidity": 0.2
             }
            },
            "type": "histogram"
           }
          ],
          "histogram2d": [
           {
            "colorbar": {
             "outlinewidth": 0,
             "ticks": ""
            },
            "colorscale": [
             [
              0,
              "#0d0887"
             ],
             [
              0.1111111111111111,
              "#46039f"
             ],
             [
              0.2222222222222222,
              "#7201a8"
             ],
             [
              0.3333333333333333,
              "#9c179e"
             ],
             [
              0.4444444444444444,
              "#bd3786"
             ],
             [
              0.5555555555555556,
              "#d8576b"
             ],
             [
              0.6666666666666666,
              "#ed7953"
             ],
             [
              0.7777777777777778,
              "#fb9f3a"
             ],
             [
              0.8888888888888888,
              "#fdca26"
             ],
             [
              1,
              "#f0f921"
             ]
            ],
            "type": "histogram2d"
           }
          ],
          "histogram2dcontour": [
           {
            "colorbar": {
             "outlinewidth": 0,
             "ticks": ""
            },
            "colorscale": [
             [
              0,
              "#0d0887"
             ],
             [
              0.1111111111111111,
              "#46039f"
             ],
             [
              0.2222222222222222,
              "#7201a8"
             ],
             [
              0.3333333333333333,
              "#9c179e"
             ],
             [
              0.4444444444444444,
              "#bd3786"
             ],
             [
              0.5555555555555556,
              "#d8576b"
             ],
             [
              0.6666666666666666,
              "#ed7953"
             ],
             [
              0.7777777777777778,
              "#fb9f3a"
             ],
             [
              0.8888888888888888,
              "#fdca26"
             ],
             [
              1,
              "#f0f921"
             ]
            ],
            "type": "histogram2dcontour"
           }
          ],
          "mesh3d": [
           {
            "colorbar": {
             "outlinewidth": 0,
             "ticks": ""
            },
            "type": "mesh3d"
           }
          ],
          "parcoords": [
           {
            "line": {
             "colorbar": {
              "outlinewidth": 0,
              "ticks": ""
             }
            },
            "type": "parcoords"
           }
          ],
          "pie": [
           {
            "automargin": true,
            "type": "pie"
           }
          ],
          "scatter": [
           {
            "fillpattern": {
             "fillmode": "overlay",
             "size": 10,
             "solidity": 0.2
            },
            "type": "scatter"
           }
          ],
          "scatter3d": [
           {
            "line": {
             "colorbar": {
              "outlinewidth": 0,
              "ticks": ""
             }
            },
            "marker": {
             "colorbar": {
              "outlinewidth": 0,
              "ticks": ""
             }
            },
            "type": "scatter3d"
           }
          ],
          "scattercarpet": [
           {
            "marker": {
             "colorbar": {
              "outlinewidth": 0,
              "ticks": ""
             }
            },
            "type": "scattercarpet"
           }
          ],
          "scattergeo": [
           {
            "marker": {
             "colorbar": {
              "outlinewidth": 0,
              "ticks": ""
             }
            },
            "type": "scattergeo"
           }
          ],
          "scattergl": [
           {
            "marker": {
             "colorbar": {
              "outlinewidth": 0,
              "ticks": ""
             }
            },
            "type": "scattergl"
           }
          ],
          "scattermapbox": [
           {
            "marker": {
             "colorbar": {
              "outlinewidth": 0,
              "ticks": ""
             }
            },
            "type": "scattermapbox"
           }
          ],
          "scatterpolar": [
           {
            "marker": {
             "colorbar": {
              "outlinewidth": 0,
              "ticks": ""
             }
            },
            "type": "scatterpolar"
           }
          ],
          "scatterpolargl": [
           {
            "marker": {
             "colorbar": {
              "outlinewidth": 0,
              "ticks": ""
             }
            },
            "type": "scatterpolargl"
           }
          ],
          "scatterternary": [
           {
            "marker": {
             "colorbar": {
              "outlinewidth": 0,
              "ticks": ""
             }
            },
            "type": "scatterternary"
           }
          ],
          "surface": [
           {
            "colorbar": {
             "outlinewidth": 0,
             "ticks": ""
            },
            "colorscale": [
             [
              0,
              "#0d0887"
             ],
             [
              0.1111111111111111,
              "#46039f"
             ],
             [
              0.2222222222222222,
              "#7201a8"
             ],
             [
              0.3333333333333333,
              "#9c179e"
             ],
             [
              0.4444444444444444,
              "#bd3786"
             ],
             [
              0.5555555555555556,
              "#d8576b"
             ],
             [
              0.6666666666666666,
              "#ed7953"
             ],
             [
              0.7777777777777778,
              "#fb9f3a"
             ],
             [
              0.8888888888888888,
              "#fdca26"
             ],
             [
              1,
              "#f0f921"
             ]
            ],
            "type": "surface"
           }
          ],
          "table": [
           {
            "cells": {
             "fill": {
              "color": "#EBF0F8"
             },
             "line": {
              "color": "white"
             }
            },
            "header": {
             "fill": {
              "color": "#C8D4E3"
             },
             "line": {
              "color": "white"
             }
            },
            "type": "table"
           }
          ]
         },
         "layout": {
          "annotationdefaults": {
           "arrowcolor": "#2a3f5f",
           "arrowhead": 0,
           "arrowwidth": 1
          },
          "autotypenumbers": "strict",
          "coloraxis": {
           "colorbar": {
            "outlinewidth": 0,
            "ticks": ""
           }
          },
          "colorscale": {
           "diverging": [
            [
             0,
             "#8e0152"
            ],
            [
             0.1,
             "#c51b7d"
            ],
            [
             0.2,
             "#de77ae"
            ],
            [
             0.3,
             "#f1b6da"
            ],
            [
             0.4,
             "#fde0ef"
            ],
            [
             0.5,
             "#f7f7f7"
            ],
            [
             0.6,
             "#e6f5d0"
            ],
            [
             0.7,
             "#b8e186"
            ],
            [
             0.8,
             "#7fbc41"
            ],
            [
             0.9,
             "#4d9221"
            ],
            [
             1,
             "#276419"
            ]
           ],
           "sequential": [
            [
             0,
             "#0d0887"
            ],
            [
             0.1111111111111111,
             "#46039f"
            ],
            [
             0.2222222222222222,
             "#7201a8"
            ],
            [
             0.3333333333333333,
             "#9c179e"
            ],
            [
             0.4444444444444444,
             "#bd3786"
            ],
            [
             0.5555555555555556,
             "#d8576b"
            ],
            [
             0.6666666666666666,
             "#ed7953"
            ],
            [
             0.7777777777777778,
             "#fb9f3a"
            ],
            [
             0.8888888888888888,
             "#fdca26"
            ],
            [
             1,
             "#f0f921"
            ]
           ],
           "sequentialminus": [
            [
             0,
             "#0d0887"
            ],
            [
             0.1111111111111111,
             "#46039f"
            ],
            [
             0.2222222222222222,
             "#7201a8"
            ],
            [
             0.3333333333333333,
             "#9c179e"
            ],
            [
             0.4444444444444444,
             "#bd3786"
            ],
            [
             0.5555555555555556,
             "#d8576b"
            ],
            [
             0.6666666666666666,
             "#ed7953"
            ],
            [
             0.7777777777777778,
             "#fb9f3a"
            ],
            [
             0.8888888888888888,
             "#fdca26"
            ],
            [
             1,
             "#f0f921"
            ]
           ]
          },
          "colorway": [
           "#636efa",
           "#EF553B",
           "#00cc96",
           "#ab63fa",
           "#FFA15A",
           "#19d3f3",
           "#FF6692",
           "#B6E880",
           "#FF97FF",
           "#FECB52"
          ],
          "font": {
           "color": "#2a3f5f"
          },
          "geo": {
           "bgcolor": "white",
           "lakecolor": "white",
           "landcolor": "#E5ECF6",
           "showlakes": true,
           "showland": true,
           "subunitcolor": "white"
          },
          "hoverlabel": {
           "align": "left"
          },
          "hovermode": "closest",
          "mapbox": {
           "style": "light"
          },
          "paper_bgcolor": "white",
          "plot_bgcolor": "#E5ECF6",
          "polar": {
           "angularaxis": {
            "gridcolor": "white",
            "linecolor": "white",
            "ticks": ""
           },
           "bgcolor": "#E5ECF6",
           "radialaxis": {
            "gridcolor": "white",
            "linecolor": "white",
            "ticks": ""
           }
          },
          "scene": {
           "xaxis": {
            "backgroundcolor": "#E5ECF6",
            "gridcolor": "white",
            "gridwidth": 2,
            "linecolor": "white",
            "showbackground": true,
            "ticks": "",
            "zerolinecolor": "white"
           },
           "yaxis": {
            "backgroundcolor": "#E5ECF6",
            "gridcolor": "white",
            "gridwidth": 2,
            "linecolor": "white",
            "showbackground": true,
            "ticks": "",
            "zerolinecolor": "white"
           },
           "zaxis": {
            "backgroundcolor": "#E5ECF6",
            "gridcolor": "white",
            "gridwidth": 2,
            "linecolor": "white",
            "showbackground": true,
            "ticks": "",
            "zerolinecolor": "white"
           }
          },
          "shapedefaults": {
           "line": {
            "color": "#2a3f5f"
           }
          },
          "ternary": {
           "aaxis": {
            "gridcolor": "white",
            "linecolor": "white",
            "ticks": ""
           },
           "baxis": {
            "gridcolor": "white",
            "linecolor": "white",
            "ticks": ""
           },
           "bgcolor": "#E5ECF6",
           "caxis": {
            "gridcolor": "white",
            "linecolor": "white",
            "ticks": ""
           }
          },
          "title": {
           "x": 0.05
          },
          "xaxis": {
           "automargin": true,
           "gridcolor": "white",
           "linecolor": "white",
           "ticks": "",
           "title": {
            "standoff": 15
           },
           "zerolinecolor": "white",
           "zerolinewidth": 2
          },
          "yaxis": {
           "automargin": true,
           "gridcolor": "white",
           "linecolor": "white",
           "ticks": "",
           "title": {
            "standoff": 15
           },
           "zerolinecolor": "white",
           "zerolinewidth": 2
          }
         }
        },
        "width": 985,
        "xaxis": {
         "anchor": "y",
         "domain": [
          0,
          1
         ],
         "title": {
          "text": "Time"
         }
        },
        "yaxis": {
         "anchor": "x",
         "domain": [
          0,
          1
         ],
         "title": {
          "text": "StochRSI"
         }
        }
       }
      },
      "text/html": [
       "<div>                            <div id=\"12fc0148-ba51-4e7a-8cc8-2f6be605d3ca\" class=\"plotly-graph-div\" style=\"height:300px; width:985px;\"></div>            <script type=\"text/javascript\">                require([\"plotly\"], function(Plotly) {                    window.PLOTLYENV=window.PLOTLYENV || {};                                    if (document.getElementById(\"12fc0148-ba51-4e7a-8cc8-2f6be605d3ca\")) {                    Plotly.newPlot(                        \"12fc0148-ba51-4e7a-8cc8-2f6be605d3ca\",                        [{\"hovertemplate\":\"Time=%{x}<br>StochRSI=%{y}<extra></extra>\",\"legendgroup\":\"\",\"line\":{\"color\":\"#636efa\",\"dash\":\"solid\"},\"marker\":{\"symbol\":\"circle\"},\"mode\":\"lines\",\"name\":\"\",\"orientation\":\"v\",\"showlegend\":false,\"x\":[\"16:30:00\",\"16:35:00\",\"16:40:00\",\"16:45:00\",\"16:50:00\",\"16:55:00\",\"17:00:00\",\"17:05:00\",\"17:10:00\",\"17:15:00\",\"17:20:00\",\"17:25:00\",\"17:30:00\",\"17:35:00\",\"17:40:00\",\"17:45:00\",\"17:50:00\",\"17:55:00\",\"18:00:00\",\"18:05:00\",\"18:10:00\",\"18:15:00\",\"18:20:00\",\"18:25:00\",\"18:30:00\",\"18:35:00\",\"18:40:00\",\"18:45:00\",\"18:50:00\",\"18:55:00\",\"19:00:00\",\"19:05:00\",\"19:10:00\",\"19:15:00\",\"19:20:00\",\"19:25:00\",\"19:30:00\",\"19:35:00\",\"19:40:00\",\"19:45:00\",\"19:50:00\",\"19:55:00\",\"20:00:00\",\"20:05:00\",\"20:10:00\",\"20:15:00\",\"20:20:00\",\"20:25:00\",\"20:30:00\",\"20:35:00\",\"20:40:00\",\"20:45:00\",\"20:50:00\",\"20:55:00\",\"21:00:00\",\"21:05:00\",\"21:10:00\",\"21:15:00\",\"21:20:00\",\"21:25:00\",\"21:30:00\",\"21:35:00\",\"21:40:00\",\"21:45:00\",\"21:50:00\",\"21:55:00\",\"22:00:00\",\"22:05:00\",\"22:10:00\",\"22:15:00\",\"22:20:00\",\"22:25:00\",\"22:30:00\",\"22:35:00\",\"22:40:00\",\"22:45:00\",\"22:50:00\",\"22:55:00\"],\"xaxis\":\"x\",\"y\":[100.0,73.37,60.13,42.01,56.37,57.61,64.56,43.5,22.16,0.0,13.98,39.24,69.31,83.1,77.61,71.65,62.68,65.43,73.49,73.13,50.6,18.44,0.0,7.92,7.92,7.92,0.0,21.02,54.35,87.68,99.58,87.98,74.17,55.59,52.09,32.57,18.23,8.32,16.55,24.54,33.72,53.61,78.95,90.26,83.78,66.99,51.72,58.27,57.19,54.14,27.6,30.69,37.54,69.25,50.69,34.38,14.74,38.18,70.47,90.1,100.0,100.0,96.69,90.53,90.53,91.48,70.98,66.2,68.56,86.59,88.74,68.71,50.45,49.92,69.94,90.41,60.24,34.91],\"yaxis\":\"y\",\"type\":\"scatter\"}],                        {\"template\":{\"data\":{\"histogram2dcontour\":[{\"type\":\"histogram2dcontour\",\"colorbar\":{\"outlinewidth\":0,\"ticks\":\"\"},\"colorscale\":[[0.0,\"#0d0887\"],[0.1111111111111111,\"#46039f\"],[0.2222222222222222,\"#7201a8\"],[0.3333333333333333,\"#9c179e\"],[0.4444444444444444,\"#bd3786\"],[0.5555555555555556,\"#d8576b\"],[0.6666666666666666,\"#ed7953\"],[0.7777777777777778,\"#fb9f3a\"],[0.8888888888888888,\"#fdca26\"],[1.0,\"#f0f921\"]]}],\"choropleth\":[{\"type\":\"choropleth\",\"colorbar\":{\"outlinewidth\":0,\"ticks\":\"\"}}],\"histogram2d\":[{\"type\":\"histogram2d\",\"colorbar\":{\"outlinewidth\":0,\"ticks\":\"\"},\"colorscale\":[[0.0,\"#0d0887\"],[0.1111111111111111,\"#46039f\"],[0.2222222222222222,\"#7201a8\"],[0.3333333333333333,\"#9c179e\"],[0.4444444444444444,\"#bd3786\"],[0.5555555555555556,\"#d8576b\"],[0.6666666666666666,\"#ed7953\"],[0.7777777777777778,\"#fb9f3a\"],[0.8888888888888888,\"#fdca26\"],[1.0,\"#f0f921\"]]}],\"heatmap\":[{\"type\":\"heatmap\",\"colorbar\":{\"outlinewidth\":0,\"ticks\":\"\"},\"colorscale\":[[0.0,\"#0d0887\"],[0.1111111111111111,\"#46039f\"],[0.2222222222222222,\"#7201a8\"],[0.3333333333333333,\"#9c179e\"],[0.4444444444444444,\"#bd3786\"],[0.5555555555555556,\"#d8576b\"],[0.6666666666666666,\"#ed7953\"],[0.7777777777777778,\"#fb9f3a\"],[0.8888888888888888,\"#fdca26\"],[1.0,\"#f0f921\"]]}],\"heatmapgl\":[{\"type\":\"heatmapgl\",\"colorbar\":{\"outlinewidth\":0,\"ticks\":\"\"},\"colorscale\":[[0.0,\"#0d0887\"],[0.1111111111111111,\"#46039f\"],[0.2222222222222222,\"#7201a8\"],[0.3333333333333333,\"#9c179e\"],[0.4444444444444444,\"#bd3786\"],[0.5555555555555556,\"#d8576b\"],[0.6666666666666666,\"#ed7953\"],[0.7777777777777778,\"#fb9f3a\"],[0.8888888888888888,\"#fdca26\"],[1.0,\"#f0f921\"]]}],\"contourcarpet\":[{\"type\":\"contourcarpet\",\"colorbar\":{\"outlinewidth\":0,\"ticks\":\"\"}}],\"contour\":[{\"type\":\"contour\",\"colorbar\":{\"outlinewidth\":0,\"ticks\":\"\"},\"colorscale\":[[0.0,\"#0d0887\"],[0.1111111111111111,\"#46039f\"],[0.2222222222222222,\"#7201a8\"],[0.3333333333333333,\"#9c179e\"],[0.4444444444444444,\"#bd3786\"],[0.5555555555555556,\"#d8576b\"],[0.6666666666666666,\"#ed7953\"],[0.7777777777777778,\"#fb9f3a\"],[0.8888888888888888,\"#fdca26\"],[1.0,\"#f0f921\"]]}],\"surface\":[{\"type\":\"surface\",\"colorbar\":{\"outlinewidth\":0,\"ticks\":\"\"},\"colorscale\":[[0.0,\"#0d0887\"],[0.1111111111111111,\"#46039f\"],[0.2222222222222222,\"#7201a8\"],[0.3333333333333333,\"#9c179e\"],[0.4444444444444444,\"#bd3786\"],[0.5555555555555556,\"#d8576b\"],[0.6666666666666666,\"#ed7953\"],[0.7777777777777778,\"#fb9f3a\"],[0.8888888888888888,\"#fdca26\"],[1.0,\"#f0f921\"]]}],\"mesh3d\":[{\"type\":\"mesh3d\",\"colorbar\":{\"outlinewidth\":0,\"ticks\":\"\"}}],\"scatter\":[{\"fillpattern\":{\"fillmode\":\"overlay\",\"size\":10,\"solidity\":0.2},\"type\":\"scatter\"}],\"parcoords\":[{\"type\":\"parcoords\",\"line\":{\"colorbar\":{\"outlinewidth\":0,\"ticks\":\"\"}}}],\"scatterpolargl\":[{\"type\":\"scatterpolargl\",\"marker\":{\"colorbar\":{\"outlinewidth\":0,\"ticks\":\"\"}}}],\"bar\":[{\"error_x\":{\"color\":\"#2a3f5f\"},\"error_y\":{\"color\":\"#2a3f5f\"},\"marker\":{\"line\":{\"color\":\"#E5ECF6\",\"width\":0.5},\"pattern\":{\"fillmode\":\"overlay\",\"size\":10,\"solidity\":0.2}},\"type\":\"bar\"}],\"scattergeo\":[{\"type\":\"scattergeo\",\"marker\":{\"colorbar\":{\"outlinewidth\":0,\"ticks\":\"\"}}}],\"scatterpolar\":[{\"type\":\"scatterpolar\",\"marker\":{\"colorbar\":{\"outlinewidth\":0,\"ticks\":\"\"}}}],\"histogram\":[{\"marker\":{\"pattern\":{\"fillmode\":\"overlay\",\"size\":10,\"solidity\":0.2}},\"type\":\"histogram\"}],\"scattergl\":[{\"type\":\"scattergl\",\"marker\":{\"colorbar\":{\"outlinewidth\":0,\"ticks\":\"\"}}}],\"scatter3d\":[{\"type\":\"scatter3d\",\"line\":{\"colorbar\":{\"outlinewidth\":0,\"ticks\":\"\"}},\"marker\":{\"colorbar\":{\"outlinewidth\":0,\"ticks\":\"\"}}}],\"scattermapbox\":[{\"type\":\"scattermapbox\",\"marker\":{\"colorbar\":{\"outlinewidth\":0,\"ticks\":\"\"}}}],\"scatterternary\":[{\"type\":\"scatterternary\",\"marker\":{\"colorbar\":{\"outlinewidth\":0,\"ticks\":\"\"}}}],\"scattercarpet\":[{\"type\":\"scattercarpet\",\"marker\":{\"colorbar\":{\"outlinewidth\":0,\"ticks\":\"\"}}}],\"carpet\":[{\"aaxis\":{\"endlinecolor\":\"#2a3f5f\",\"gridcolor\":\"white\",\"linecolor\":\"white\",\"minorgridcolor\":\"white\",\"startlinecolor\":\"#2a3f5f\"},\"baxis\":{\"endlinecolor\":\"#2a3f5f\",\"gridcolor\":\"white\",\"linecolor\":\"white\",\"minorgridcolor\":\"white\",\"startlinecolor\":\"#2a3f5f\"},\"type\":\"carpet\"}],\"table\":[{\"cells\":{\"fill\":{\"color\":\"#EBF0F8\"},\"line\":{\"color\":\"white\"}},\"header\":{\"fill\":{\"color\":\"#C8D4E3\"},\"line\":{\"color\":\"white\"}},\"type\":\"table\"}],\"barpolar\":[{\"marker\":{\"line\":{\"color\":\"#E5ECF6\",\"width\":0.5},\"pattern\":{\"fillmode\":\"overlay\",\"size\":10,\"solidity\":0.2}},\"type\":\"barpolar\"}],\"pie\":[{\"automargin\":true,\"type\":\"pie\"}]},\"layout\":{\"autotypenumbers\":\"strict\",\"colorway\":[\"#636efa\",\"#EF553B\",\"#00cc96\",\"#ab63fa\",\"#FFA15A\",\"#19d3f3\",\"#FF6692\",\"#B6E880\",\"#FF97FF\",\"#FECB52\"],\"font\":{\"color\":\"#2a3f5f\"},\"hovermode\":\"closest\",\"hoverlabel\":{\"align\":\"left\"},\"paper_bgcolor\":\"white\",\"plot_bgcolor\":\"#E5ECF6\",\"polar\":{\"bgcolor\":\"#E5ECF6\",\"angularaxis\":{\"gridcolor\":\"white\",\"linecolor\":\"white\",\"ticks\":\"\"},\"radialaxis\":{\"gridcolor\":\"white\",\"linecolor\":\"white\",\"ticks\":\"\"}},\"ternary\":{\"bgcolor\":\"#E5ECF6\",\"aaxis\":{\"gridcolor\":\"white\",\"linecolor\":\"white\",\"ticks\":\"\"},\"baxis\":{\"gridcolor\":\"white\",\"linecolor\":\"white\",\"ticks\":\"\"},\"caxis\":{\"gridcolor\":\"white\",\"linecolor\":\"white\",\"ticks\":\"\"}},\"coloraxis\":{\"colorbar\":{\"outlinewidth\":0,\"ticks\":\"\"}},\"colorscale\":{\"sequential\":[[0.0,\"#0d0887\"],[0.1111111111111111,\"#46039f\"],[0.2222222222222222,\"#7201a8\"],[0.3333333333333333,\"#9c179e\"],[0.4444444444444444,\"#bd3786\"],[0.5555555555555556,\"#d8576b\"],[0.6666666666666666,\"#ed7953\"],[0.7777777777777778,\"#fb9f3a\"],[0.8888888888888888,\"#fdca26\"],[1.0,\"#f0f921\"]],\"sequentialminus\":[[0.0,\"#0d0887\"],[0.1111111111111111,\"#46039f\"],[0.2222222222222222,\"#7201a8\"],[0.3333333333333333,\"#9c179e\"],[0.4444444444444444,\"#bd3786\"],[0.5555555555555556,\"#d8576b\"],[0.6666666666666666,\"#ed7953\"],[0.7777777777777778,\"#fb9f3a\"],[0.8888888888888888,\"#fdca26\"],[1.0,\"#f0f921\"]],\"diverging\":[[0,\"#8e0152\"],[0.1,\"#c51b7d\"],[0.2,\"#de77ae\"],[0.3,\"#f1b6da\"],[0.4,\"#fde0ef\"],[0.5,\"#f7f7f7\"],[0.6,\"#e6f5d0\"],[0.7,\"#b8e186\"],[0.8,\"#7fbc41\"],[0.9,\"#4d9221\"],[1,\"#276419\"]]},\"xaxis\":{\"gridcolor\":\"white\",\"linecolor\":\"white\",\"ticks\":\"\",\"title\":{\"standoff\":15},\"zerolinecolor\":\"white\",\"automargin\":true,\"zerolinewidth\":2},\"yaxis\":{\"gridcolor\":\"white\",\"linecolor\":\"white\",\"ticks\":\"\",\"title\":{\"standoff\":15},\"zerolinecolor\":\"white\",\"automargin\":true,\"zerolinewidth\":2},\"scene\":{\"xaxis\":{\"backgroundcolor\":\"#E5ECF6\",\"gridcolor\":\"white\",\"linecolor\":\"white\",\"showbackground\":true,\"ticks\":\"\",\"zerolinecolor\":\"white\",\"gridwidth\":2},\"yaxis\":{\"backgroundcolor\":\"#E5ECF6\",\"gridcolor\":\"white\",\"linecolor\":\"white\",\"showbackground\":true,\"ticks\":\"\",\"zerolinecolor\":\"white\",\"gridwidth\":2},\"zaxis\":{\"backgroundcolor\":\"#E5ECF6\",\"gridcolor\":\"white\",\"linecolor\":\"white\",\"showbackground\":true,\"ticks\":\"\",\"zerolinecolor\":\"white\",\"gridwidth\":2}},\"shapedefaults\":{\"line\":{\"color\":\"#2a3f5f\"}},\"annotationdefaults\":{\"arrowcolor\":\"#2a3f5f\",\"arrowhead\":0,\"arrowwidth\":1},\"geo\":{\"bgcolor\":\"white\",\"landcolor\":\"#E5ECF6\",\"subunitcolor\":\"white\",\"showland\":true,\"showlakes\":true,\"lakecolor\":\"white\"},\"title\":{\"x\":0.05},\"mapbox\":{\"style\":\"light\"}}},\"xaxis\":{\"anchor\":\"y\",\"domain\":[0.0,1.0],\"title\":{\"text\":\"Time\"}},\"yaxis\":{\"anchor\":\"x\",\"domain\":[0.0,1.0],\"title\":{\"text\":\"StochRSI\"}},\"legend\":{\"tracegroupgap\":0},\"margin\":{\"t\":60},\"width\":985,\"height\":300,\"shapes\":[{\"line\":{\"color\":\"black\",\"dash\":\"dot\",\"width\":1},\"type\":\"line\",\"x0\":\"16:30:00\",\"x1\":\"22:55:00\",\"y0\":20,\"y1\":20},{\"line\":{\"color\":\"black\",\"dash\":\"dot\",\"width\":1},\"type\":\"line\",\"x0\":\"16:30:00\",\"x1\":\"22:55:00\",\"y0\":80,\"y1\":80}]},                        {\"responsive\": true}                    ).then(function(){\n",
       "                            \n",
       "var gd = document.getElementById('12fc0148-ba51-4e7a-8cc8-2f6be605d3ca');\n",
       "var x = new MutationObserver(function (mutations, observer) {{\n",
       "        var display = window.getComputedStyle(gd).display;\n",
       "        if (!display || display === 'none') {{\n",
       "            console.log([gd, 'removed!']);\n",
       "            Plotly.purge(gd);\n",
       "            observer.disconnect();\n",
       "        }}\n",
       "}});\n",
       "\n",
       "// Listen for the removal of the full notebook cells\n",
       "var notebookContainer = gd.closest('#notebook-container');\n",
       "if (notebookContainer) {{\n",
       "    x.observe(notebookContainer, {childList: true});\n",
       "}}\n",
       "\n",
       "// Listen for the clearing of the current output cell\n",
       "var outputEl = gd.closest('.output');\n",
       "if (outputEl) {{\n",
       "    x.observe(outputEl, {childList: true});\n",
       "}}\n",
       "\n",
       "                        })                };                });            </script>        </div>"
      ]
     },
     "metadata": {},
     "output_type": "display_data"
    }
   ],
   "source": [
    "# Create the candlestick chart using plotly, Change Sample Data accordingly and specify Date/s\n",
    "CandCharData = CurrentData\n",
    "GraphDate = str(input('Date to show (YYYY-MM-DD):')).split(',')\n",
    "CandCharData = CandCharData[CandCharData.Date.isin(GraphDate)]  # Filter for specified date\n",
    "# Create the candlestick trace\n",
    "candlestick_trace = go.Candlestick(\n",
    "    x=CandCharData['Time'],\n",
    "    open=CandCharData['OpenPrice'],\n",
    "    high=CandCharData['Highp'],\n",
    "    low=CandCharData['Lowp'],\n",
    "    close=CandCharData['ClosePrice'],\n",
    "    name='Candlestick' )\n",
    "# Create the first line plot trace\n",
    "line_trace1 = go.Scatter(\n",
    "    x=CandCharData['Time'],\n",
    "    y=CandCharData['VWAP'],\n",
    "    mode='lines',\n",
    "    name='VWAP', )\n",
    "# Create the figure with subplots\n",
    "fig = go.Figure(data=[candlestick_trace, line_trace1])\n",
    "# Update the layout\n",
    "fig.update_layout(\n",
    "    title=str(CandCharData.ticker.unique()) + ', ' + str(CandCharData.Date.unique()),\n",
    "    xaxis_title='Time',\n",
    "    yaxis_title='Price',\n",
    "    yaxis=dict(tickangle=0),\n",
    "    xaxis_rangeslider_visible=False, )\n",
    "fig.show()\n",
    "\n",
    "fig = px.line(CandCharData, x='Time', y='StochRSI')\n",
    "fig.update_layout(width=985, height=300)  # You can adjust width and height as needed\n",
    "fig.update_layout(shapes=[\n",
    "    dict(type=\"line\", x0=CandCharData['Time'].iloc[0], x1=CandCharData['Time'].iloc[-1], y0=20, y1=20,\n",
    "         line=dict(color=\"black\", width=1, dash=\"dot\")),\n",
    "    dict(type=\"line\", x0=CandCharData['Time'].iloc[0], x1=CandCharData['Time'].iloc[-1], y0=80, y1=80,\n",
    "         line=dict(color=\"black\", width=1, dash=\"dot\"))])\n",
    "fig.show()"
   ]
  },
  {
   "cell_type": "code",
   "execution_count": null,
   "id": "0f5f4db1",
   "metadata": {},
   "outputs": [],
   "source": []
  }
 ],
 "metadata": {
  "kernelspec": {
   "display_name": "Python 3 (ipykernel)",
   "language": "python",
   "name": "python3"
  },
  "language_info": {
   "codemirror_mode": {
    "name": "ipython",
    "version": 3
   },
   "file_extension": ".py",
   "mimetype": "text/x-python",
   "name": "python",
   "nbconvert_exporter": "python",
   "pygments_lexer": "ipython3",
   "version": "3.10.9"
  }
 },
 "nbformat": 4,
 "nbformat_minor": 5
}
