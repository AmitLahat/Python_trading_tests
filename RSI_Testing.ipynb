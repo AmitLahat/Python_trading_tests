{
 "cells": [
  {
   "cell_type": "code",
   "execution_count": 64,
   "id": "69bfff19",
   "metadata": {},
   "outputs": [],
   "source": [
    "import pandas as pd\n",
    "import matplotlib.pyplot as plt\n",
    "import seaborn as sb\n",
    "import numpy as np\n",
    "import plotly.graph_objects as go\n",
    "import plotly.express as px\n",
    "import requests as req\n",
    "import json\n",
    "import ta \n",
    "from datetime import datetime\n",
    "import datetime as datetimee\n",
    "from dateutil.relativedelta import relativedelta\n",
    "import warnings\n",
    "import time as tm\n",
    "warnings.filterwarnings(\"ignore\")"
   ]
  },
  {
   "cell_type": "markdown",
   "id": "a7e88ff3",
   "metadata": {},
   "source": [
    "### Data - CurrentData"
   ]
  },
  {
   "cell_type": "code",
   "execution_count": 65,
   "id": "9e9b5d9b",
   "metadata": {},
   "outputs": [],
   "source": [
    "CurrentData = pd.read_csv('D:\\\\Users\\\\amit\\\\Desktop\\\\מסחר\\\\Python\\\\QQQ5M2021_8-2023_7.csv')"
   ]
  },
  {
   "cell_type": "markdown",
   "id": "fa2aa9fd",
   "metadata": {},
   "source": [
    "### Add Stoch-RSI, PChange, Daily Gap, Daily Range (Range Require Gap)"
   ]
  },
  {
   "cell_type": "code",
   "execution_count": 66,
   "id": "edd3a28a",
   "metadata": {},
   "outputs": [
    {
     "data": {
      "text/html": [
       "<div>\n",
       "<style scoped>\n",
       "    .dataframe tbody tr th:only-of-type {\n",
       "        vertical-align: middle;\n",
       "    }\n",
       "\n",
       "    .dataframe tbody tr th {\n",
       "        vertical-align: top;\n",
       "    }\n",
       "\n",
       "    .dataframe thead th {\n",
       "        text-align: right;\n",
       "    }\n",
       "</style>\n",
       "<table border=\"1\" class=\"dataframe\">\n",
       "  <thead>\n",
       "    <tr style=\"text-align: right;\">\n",
       "      <th></th>\n",
       "      <th>ticker</th>\n",
       "      <th>OpenPrice</th>\n",
       "      <th>ClosePrice</th>\n",
       "      <th>Highp</th>\n",
       "      <th>Lowp</th>\n",
       "      <th>Volume</th>\n",
       "      <th>VWAP</th>\n",
       "      <th>Time</th>\n",
       "      <th>Date</th>\n",
       "      <th>StochRSI6_11</th>\n",
       "      <th>CandleRange</th>\n",
       "      <th>PChange</th>\n",
       "      <th>DayGap</th>\n",
       "      <th>DayRange</th>\n",
       "    </tr>\n",
       "  </thead>\n",
       "  <tbody>\n",
       "    <tr>\n",
       "      <th>0</th>\n",
       "      <td>QQQ</td>\n",
       "      <td>367.6700</td>\n",
       "      <td>367.960</td>\n",
       "      <td>368.2200</td>\n",
       "      <td>367.5900</td>\n",
       "      <td>884521.0</td>\n",
       "      <td>367.9129</td>\n",
       "      <td>16:30:00</td>\n",
       "      <td>2021-08-16</td>\n",
       "      <td>NaN</td>\n",
       "      <td>0.63</td>\n",
       "      <td>0.17</td>\n",
       "      <td>0.00</td>\n",
       "      <td>5.32</td>\n",
       "    </tr>\n",
       "    <tr>\n",
       "      <th>1</th>\n",
       "      <td>QQQ</td>\n",
       "      <td>367.9550</td>\n",
       "      <td>368.230</td>\n",
       "      <td>368.3500</td>\n",
       "      <td>367.8999</td>\n",
       "      <td>640912.0</td>\n",
       "      <td>368.1458</td>\n",
       "      <td>16:35:00</td>\n",
       "      <td>2021-08-16</td>\n",
       "      <td>NaN</td>\n",
       "      <td>0.45</td>\n",
       "      <td>0.12</td>\n",
       "      <td>0.00</td>\n",
       "      <td>5.32</td>\n",
       "    </tr>\n",
       "    <tr>\n",
       "      <th>2</th>\n",
       "      <td>QQQ</td>\n",
       "      <td>368.2600</td>\n",
       "      <td>367.980</td>\n",
       "      <td>368.4500</td>\n",
       "      <td>367.9100</td>\n",
       "      <td>534271.0</td>\n",
       "      <td>368.1916</td>\n",
       "      <td>16:40:00</td>\n",
       "      <td>2021-08-16</td>\n",
       "      <td>NaN</td>\n",
       "      <td>0.54</td>\n",
       "      <td>0.15</td>\n",
       "      <td>0.00</td>\n",
       "      <td>5.32</td>\n",
       "    </tr>\n",
       "    <tr>\n",
       "      <th>3</th>\n",
       "      <td>QQQ</td>\n",
       "      <td>367.9850</td>\n",
       "      <td>367.550</td>\n",
       "      <td>368.1750</td>\n",
       "      <td>367.3500</td>\n",
       "      <td>806842.0</td>\n",
       "      <td>367.7190</td>\n",
       "      <td>16:45:00</td>\n",
       "      <td>2021-08-16</td>\n",
       "      <td>NaN</td>\n",
       "      <td>0.82</td>\n",
       "      <td>0.22</td>\n",
       "      <td>0.00</td>\n",
       "      <td>5.32</td>\n",
       "    </tr>\n",
       "    <tr>\n",
       "      <th>4</th>\n",
       "      <td>QQQ</td>\n",
       "      <td>367.5400</td>\n",
       "      <td>366.438</td>\n",
       "      <td>367.5700</td>\n",
       "      <td>366.3800</td>\n",
       "      <td>822006.0</td>\n",
       "      <td>366.9206</td>\n",
       "      <td>16:50:00</td>\n",
       "      <td>2021-08-16</td>\n",
       "      <td>NaN</td>\n",
       "      <td>1.19</td>\n",
       "      <td>0.32</td>\n",
       "      <td>0.00</td>\n",
       "      <td>5.32</td>\n",
       "    </tr>\n",
       "    <tr>\n",
       "      <th>...</th>\n",
       "      <td>...</td>\n",
       "      <td>...</td>\n",
       "      <td>...</td>\n",
       "      <td>...</td>\n",
       "      <td>...</td>\n",
       "      <td>...</td>\n",
       "      <td>...</td>\n",
       "      <td>...</td>\n",
       "      <td>...</td>\n",
       "      <td>...</td>\n",
       "      <td>...</td>\n",
       "      <td>...</td>\n",
       "      <td>...</td>\n",
       "      <td>...</td>\n",
       "    </tr>\n",
       "    <tr>\n",
       "      <th>39045</th>\n",
       "      <td>QQQ</td>\n",
       "      <td>369.2550</td>\n",
       "      <td>369.520</td>\n",
       "      <td>369.6300</td>\n",
       "      <td>369.2550</td>\n",
       "      <td>436500.0</td>\n",
       "      <td>369.5017</td>\n",
       "      <td>22:35:00</td>\n",
       "      <td>2023-08-14</td>\n",
       "      <td>80.93</td>\n",
       "      <td>0.38</td>\n",
       "      <td>0.10</td>\n",
       "      <td>-0.21</td>\n",
       "      <td>5.77</td>\n",
       "    </tr>\n",
       "    <tr>\n",
       "      <th>39046</th>\n",
       "      <td>QQQ</td>\n",
       "      <td>369.5100</td>\n",
       "      <td>369.950</td>\n",
       "      <td>369.9900</td>\n",
       "      <td>369.4900</td>\n",
       "      <td>1178629.0</td>\n",
       "      <td>369.6131</td>\n",
       "      <td>22:40:00</td>\n",
       "      <td>2023-08-14</td>\n",
       "      <td>90.65</td>\n",
       "      <td>0.50</td>\n",
       "      <td>0.14</td>\n",
       "      <td>-0.21</td>\n",
       "      <td>5.77</td>\n",
       "    </tr>\n",
       "    <tr>\n",
       "      <th>39047</th>\n",
       "      <td>QQQ</td>\n",
       "      <td>369.9339</td>\n",
       "      <td>369.720</td>\n",
       "      <td>369.9585</td>\n",
       "      <td>369.5939</td>\n",
       "      <td>579281.0</td>\n",
       "      <td>369.7467</td>\n",
       "      <td>22:45:00</td>\n",
       "      <td>2023-08-14</td>\n",
       "      <td>82.28</td>\n",
       "      <td>0.36</td>\n",
       "      <td>0.10</td>\n",
       "      <td>-0.21</td>\n",
       "      <td>5.77</td>\n",
       "    </tr>\n",
       "    <tr>\n",
       "      <th>39048</th>\n",
       "      <td>QQQ</td>\n",
       "      <td>369.7200</td>\n",
       "      <td>369.730</td>\n",
       "      <td>369.8200</td>\n",
       "      <td>369.4900</td>\n",
       "      <td>1155874.0</td>\n",
       "      <td>369.0401</td>\n",
       "      <td>22:50:00</td>\n",
       "      <td>2023-08-14</td>\n",
       "      <td>64.95</td>\n",
       "      <td>0.33</td>\n",
       "      <td>0.09</td>\n",
       "      <td>-0.21</td>\n",
       "      <td>5.77</td>\n",
       "    </tr>\n",
       "    <tr>\n",
       "      <th>39049</th>\n",
       "      <td>QQQ</td>\n",
       "      <td>369.7300</td>\n",
       "      <td>370.460</td>\n",
       "      <td>370.4700</td>\n",
       "      <td>369.7000</td>\n",
       "      <td>2393148.0</td>\n",
       "      <td>370.1658</td>\n",
       "      <td>22:55:00</td>\n",
       "      <td>2023-08-14</td>\n",
       "      <td>64.91</td>\n",
       "      <td>0.77</td>\n",
       "      <td>0.21</td>\n",
       "      <td>-0.21</td>\n",
       "      <td>5.77</td>\n",
       "    </tr>\n",
       "  </tbody>\n",
       "</table>\n",
       "<p>39050 rows × 14 columns</p>\n",
       "</div>"
      ],
      "text/plain": [
       "      ticker  OpenPrice  ClosePrice     Highp      Lowp     Volume      VWAP  \\\n",
       "0        QQQ   367.6700     367.960  368.2200  367.5900   884521.0  367.9129   \n",
       "1        QQQ   367.9550     368.230  368.3500  367.8999   640912.0  368.1458   \n",
       "2        QQQ   368.2600     367.980  368.4500  367.9100   534271.0  368.1916   \n",
       "3        QQQ   367.9850     367.550  368.1750  367.3500   806842.0  367.7190   \n",
       "4        QQQ   367.5400     366.438  367.5700  366.3800   822006.0  366.9206   \n",
       "...      ...        ...         ...       ...       ...        ...       ...   \n",
       "39045    QQQ   369.2550     369.520  369.6300  369.2550   436500.0  369.5017   \n",
       "39046    QQQ   369.5100     369.950  369.9900  369.4900  1178629.0  369.6131   \n",
       "39047    QQQ   369.9339     369.720  369.9585  369.5939   579281.0  369.7467   \n",
       "39048    QQQ   369.7200     369.730  369.8200  369.4900  1155874.0  369.0401   \n",
       "39049    QQQ   369.7300     370.460  370.4700  369.7000  2393148.0  370.1658   \n",
       "\n",
       "           Time        Date  StochRSI6_11  CandleRange  PChange  DayGap  \\\n",
       "0      16:30:00  2021-08-16           NaN         0.63     0.17    0.00   \n",
       "1      16:35:00  2021-08-16           NaN         0.45     0.12    0.00   \n",
       "2      16:40:00  2021-08-16           NaN         0.54     0.15    0.00   \n",
       "3      16:45:00  2021-08-16           NaN         0.82     0.22    0.00   \n",
       "4      16:50:00  2021-08-16           NaN         1.19     0.32    0.00   \n",
       "...         ...         ...           ...          ...      ...     ...   \n",
       "39045  22:35:00  2023-08-14         80.93         0.38     0.10   -0.21   \n",
       "39046  22:40:00  2023-08-14         90.65         0.50     0.14   -0.21   \n",
       "39047  22:45:00  2023-08-14         82.28         0.36     0.10   -0.21   \n",
       "39048  22:50:00  2023-08-14         64.95         0.33     0.09   -0.21   \n",
       "39049  22:55:00  2023-08-14         64.91         0.77     0.21   -0.21   \n",
       "\n",
       "       DayRange  \n",
       "0          5.32  \n",
       "1          5.32  \n",
       "2          5.32  \n",
       "3          5.32  \n",
       "4          5.32  \n",
       "...         ...  \n",
       "39045      5.77  \n",
       "39046      5.77  \n",
       "39047      5.77  \n",
       "39048      5.77  \n",
       "39049      5.77  \n",
       "\n",
       "[39050 rows x 14 columns]"
      ]
     },
     "execution_count": 66,
     "metadata": {},
     "output_type": "execute_result"
    }
   ],
   "source": [
    "# Define input values (CurrentData)\n",
    "smoothK = 3\n",
    "lengthRSI = 6\n",
    "lengthStoch = 11\n",
    "# Calculate RSI and Stochastic RSI\n",
    "CurrentData['RSI'] = ta.momentum.RSIIndicator(CurrentData['ClosePrice'], lengthRSI).rsi()\n",
    "rsi1 = CurrentData['RSI']\n",
    "CurrentData['StochRSI'] = ta.momentum.StochasticOscillator(CurrentData['RSI'], CurrentData['RSI'], CurrentData['RSI'], window=lengthStoch, smooth_window=smoothK).stoch()\n",
    "# Calculate the smoothed K value\n",
    "CurrentData['StochRSI'+str(lengthRSI)+'_'+str(lengthStoch)] = round(CurrentData['StochRSI'].rolling(window=smoothK).mean(),2)\n",
    "CurrentData.drop(columns=['RSI','StochRSI'], inplace=True) #drop extra columns\n",
    "\n",
    "CurrentData['CandleRange'] = round(CurrentData.Highp - CurrentData.Lowp,2)  #price range of candle $\n",
    "CurrentData['PChange'] = round(CurrentData['CandleRange']/CurrentData['OpenPrice']*100,2) #create PChange to filter for first candles\n",
    "\n",
    "gapadd = CurrentData.groupby('Date').Time.max().to_frame().reset_index().merge(CurrentData.groupby('Date').Time.min().to_frame().reset_index(), on='Date')\n",
    "gapadd.rename(columns={'Time_x': 'CloseTime', 'Time_y': 'OpenTime'}, inplace=True)\n",
    "gapadd = CurrentData.merge(gapadd, on = 'Date')\n",
    "gapadd = CurrentData[(gapadd.Time==gapadd.CloseTime) | (gapadd.Time==gapadd.OpenTime)].sort_values(['Date','Time'])\n",
    "gapadd['DayGap'] = None\n",
    "for i in range(gapadd.shape[0]):\n",
    "    if i==0:\n",
    "        gapadd['DayGap'].iloc[i] = 0\n",
    "    elif i//2==i/2:\n",
    "        gapadd['DayGap'].iloc[i] = round((gapadd.OpenPrice.iloc[i]-gapadd.ClosePrice.iloc[i-1])/gapadd.ClosePrice.iloc[i-1]*100, 2)\n",
    "    else:\n",
    "        gapadd['DayGap'].iloc[i] = gapadd['DayGap'].iloc[i-1]\n",
    "CurrentData = CurrentData.merge(gapadd[gapadd.Time=='16:30:00'][['Date','DayGap']], on='Date') \n",
    "CurrentData.DayGap = CurrentData.DayGap.astype(float)\n",
    "\n",
    "dayrang = CurrentData.groupby('Date').Highp.max().to_frame().reset_index().merge(CurrentData.groupby('Date').Lowp.min().to_frame().reset_index(), on='Date')\n",
    "dayrang.rename(columns={'Highp_x': 'DayHigh', 'Lowp_x': 'DayLow'}, inplace=True)\n",
    "dayrang['DayRange'] = round(dayrang['Highp']-dayrang['Lowp'],2)\n",
    "CurrentData = CurrentData.merge(dayrang[['Date','DayRange']], on='Date') \n",
    "CurrentData.DayGap = CurrentData.DayGap.astype(float)\n",
    "CurrentData"
   ]
  },
  {
   "cell_type": "markdown",
   "id": "ede4d651",
   "metadata": {},
   "source": [
    "### Graph and RSI by Date"
   ]
  },
  {
   "cell_type": "code",
   "execution_count": 96,
   "id": "d9532035",
   "metadata": {
    "scrolled": false
   },
   "outputs": [
    {
     "name": "stdout",
     "output_type": "stream",
     "text": [
      "Date to show (YYYY-MM-DD):2023-08-10\n"
     ]
    },
    {
     "data": {
      "application/vnd.plotly.v1+json": {
       "config": {
        "plotlyServerURL": "https://plot.ly"
       },
       "data": [
        {
         "close": [
          371.427,
          371.87,
          371.51,
          372.84,
          373.2588,
          373.91,
          374.09,
          373.97,
          373.6401,
          373.64,
          373.725,
          373.345,
          373.67,
          372.7426,
          372.23,
          371.66,
          371.96,
          371.75,
          371,
          371.028,
          370.9905,
          370.71,
          370.31,
          370.915,
          371.405,
          371.4934,
          370.58,
          369.7999,
          369.1199,
          369.495,
          369.44,
          369.3994,
          369.395,
          369.27,
          369.37,
          369.41,
          369.49,
          370.04,
          370.11,
          370.3,
          369.439,
          368.89,
          369.01,
          369.33,
          369.25,
          369.0495,
          368.595,
          368.57,
          368.66,
          368.3599,
          367.7794,
          368.28,
          368.1,
          367.24,
          367.87,
          368.2629,
          368.9694,
          368.6699,
          368.98,
          368.78,
          368.615,
          368.83,
          368.65,
          368.9,
          369.37,
          369.66,
          369.07,
          369.18,
          369.4348,
          369.57,
          369.18,
          368.69,
          368.29,
          368.37,
          368.09,
          368.3,
          368.52,
          368.56
         ],
         "high": [
          371.72,
          372.2283,
          372.31,
          373.0435,
          373.279,
          373.98,
          374.36,
          374.29,
          373.978,
          374.26,
          373.73,
          373.77,
          373.87,
          373.78,
          372.69,
          372.19,
          371.98,
          372.345,
          371.91,
          371.47,
          371.48,
          371.09,
          370.73,
          370.93,
          371.41,
          371.62,
          371.49,
          370.6299,
          369.84,
          369.58,
          369.54,
          369.75,
          369.69,
          369.522,
          369.66,
          369.43,
          369.65,
          370.09,
          370.14,
          370.52,
          370.2943,
          369.54,
          369.18,
          369.37,
          369.3499,
          369.34,
          369.035,
          368.71,
          368.71,
          368.665,
          368.41,
          368.6,
          368.61,
          368.06,
          367.87,
          368.52,
          369.05,
          369.29,
          369.15,
          369.16,
          369.09,
          368.91,
          368.9,
          369.215,
          369.53,
          369.71,
          369.7,
          369.24,
          369.55,
          369.73,
          369.71,
          369.18,
          368.69,
          368.649,
          368.5,
          368.8358,
          368.79,
          368.77
         ],
         "low": [
          370.3214,
          371.3157,
          371.36,
          371.52,
          372.67,
          373.095,
          373.93,
          373.8,
          373.5,
          373.58,
          373.225,
          373.04,
          373.2309,
          372.47,
          372.02,
          371.14,
          371.21,
          371.71,
          370.81,
          370.41,
          370.88,
          370.59,
          370.06,
          370.27,
          370.58,
          371.2,
          370.35,
          369.6,
          368.76,
          368.87,
          369.01,
          369.26,
          369.0738,
          369.08,
          368.99,
          368.47,
          369.231,
          369.28,
          369.68,
          370.02,
          369.301,
          368.555,
          368.64,
          368.921,
          368.94,
          368.83,
          368.19,
          368.3199,
          368.17,
          368.131,
          367.4563,
          367.7,
          368.07,
          367.035,
          367.165,
          367.855,
          368.23,
          368.56,
          368.575,
          368.505,
          368.55,
          368.31,
          368.24,
          368.32,
          368.76,
          369.18,
          368.72,
          368.88,
          369.18,
          369.25,
          369,
          368.5205,
          368.18,
          368.18,
          367.99,
          367.94,
          368.17,
          368.35
         ],
         "open": [
          370.97,
          371.41,
          371.87,
          371.52,
          372.87,
          373.26,
          373.93,
          374.095,
          373.97,
          373.66,
          373.66,
          373.735,
          373.34,
          373.67,
          372.69,
          372.19,
          371.62,
          371.95,
          371.76,
          370.98,
          371.02,
          370.96,
          370.7,
          370.28,
          370.91,
          371.405,
          371.46,
          370.5984,
          369.78,
          369.09,
          369.49,
          369.459,
          369.4,
          369.35,
          369.28,
          369.33,
          369.39,
          369.5,
          370.0401,
          370.11,
          370.29,
          369.46,
          368.89,
          369.01,
          369.33,
          369.24,
          369.035,
          368.58,
          368.56,
          368.665,
          368.35,
          367.79,
          368.27,
          368.06,
          367.235,
          367.87,
          368.26,
          368.96,
          368.66,
          369.03,
          368.77,
          368.63,
          368.82,
          368.65,
          368.92,
          369.39,
          369.66,
          369.15,
          369.18,
          369.43,
          369.5806,
          369.105,
          368.69,
          368.28,
          368.35,
          368.07,
          368.29,
          368.52
         ],
         "type": "candlestick",
         "x": [
          "16:30:00",
          "16:35:00",
          "16:40:00",
          "16:45:00",
          "16:50:00",
          "16:55:00",
          "17:00:00",
          "17:05:00",
          "17:10:00",
          "17:15:00",
          "17:20:00",
          "17:25:00",
          "17:30:00",
          "17:35:00",
          "17:40:00",
          "17:45:00",
          "17:50:00",
          "17:55:00",
          "18:00:00",
          "18:05:00",
          "18:10:00",
          "18:15:00",
          "18:20:00",
          "18:25:00",
          "18:30:00",
          "18:35:00",
          "18:40:00",
          "18:45:00",
          "18:50:00",
          "18:55:00",
          "19:00:00",
          "19:05:00",
          "19:10:00",
          "19:15:00",
          "19:20:00",
          "19:25:00",
          "19:30:00",
          "19:35:00",
          "19:40:00",
          "19:45:00",
          "19:50:00",
          "19:55:00",
          "20:00:00",
          "20:05:00",
          "20:10:00",
          "20:15:00",
          "20:20:00",
          "20:25:00",
          "20:30:00",
          "20:35:00",
          "20:40:00",
          "20:45:00",
          "20:50:00",
          "20:55:00",
          "21:00:00",
          "21:05:00",
          "21:10:00",
          "21:15:00",
          "21:20:00",
          "21:25:00",
          "21:30:00",
          "21:35:00",
          "21:40:00",
          "21:45:00",
          "21:50:00",
          "21:55:00",
          "22:00:00",
          "22:05:00",
          "22:10:00",
          "22:15:00",
          "22:20:00",
          "22:25:00",
          "22:30:00",
          "22:35:00",
          "22:40:00",
          "22:45:00",
          "22:50:00",
          "22:55:00"
         ]
        }
       ],
       "layout": {
        "template": {
         "data": {
          "bar": [
           {
            "error_x": {
             "color": "#2a3f5f"
            },
            "error_y": {
             "color": "#2a3f5f"
            },
            "marker": {
             "line": {
              "color": "#E5ECF6",
              "width": 0.5
             },
             "pattern": {
              "fillmode": "overlay",
              "size": 10,
              "solidity": 0.2
             }
            },
            "type": "bar"
           }
          ],
          "barpolar": [
           {
            "marker": {
             "line": {
              "color": "#E5ECF6",
              "width": 0.5
             },
             "pattern": {
              "fillmode": "overlay",
              "size": 10,
              "solidity": 0.2
             }
            },
            "type": "barpolar"
           }
          ],
          "carpet": [
           {
            "aaxis": {
             "endlinecolor": "#2a3f5f",
             "gridcolor": "white",
             "linecolor": "white",
             "minorgridcolor": "white",
             "startlinecolor": "#2a3f5f"
            },
            "baxis": {
             "endlinecolor": "#2a3f5f",
             "gridcolor": "white",
             "linecolor": "white",
             "minorgridcolor": "white",
             "startlinecolor": "#2a3f5f"
            },
            "type": "carpet"
           }
          ],
          "choropleth": [
           {
            "colorbar": {
             "outlinewidth": 0,
             "ticks": ""
            },
            "type": "choropleth"
           }
          ],
          "contour": [
           {
            "colorbar": {
             "outlinewidth": 0,
             "ticks": ""
            },
            "colorscale": [
             [
              0,
              "#0d0887"
             ],
             [
              0.1111111111111111,
              "#46039f"
             ],
             [
              0.2222222222222222,
              "#7201a8"
             ],
             [
              0.3333333333333333,
              "#9c179e"
             ],
             [
              0.4444444444444444,
              "#bd3786"
             ],
             [
              0.5555555555555556,
              "#d8576b"
             ],
             [
              0.6666666666666666,
              "#ed7953"
             ],
             [
              0.7777777777777778,
              "#fb9f3a"
             ],
             [
              0.8888888888888888,
              "#fdca26"
             ],
             [
              1,
              "#f0f921"
             ]
            ],
            "type": "contour"
           }
          ],
          "contourcarpet": [
           {
            "colorbar": {
             "outlinewidth": 0,
             "ticks": ""
            },
            "type": "contourcarpet"
           }
          ],
          "heatmap": [
           {
            "colorbar": {
             "outlinewidth": 0,
             "ticks": ""
            },
            "colorscale": [
             [
              0,
              "#0d0887"
             ],
             [
              0.1111111111111111,
              "#46039f"
             ],
             [
              0.2222222222222222,
              "#7201a8"
             ],
             [
              0.3333333333333333,
              "#9c179e"
             ],
             [
              0.4444444444444444,
              "#bd3786"
             ],
             [
              0.5555555555555556,
              "#d8576b"
             ],
             [
              0.6666666666666666,
              "#ed7953"
             ],
             [
              0.7777777777777778,
              "#fb9f3a"
             ],
             [
              0.8888888888888888,
              "#fdca26"
             ],
             [
              1,
              "#f0f921"
             ]
            ],
            "type": "heatmap"
           }
          ],
          "heatmapgl": [
           {
            "colorbar": {
             "outlinewidth": 0,
             "ticks": ""
            },
            "colorscale": [
             [
              0,
              "#0d0887"
             ],
             [
              0.1111111111111111,
              "#46039f"
             ],
             [
              0.2222222222222222,
              "#7201a8"
             ],
             [
              0.3333333333333333,
              "#9c179e"
             ],
             [
              0.4444444444444444,
              "#bd3786"
             ],
             [
              0.5555555555555556,
              "#d8576b"
             ],
             [
              0.6666666666666666,
              "#ed7953"
             ],
             [
              0.7777777777777778,
              "#fb9f3a"
             ],
             [
              0.8888888888888888,
              "#fdca26"
             ],
             [
              1,
              "#f0f921"
             ]
            ],
            "type": "heatmapgl"
           }
          ],
          "histogram": [
           {
            "marker": {
             "pattern": {
              "fillmode": "overlay",
              "size": 10,
              "solidity": 0.2
             }
            },
            "type": "histogram"
           }
          ],
          "histogram2d": [
           {
            "colorbar": {
             "outlinewidth": 0,
             "ticks": ""
            },
            "colorscale": [
             [
              0,
              "#0d0887"
             ],
             [
              0.1111111111111111,
              "#46039f"
             ],
             [
              0.2222222222222222,
              "#7201a8"
             ],
             [
              0.3333333333333333,
              "#9c179e"
             ],
             [
              0.4444444444444444,
              "#bd3786"
             ],
             [
              0.5555555555555556,
              "#d8576b"
             ],
             [
              0.6666666666666666,
              "#ed7953"
             ],
             [
              0.7777777777777778,
              "#fb9f3a"
             ],
             [
              0.8888888888888888,
              "#fdca26"
             ],
             [
              1,
              "#f0f921"
             ]
            ],
            "type": "histogram2d"
           }
          ],
          "histogram2dcontour": [
           {
            "colorbar": {
             "outlinewidth": 0,
             "ticks": ""
            },
            "colorscale": [
             [
              0,
              "#0d0887"
             ],
             [
              0.1111111111111111,
              "#46039f"
             ],
             [
              0.2222222222222222,
              "#7201a8"
             ],
             [
              0.3333333333333333,
              "#9c179e"
             ],
             [
              0.4444444444444444,
              "#bd3786"
             ],
             [
              0.5555555555555556,
              "#d8576b"
             ],
             [
              0.6666666666666666,
              "#ed7953"
             ],
             [
              0.7777777777777778,
              "#fb9f3a"
             ],
             [
              0.8888888888888888,
              "#fdca26"
             ],
             [
              1,
              "#f0f921"
             ]
            ],
            "type": "histogram2dcontour"
           }
          ],
          "mesh3d": [
           {
            "colorbar": {
             "outlinewidth": 0,
             "ticks": ""
            },
            "type": "mesh3d"
           }
          ],
          "parcoords": [
           {
            "line": {
             "colorbar": {
              "outlinewidth": 0,
              "ticks": ""
             }
            },
            "type": "parcoords"
           }
          ],
          "pie": [
           {
            "automargin": true,
            "type": "pie"
           }
          ],
          "scatter": [
           {
            "fillpattern": {
             "fillmode": "overlay",
             "size": 10,
             "solidity": 0.2
            },
            "type": "scatter"
           }
          ],
          "scatter3d": [
           {
            "line": {
             "colorbar": {
              "outlinewidth": 0,
              "ticks": ""
             }
            },
            "marker": {
             "colorbar": {
              "outlinewidth": 0,
              "ticks": ""
             }
            },
            "type": "scatter3d"
           }
          ],
          "scattercarpet": [
           {
            "marker": {
             "colorbar": {
              "outlinewidth": 0,
              "ticks": ""
             }
            },
            "type": "scattercarpet"
           }
          ],
          "scattergeo": [
           {
            "marker": {
             "colorbar": {
              "outlinewidth": 0,
              "ticks": ""
             }
            },
            "type": "scattergeo"
           }
          ],
          "scattergl": [
           {
            "marker": {
             "colorbar": {
              "outlinewidth": 0,
              "ticks": ""
             }
            },
            "type": "scattergl"
           }
          ],
          "scattermapbox": [
           {
            "marker": {
             "colorbar": {
              "outlinewidth": 0,
              "ticks": ""
             }
            },
            "type": "scattermapbox"
           }
          ],
          "scatterpolar": [
           {
            "marker": {
             "colorbar": {
              "outlinewidth": 0,
              "ticks": ""
             }
            },
            "type": "scatterpolar"
           }
          ],
          "scatterpolargl": [
           {
            "marker": {
             "colorbar": {
              "outlinewidth": 0,
              "ticks": ""
             }
            },
            "type": "scatterpolargl"
           }
          ],
          "scatterternary": [
           {
            "marker": {
             "colorbar": {
              "outlinewidth": 0,
              "ticks": ""
             }
            },
            "type": "scatterternary"
           }
          ],
          "surface": [
           {
            "colorbar": {
             "outlinewidth": 0,
             "ticks": ""
            },
            "colorscale": [
             [
              0,
              "#0d0887"
             ],
             [
              0.1111111111111111,
              "#46039f"
             ],
             [
              0.2222222222222222,
              "#7201a8"
             ],
             [
              0.3333333333333333,
              "#9c179e"
             ],
             [
              0.4444444444444444,
              "#bd3786"
             ],
             [
              0.5555555555555556,
              "#d8576b"
             ],
             [
              0.6666666666666666,
              "#ed7953"
             ],
             [
              0.7777777777777778,
              "#fb9f3a"
             ],
             [
              0.8888888888888888,
              "#fdca26"
             ],
             [
              1,
              "#f0f921"
             ]
            ],
            "type": "surface"
           }
          ],
          "table": [
           {
            "cells": {
             "fill": {
              "color": "#EBF0F8"
             },
             "line": {
              "color": "white"
             }
            },
            "header": {
             "fill": {
              "color": "#C8D4E3"
             },
             "line": {
              "color": "white"
             }
            },
            "type": "table"
           }
          ]
         },
         "layout": {
          "annotationdefaults": {
           "arrowcolor": "#2a3f5f",
           "arrowhead": 0,
           "arrowwidth": 1
          },
          "autotypenumbers": "strict",
          "coloraxis": {
           "colorbar": {
            "outlinewidth": 0,
            "ticks": ""
           }
          },
          "colorscale": {
           "diverging": [
            [
             0,
             "#8e0152"
            ],
            [
             0.1,
             "#c51b7d"
            ],
            [
             0.2,
             "#de77ae"
            ],
            [
             0.3,
             "#f1b6da"
            ],
            [
             0.4,
             "#fde0ef"
            ],
            [
             0.5,
             "#f7f7f7"
            ],
            [
             0.6,
             "#e6f5d0"
            ],
            [
             0.7,
             "#b8e186"
            ],
            [
             0.8,
             "#7fbc41"
            ],
            [
             0.9,
             "#4d9221"
            ],
            [
             1,
             "#276419"
            ]
           ],
           "sequential": [
            [
             0,
             "#0d0887"
            ],
            [
             0.1111111111111111,
             "#46039f"
            ],
            [
             0.2222222222222222,
             "#7201a8"
            ],
            [
             0.3333333333333333,
             "#9c179e"
            ],
            [
             0.4444444444444444,
             "#bd3786"
            ],
            [
             0.5555555555555556,
             "#d8576b"
            ],
            [
             0.6666666666666666,
             "#ed7953"
            ],
            [
             0.7777777777777778,
             "#fb9f3a"
            ],
            [
             0.8888888888888888,
             "#fdca26"
            ],
            [
             1,
             "#f0f921"
            ]
           ],
           "sequentialminus": [
            [
             0,
             "#0d0887"
            ],
            [
             0.1111111111111111,
             "#46039f"
            ],
            [
             0.2222222222222222,
             "#7201a8"
            ],
            [
             0.3333333333333333,
             "#9c179e"
            ],
            [
             0.4444444444444444,
             "#bd3786"
            ],
            [
             0.5555555555555556,
             "#d8576b"
            ],
            [
             0.6666666666666666,
             "#ed7953"
            ],
            [
             0.7777777777777778,
             "#fb9f3a"
            ],
            [
             0.8888888888888888,
             "#fdca26"
            ],
            [
             1,
             "#f0f921"
            ]
           ]
          },
          "colorway": [
           "#636efa",
           "#EF553B",
           "#00cc96",
           "#ab63fa",
           "#FFA15A",
           "#19d3f3",
           "#FF6692",
           "#B6E880",
           "#FF97FF",
           "#FECB52"
          ],
          "font": {
           "color": "#2a3f5f"
          },
          "geo": {
           "bgcolor": "white",
           "lakecolor": "white",
           "landcolor": "#E5ECF6",
           "showlakes": true,
           "showland": true,
           "subunitcolor": "white"
          },
          "hoverlabel": {
           "align": "left"
          },
          "hovermode": "closest",
          "mapbox": {
           "style": "light"
          },
          "paper_bgcolor": "white",
          "plot_bgcolor": "#E5ECF6",
          "polar": {
           "angularaxis": {
            "gridcolor": "white",
            "linecolor": "white",
            "ticks": ""
           },
           "bgcolor": "#E5ECF6",
           "radialaxis": {
            "gridcolor": "white",
            "linecolor": "white",
            "ticks": ""
           }
          },
          "scene": {
           "xaxis": {
            "backgroundcolor": "#E5ECF6",
            "gridcolor": "white",
            "gridwidth": 2,
            "linecolor": "white",
            "showbackground": true,
            "ticks": "",
            "zerolinecolor": "white"
           },
           "yaxis": {
            "backgroundcolor": "#E5ECF6",
            "gridcolor": "white",
            "gridwidth": 2,
            "linecolor": "white",
            "showbackground": true,
            "ticks": "",
            "zerolinecolor": "white"
           },
           "zaxis": {
            "backgroundcolor": "#E5ECF6",
            "gridcolor": "white",
            "gridwidth": 2,
            "linecolor": "white",
            "showbackground": true,
            "ticks": "",
            "zerolinecolor": "white"
           }
          },
          "shapedefaults": {
           "line": {
            "color": "#2a3f5f"
           }
          },
          "ternary": {
           "aaxis": {
            "gridcolor": "white",
            "linecolor": "white",
            "ticks": ""
           },
           "baxis": {
            "gridcolor": "white",
            "linecolor": "white",
            "ticks": ""
           },
           "bgcolor": "#E5ECF6",
           "caxis": {
            "gridcolor": "white",
            "linecolor": "white",
            "ticks": ""
           }
          },
          "title": {
           "x": 0.05
          },
          "xaxis": {
           "automargin": true,
           "gridcolor": "white",
           "linecolor": "white",
           "ticks": "",
           "title": {
            "standoff": 15
           },
           "zerolinecolor": "white",
           "zerolinewidth": 2
          },
          "yaxis": {
           "automargin": true,
           "gridcolor": "white",
           "linecolor": "white",
           "ticks": "",
           "title": {
            "standoff": 15
           },
           "zerolinecolor": "white",
           "zerolinewidth": 2
          }
         }
        },
        "title": {
         "text": "['QQQ'], ['2023-08-10']"
        },
        "xaxis": {
         "rangeslider": {
          "visible": false
         },
         "title": {
          "text": "Time"
         }
        },
        "yaxis": {
         "tickangle": 0,
         "title": {
          "text": "Price"
         }
        }
       }
      },
      "text/html": [
       "<div>                            <div id=\"a5ec989f-ffff-4f77-83b6-f78044ea96a2\" class=\"plotly-graph-div\" style=\"height:525px; width:100%;\"></div>            <script type=\"text/javascript\">                require([\"plotly\"], function(Plotly) {                    window.PLOTLYENV=window.PLOTLYENV || {};                                    if (document.getElementById(\"a5ec989f-ffff-4f77-83b6-f78044ea96a2\")) {                    Plotly.newPlot(                        \"a5ec989f-ffff-4f77-83b6-f78044ea96a2\",                        [{\"close\":[371.427,371.87,371.51,372.84,373.2588,373.91,374.09,373.97,373.6401,373.64,373.725,373.345,373.67,372.7426,372.23,371.66,371.96,371.75,371.0,371.028,370.9905,370.71,370.31,370.915,371.405,371.4934,370.58,369.7999,369.1199,369.495,369.44,369.3994,369.395,369.27,369.37,369.41,369.49,370.04,370.11,370.3,369.439,368.89,369.01,369.33,369.25,369.0495,368.595,368.57,368.66,368.3599,367.7794,368.28,368.1,367.24,367.87,368.2629,368.9694,368.6699,368.98,368.78,368.615,368.83,368.65,368.9,369.37,369.66,369.07,369.18,369.4348,369.57,369.18,368.69,368.29,368.37,368.09,368.3,368.52,368.56],\"high\":[371.72,372.2283,372.31,373.0435,373.279,373.98,374.36,374.29,373.978,374.26,373.73,373.77,373.87,373.78,372.69,372.19,371.98,372.345,371.91,371.47,371.48,371.09,370.73,370.93,371.41,371.62,371.49,370.6299,369.84,369.58,369.54,369.75,369.69,369.522,369.66,369.43,369.65,370.09,370.14,370.52,370.2943,369.54,369.18,369.37,369.3499,369.34,369.035,368.71,368.71,368.665,368.41,368.6,368.61,368.06,367.87,368.52,369.05,369.29,369.15,369.16,369.09,368.91,368.9,369.215,369.53,369.71,369.7,369.24,369.55,369.73,369.71,369.18,368.69,368.649,368.5,368.8358,368.79,368.77],\"low\":[370.3214,371.3157,371.36,371.52,372.67,373.095,373.93,373.8,373.5,373.58,373.225,373.04,373.2309,372.47,372.02,371.14,371.21,371.71,370.81,370.41,370.88,370.59,370.06,370.27,370.58,371.2,370.35,369.6,368.76,368.87,369.01,369.26,369.0738,369.08,368.99,368.47,369.231,369.28,369.68,370.02,369.301,368.555,368.64,368.921,368.94,368.83,368.19,368.3199,368.17,368.131,367.4563,367.7,368.07,367.035,367.165,367.855,368.23,368.56,368.575,368.505,368.55,368.31,368.24,368.32,368.76,369.18,368.72,368.88,369.18,369.25,369.0,368.5205,368.18,368.18,367.99,367.94,368.17,368.35],\"open\":[370.97,371.41,371.87,371.52,372.87,373.26,373.93,374.095,373.97,373.66,373.66,373.735,373.34,373.67,372.69,372.19,371.62,371.95,371.76,370.98,371.02,370.96,370.7,370.28,370.91,371.405,371.46,370.5984,369.78,369.09,369.49,369.459,369.4,369.35,369.28,369.33,369.39,369.5,370.0401,370.11,370.29,369.46,368.89,369.01,369.33,369.24,369.035,368.58,368.56,368.665,368.35,367.79,368.27,368.06,367.235,367.87,368.26,368.96,368.66,369.03,368.77,368.63,368.82,368.65,368.92,369.39,369.66,369.15,369.18,369.43,369.5806,369.105,368.69,368.28,368.35,368.07,368.29,368.52],\"x\":[\"16:30:00\",\"16:35:00\",\"16:40:00\",\"16:45:00\",\"16:50:00\",\"16:55:00\",\"17:00:00\",\"17:05:00\",\"17:10:00\",\"17:15:00\",\"17:20:00\",\"17:25:00\",\"17:30:00\",\"17:35:00\",\"17:40:00\",\"17:45:00\",\"17:50:00\",\"17:55:00\",\"18:00:00\",\"18:05:00\",\"18:10:00\",\"18:15:00\",\"18:20:00\",\"18:25:00\",\"18:30:00\",\"18:35:00\",\"18:40:00\",\"18:45:00\",\"18:50:00\",\"18:55:00\",\"19:00:00\",\"19:05:00\",\"19:10:00\",\"19:15:00\",\"19:20:00\",\"19:25:00\",\"19:30:00\",\"19:35:00\",\"19:40:00\",\"19:45:00\",\"19:50:00\",\"19:55:00\",\"20:00:00\",\"20:05:00\",\"20:10:00\",\"20:15:00\",\"20:20:00\",\"20:25:00\",\"20:30:00\",\"20:35:00\",\"20:40:00\",\"20:45:00\",\"20:50:00\",\"20:55:00\",\"21:00:00\",\"21:05:00\",\"21:10:00\",\"21:15:00\",\"21:20:00\",\"21:25:00\",\"21:30:00\",\"21:35:00\",\"21:40:00\",\"21:45:00\",\"21:50:00\",\"21:55:00\",\"22:00:00\",\"22:05:00\",\"22:10:00\",\"22:15:00\",\"22:20:00\",\"22:25:00\",\"22:30:00\",\"22:35:00\",\"22:40:00\",\"22:45:00\",\"22:50:00\",\"22:55:00\"],\"type\":\"candlestick\"}],                        {\"template\":{\"data\":{\"histogram2dcontour\":[{\"type\":\"histogram2dcontour\",\"colorbar\":{\"outlinewidth\":0,\"ticks\":\"\"},\"colorscale\":[[0.0,\"#0d0887\"],[0.1111111111111111,\"#46039f\"],[0.2222222222222222,\"#7201a8\"],[0.3333333333333333,\"#9c179e\"],[0.4444444444444444,\"#bd3786\"],[0.5555555555555556,\"#d8576b\"],[0.6666666666666666,\"#ed7953\"],[0.7777777777777778,\"#fb9f3a\"],[0.8888888888888888,\"#fdca26\"],[1.0,\"#f0f921\"]]}],\"choropleth\":[{\"type\":\"choropleth\",\"colorbar\":{\"outlinewidth\":0,\"ticks\":\"\"}}],\"histogram2d\":[{\"type\":\"histogram2d\",\"colorbar\":{\"outlinewidth\":0,\"ticks\":\"\"},\"colorscale\":[[0.0,\"#0d0887\"],[0.1111111111111111,\"#46039f\"],[0.2222222222222222,\"#7201a8\"],[0.3333333333333333,\"#9c179e\"],[0.4444444444444444,\"#bd3786\"],[0.5555555555555556,\"#d8576b\"],[0.6666666666666666,\"#ed7953\"],[0.7777777777777778,\"#fb9f3a\"],[0.8888888888888888,\"#fdca26\"],[1.0,\"#f0f921\"]]}],\"heatmap\":[{\"type\":\"heatmap\",\"colorbar\":{\"outlinewidth\":0,\"ticks\":\"\"},\"colorscale\":[[0.0,\"#0d0887\"],[0.1111111111111111,\"#46039f\"],[0.2222222222222222,\"#7201a8\"],[0.3333333333333333,\"#9c179e\"],[0.4444444444444444,\"#bd3786\"],[0.5555555555555556,\"#d8576b\"],[0.6666666666666666,\"#ed7953\"],[0.7777777777777778,\"#fb9f3a\"],[0.8888888888888888,\"#fdca26\"],[1.0,\"#f0f921\"]]}],\"heatmapgl\":[{\"type\":\"heatmapgl\",\"colorbar\":{\"outlinewidth\":0,\"ticks\":\"\"},\"colorscale\":[[0.0,\"#0d0887\"],[0.1111111111111111,\"#46039f\"],[0.2222222222222222,\"#7201a8\"],[0.3333333333333333,\"#9c179e\"],[0.4444444444444444,\"#bd3786\"],[0.5555555555555556,\"#d8576b\"],[0.6666666666666666,\"#ed7953\"],[0.7777777777777778,\"#fb9f3a\"],[0.8888888888888888,\"#fdca26\"],[1.0,\"#f0f921\"]]}],\"contourcarpet\":[{\"type\":\"contourcarpet\",\"colorbar\":{\"outlinewidth\":0,\"ticks\":\"\"}}],\"contour\":[{\"type\":\"contour\",\"colorbar\":{\"outlinewidth\":0,\"ticks\":\"\"},\"colorscale\":[[0.0,\"#0d0887\"],[0.1111111111111111,\"#46039f\"],[0.2222222222222222,\"#7201a8\"],[0.3333333333333333,\"#9c179e\"],[0.4444444444444444,\"#bd3786\"],[0.5555555555555556,\"#d8576b\"],[0.6666666666666666,\"#ed7953\"],[0.7777777777777778,\"#fb9f3a\"],[0.8888888888888888,\"#fdca26\"],[1.0,\"#f0f921\"]]}],\"surface\":[{\"type\":\"surface\",\"colorbar\":{\"outlinewidth\":0,\"ticks\":\"\"},\"colorscale\":[[0.0,\"#0d0887\"],[0.1111111111111111,\"#46039f\"],[0.2222222222222222,\"#7201a8\"],[0.3333333333333333,\"#9c179e\"],[0.4444444444444444,\"#bd3786\"],[0.5555555555555556,\"#d8576b\"],[0.6666666666666666,\"#ed7953\"],[0.7777777777777778,\"#fb9f3a\"],[0.8888888888888888,\"#fdca26\"],[1.0,\"#f0f921\"]]}],\"mesh3d\":[{\"type\":\"mesh3d\",\"colorbar\":{\"outlinewidth\":0,\"ticks\":\"\"}}],\"scatter\":[{\"fillpattern\":{\"fillmode\":\"overlay\",\"size\":10,\"solidity\":0.2},\"type\":\"scatter\"}],\"parcoords\":[{\"type\":\"parcoords\",\"line\":{\"colorbar\":{\"outlinewidth\":0,\"ticks\":\"\"}}}],\"scatterpolargl\":[{\"type\":\"scatterpolargl\",\"marker\":{\"colorbar\":{\"outlinewidth\":0,\"ticks\":\"\"}}}],\"bar\":[{\"error_x\":{\"color\":\"#2a3f5f\"},\"error_y\":{\"color\":\"#2a3f5f\"},\"marker\":{\"line\":{\"color\":\"#E5ECF6\",\"width\":0.5},\"pattern\":{\"fillmode\":\"overlay\",\"size\":10,\"solidity\":0.2}},\"type\":\"bar\"}],\"scattergeo\":[{\"type\":\"scattergeo\",\"marker\":{\"colorbar\":{\"outlinewidth\":0,\"ticks\":\"\"}}}],\"scatterpolar\":[{\"type\":\"scatterpolar\",\"marker\":{\"colorbar\":{\"outlinewidth\":0,\"ticks\":\"\"}}}],\"histogram\":[{\"marker\":{\"pattern\":{\"fillmode\":\"overlay\",\"size\":10,\"solidity\":0.2}},\"type\":\"histogram\"}],\"scattergl\":[{\"type\":\"scattergl\",\"marker\":{\"colorbar\":{\"outlinewidth\":0,\"ticks\":\"\"}}}],\"scatter3d\":[{\"type\":\"scatter3d\",\"line\":{\"colorbar\":{\"outlinewidth\":0,\"ticks\":\"\"}},\"marker\":{\"colorbar\":{\"outlinewidth\":0,\"ticks\":\"\"}}}],\"scattermapbox\":[{\"type\":\"scattermapbox\",\"marker\":{\"colorbar\":{\"outlinewidth\":0,\"ticks\":\"\"}}}],\"scatterternary\":[{\"type\":\"scatterternary\",\"marker\":{\"colorbar\":{\"outlinewidth\":0,\"ticks\":\"\"}}}],\"scattercarpet\":[{\"type\":\"scattercarpet\",\"marker\":{\"colorbar\":{\"outlinewidth\":0,\"ticks\":\"\"}}}],\"carpet\":[{\"aaxis\":{\"endlinecolor\":\"#2a3f5f\",\"gridcolor\":\"white\",\"linecolor\":\"white\",\"minorgridcolor\":\"white\",\"startlinecolor\":\"#2a3f5f\"},\"baxis\":{\"endlinecolor\":\"#2a3f5f\",\"gridcolor\":\"white\",\"linecolor\":\"white\",\"minorgridcolor\":\"white\",\"startlinecolor\":\"#2a3f5f\"},\"type\":\"carpet\"}],\"table\":[{\"cells\":{\"fill\":{\"color\":\"#EBF0F8\"},\"line\":{\"color\":\"white\"}},\"header\":{\"fill\":{\"color\":\"#C8D4E3\"},\"line\":{\"color\":\"white\"}},\"type\":\"table\"}],\"barpolar\":[{\"marker\":{\"line\":{\"color\":\"#E5ECF6\",\"width\":0.5},\"pattern\":{\"fillmode\":\"overlay\",\"size\":10,\"solidity\":0.2}},\"type\":\"barpolar\"}],\"pie\":[{\"automargin\":true,\"type\":\"pie\"}]},\"layout\":{\"autotypenumbers\":\"strict\",\"colorway\":[\"#636efa\",\"#EF553B\",\"#00cc96\",\"#ab63fa\",\"#FFA15A\",\"#19d3f3\",\"#FF6692\",\"#B6E880\",\"#FF97FF\",\"#FECB52\"],\"font\":{\"color\":\"#2a3f5f\"},\"hovermode\":\"closest\",\"hoverlabel\":{\"align\":\"left\"},\"paper_bgcolor\":\"white\",\"plot_bgcolor\":\"#E5ECF6\",\"polar\":{\"bgcolor\":\"#E5ECF6\",\"angularaxis\":{\"gridcolor\":\"white\",\"linecolor\":\"white\",\"ticks\":\"\"},\"radialaxis\":{\"gridcolor\":\"white\",\"linecolor\":\"white\",\"ticks\":\"\"}},\"ternary\":{\"bgcolor\":\"#E5ECF6\",\"aaxis\":{\"gridcolor\":\"white\",\"linecolor\":\"white\",\"ticks\":\"\"},\"baxis\":{\"gridcolor\":\"white\",\"linecolor\":\"white\",\"ticks\":\"\"},\"caxis\":{\"gridcolor\":\"white\",\"linecolor\":\"white\",\"ticks\":\"\"}},\"coloraxis\":{\"colorbar\":{\"outlinewidth\":0,\"ticks\":\"\"}},\"colorscale\":{\"sequential\":[[0.0,\"#0d0887\"],[0.1111111111111111,\"#46039f\"],[0.2222222222222222,\"#7201a8\"],[0.3333333333333333,\"#9c179e\"],[0.4444444444444444,\"#bd3786\"],[0.5555555555555556,\"#d8576b\"],[0.6666666666666666,\"#ed7953\"],[0.7777777777777778,\"#fb9f3a\"],[0.8888888888888888,\"#fdca26\"],[1.0,\"#f0f921\"]],\"sequentialminus\":[[0.0,\"#0d0887\"],[0.1111111111111111,\"#46039f\"],[0.2222222222222222,\"#7201a8\"],[0.3333333333333333,\"#9c179e\"],[0.4444444444444444,\"#bd3786\"],[0.5555555555555556,\"#d8576b\"],[0.6666666666666666,\"#ed7953\"],[0.7777777777777778,\"#fb9f3a\"],[0.8888888888888888,\"#fdca26\"],[1.0,\"#f0f921\"]],\"diverging\":[[0,\"#8e0152\"],[0.1,\"#c51b7d\"],[0.2,\"#de77ae\"],[0.3,\"#f1b6da\"],[0.4,\"#fde0ef\"],[0.5,\"#f7f7f7\"],[0.6,\"#e6f5d0\"],[0.7,\"#b8e186\"],[0.8,\"#7fbc41\"],[0.9,\"#4d9221\"],[1,\"#276419\"]]},\"xaxis\":{\"gridcolor\":\"white\",\"linecolor\":\"white\",\"ticks\":\"\",\"title\":{\"standoff\":15},\"zerolinecolor\":\"white\",\"automargin\":true,\"zerolinewidth\":2},\"yaxis\":{\"gridcolor\":\"white\",\"linecolor\":\"white\",\"ticks\":\"\",\"title\":{\"standoff\":15},\"zerolinecolor\":\"white\",\"automargin\":true,\"zerolinewidth\":2},\"scene\":{\"xaxis\":{\"backgroundcolor\":\"#E5ECF6\",\"gridcolor\":\"white\",\"linecolor\":\"white\",\"showbackground\":true,\"ticks\":\"\",\"zerolinecolor\":\"white\",\"gridwidth\":2},\"yaxis\":{\"backgroundcolor\":\"#E5ECF6\",\"gridcolor\":\"white\",\"linecolor\":\"white\",\"showbackground\":true,\"ticks\":\"\",\"zerolinecolor\":\"white\",\"gridwidth\":2},\"zaxis\":{\"backgroundcolor\":\"#E5ECF6\",\"gridcolor\":\"white\",\"linecolor\":\"white\",\"showbackground\":true,\"ticks\":\"\",\"zerolinecolor\":\"white\",\"gridwidth\":2}},\"shapedefaults\":{\"line\":{\"color\":\"#2a3f5f\"}},\"annotationdefaults\":{\"arrowcolor\":\"#2a3f5f\",\"arrowhead\":0,\"arrowwidth\":1},\"geo\":{\"bgcolor\":\"white\",\"landcolor\":\"#E5ECF6\",\"subunitcolor\":\"white\",\"showland\":true,\"showlakes\":true,\"lakecolor\":\"white\"},\"title\":{\"x\":0.05},\"mapbox\":{\"style\":\"light\"}}},\"yaxis\":{\"title\":{\"text\":\"Price\"},\"tickangle\":0},\"xaxis\":{\"rangeslider\":{\"visible\":false},\"title\":{\"text\":\"Time\"}},\"title\":{\"text\":\"['QQQ'], ['2023-08-10']\"}},                        {\"responsive\": true}                    ).then(function(){\n",
       "                            \n",
       "var gd = document.getElementById('a5ec989f-ffff-4f77-83b6-f78044ea96a2');\n",
       "var x = new MutationObserver(function (mutations, observer) {{\n",
       "        var display = window.getComputedStyle(gd).display;\n",
       "        if (!display || display === 'none') {{\n",
       "            console.log([gd, 'removed!']);\n",
       "            Plotly.purge(gd);\n",
       "            observer.disconnect();\n",
       "        }}\n",
       "}});\n",
       "\n",
       "// Listen for the removal of the full notebook cells\n",
       "var notebookContainer = gd.closest('#notebook-container');\n",
       "if (notebookContainer) {{\n",
       "    x.observe(notebookContainer, {childList: true});\n",
       "}}\n",
       "\n",
       "// Listen for the clearing of the current output cell\n",
       "var outputEl = gd.closest('.output');\n",
       "if (outputEl) {{\n",
       "    x.observe(outputEl, {childList: true});\n",
       "}}\n",
       "\n",
       "                        })                };                });            </script>        </div>"
      ]
     },
     "metadata": {},
     "output_type": "display_data"
    },
    {
     "data": {
      "application/vnd.plotly.v1+json": {
       "config": {
        "plotlyServerURL": "https://plot.ly"
       },
       "data": [
        {
         "hovertemplate": "Time=%{x}<br>StochRSI6_11=%{y}<extra></extra>",
         "legendgroup": "",
         "line": {
          "color": "#636efa",
          "dash": "solid"
         },
         "marker": {
          "symbol": "circle"
         },
         "mode": "lines",
         "name": "",
         "orientation": "v",
         "showlegend": false,
         "type": "scatter",
         "x": [
          "16:30:00",
          "16:35:00",
          "16:40:00",
          "16:45:00",
          "16:50:00",
          "16:55:00",
          "17:00:00",
          "17:05:00",
          "17:10:00",
          "17:15:00",
          "17:20:00",
          "17:25:00",
          "17:30:00",
          "17:35:00",
          "17:40:00",
          "17:45:00",
          "17:50:00",
          "17:55:00",
          "18:00:00",
          "18:05:00",
          "18:10:00",
          "18:15:00",
          "18:20:00",
          "18:25:00",
          "18:30:00",
          "18:35:00",
          "18:40:00",
          "18:45:00",
          "18:50:00",
          "18:55:00",
          "19:00:00",
          "19:05:00",
          "19:10:00",
          "19:15:00",
          "19:20:00",
          "19:25:00",
          "19:30:00",
          "19:35:00",
          "19:40:00",
          "19:45:00",
          "19:50:00",
          "19:55:00",
          "20:00:00",
          "20:05:00",
          "20:10:00",
          "20:15:00",
          "20:20:00",
          "20:25:00",
          "20:30:00",
          "20:35:00",
          "20:40:00",
          "20:45:00",
          "20:50:00",
          "20:55:00",
          "21:00:00",
          "21:05:00",
          "21:10:00",
          "21:15:00",
          "21:20:00",
          "21:25:00",
          "21:30:00",
          "21:35:00",
          "21:40:00",
          "21:45:00",
          "21:50:00",
          "21:55:00",
          "22:00:00",
          "22:05:00",
          "22:10:00",
          "22:15:00",
          "22:20:00",
          "22:25:00",
          "22:30:00",
          "22:35:00",
          "22:40:00",
          "22:45:00",
          "22:50:00",
          "22:55:00"
         ],
         "xaxis": "x",
         "y": [
          33.33,
          66.67,
          96.69,
          96.69,
          96.69,
          100,
          100,
          98.63,
          93.36,
          88.1,
          62.66,
          34.59,
          14.71,
          8.19,
          8.19,
          0,
          4.68,
          7.66,
          7.66,
          3.58,
          0.88,
          0.88,
          0.28,
          26.9,
          60.23,
          93.56,
          83.07,
          57.72,
          27.25,
          22.8,
          26.18,
          34.16,
          33,
          28.08,
          28.68,
          31.52,
          58.4,
          80.29,
          100,
          100,
          75.64,
          43.57,
          15.07,
          19.83,
          29.79,
          31.84,
          18.1,
          6.87,
          3.88,
          3.88,
          3.88,
          25.82,
          47.05,
          53.15,
          58.95,
          71.05,
          98.28,
          94.88,
          93.78,
          88.82,
          85.77,
          82.13,
          77.71,
          82.27,
          87.01,
          96.39,
          70.15,
          44.35,
          27.7,
          45.51,
          37.98,
          21.3,
          0,
          2.45,
          2.45,
          9.13,
          22.57,
          39.89
         ],
         "yaxis": "y"
        }
       ],
       "layout": {
        "height": 300,
        "legend": {
         "tracegroupgap": 0
        },
        "margin": {
         "t": 60
        },
        "shapes": [
         {
          "line": {
           "color": "black",
           "dash": "dot",
           "width": 1
          },
          "type": "line",
          "x0": "16:30:00",
          "x1": "22:55:00",
          "y0": 20,
          "y1": 20
         },
         {
          "line": {
           "color": "black",
           "dash": "dot",
           "width": 1
          },
          "type": "line",
          "x0": "16:30:00",
          "x1": "22:55:00",
          "y0": 80,
          "y1": 80
         }
        ],
        "template": {
         "data": {
          "bar": [
           {
            "error_x": {
             "color": "#2a3f5f"
            },
            "error_y": {
             "color": "#2a3f5f"
            },
            "marker": {
             "line": {
              "color": "#E5ECF6",
              "width": 0.5
             },
             "pattern": {
              "fillmode": "overlay",
              "size": 10,
              "solidity": 0.2
             }
            },
            "type": "bar"
           }
          ],
          "barpolar": [
           {
            "marker": {
             "line": {
              "color": "#E5ECF6",
              "width": 0.5
             },
             "pattern": {
              "fillmode": "overlay",
              "size": 10,
              "solidity": 0.2
             }
            },
            "type": "barpolar"
           }
          ],
          "carpet": [
           {
            "aaxis": {
             "endlinecolor": "#2a3f5f",
             "gridcolor": "white",
             "linecolor": "white",
             "minorgridcolor": "white",
             "startlinecolor": "#2a3f5f"
            },
            "baxis": {
             "endlinecolor": "#2a3f5f",
             "gridcolor": "white",
             "linecolor": "white",
             "minorgridcolor": "white",
             "startlinecolor": "#2a3f5f"
            },
            "type": "carpet"
           }
          ],
          "choropleth": [
           {
            "colorbar": {
             "outlinewidth": 0,
             "ticks": ""
            },
            "type": "choropleth"
           }
          ],
          "contour": [
           {
            "colorbar": {
             "outlinewidth": 0,
             "ticks": ""
            },
            "colorscale": [
             [
              0,
              "#0d0887"
             ],
             [
              0.1111111111111111,
              "#46039f"
             ],
             [
              0.2222222222222222,
              "#7201a8"
             ],
             [
              0.3333333333333333,
              "#9c179e"
             ],
             [
              0.4444444444444444,
              "#bd3786"
             ],
             [
              0.5555555555555556,
              "#d8576b"
             ],
             [
              0.6666666666666666,
              "#ed7953"
             ],
             [
              0.7777777777777778,
              "#fb9f3a"
             ],
             [
              0.8888888888888888,
              "#fdca26"
             ],
             [
              1,
              "#f0f921"
             ]
            ],
            "type": "contour"
           }
          ],
          "contourcarpet": [
           {
            "colorbar": {
             "outlinewidth": 0,
             "ticks": ""
            },
            "type": "contourcarpet"
           }
          ],
          "heatmap": [
           {
            "colorbar": {
             "outlinewidth": 0,
             "ticks": ""
            },
            "colorscale": [
             [
              0,
              "#0d0887"
             ],
             [
              0.1111111111111111,
              "#46039f"
             ],
             [
              0.2222222222222222,
              "#7201a8"
             ],
             [
              0.3333333333333333,
              "#9c179e"
             ],
             [
              0.4444444444444444,
              "#bd3786"
             ],
             [
              0.5555555555555556,
              "#d8576b"
             ],
             [
              0.6666666666666666,
              "#ed7953"
             ],
             [
              0.7777777777777778,
              "#fb9f3a"
             ],
             [
              0.8888888888888888,
              "#fdca26"
             ],
             [
              1,
              "#f0f921"
             ]
            ],
            "type": "heatmap"
           }
          ],
          "heatmapgl": [
           {
            "colorbar": {
             "outlinewidth": 0,
             "ticks": ""
            },
            "colorscale": [
             [
              0,
              "#0d0887"
             ],
             [
              0.1111111111111111,
              "#46039f"
             ],
             [
              0.2222222222222222,
              "#7201a8"
             ],
             [
              0.3333333333333333,
              "#9c179e"
             ],
             [
              0.4444444444444444,
              "#bd3786"
             ],
             [
              0.5555555555555556,
              "#d8576b"
             ],
             [
              0.6666666666666666,
              "#ed7953"
             ],
             [
              0.7777777777777778,
              "#fb9f3a"
             ],
             [
              0.8888888888888888,
              "#fdca26"
             ],
             [
              1,
              "#f0f921"
             ]
            ],
            "type": "heatmapgl"
           }
          ],
          "histogram": [
           {
            "marker": {
             "pattern": {
              "fillmode": "overlay",
              "size": 10,
              "solidity": 0.2
             }
            },
            "type": "histogram"
           }
          ],
          "histogram2d": [
           {
            "colorbar": {
             "outlinewidth": 0,
             "ticks": ""
            },
            "colorscale": [
             [
              0,
              "#0d0887"
             ],
             [
              0.1111111111111111,
              "#46039f"
             ],
             [
              0.2222222222222222,
              "#7201a8"
             ],
             [
              0.3333333333333333,
              "#9c179e"
             ],
             [
              0.4444444444444444,
              "#bd3786"
             ],
             [
              0.5555555555555556,
              "#d8576b"
             ],
             [
              0.6666666666666666,
              "#ed7953"
             ],
             [
              0.7777777777777778,
              "#fb9f3a"
             ],
             [
              0.8888888888888888,
              "#fdca26"
             ],
             [
              1,
              "#f0f921"
             ]
            ],
            "type": "histogram2d"
           }
          ],
          "histogram2dcontour": [
           {
            "colorbar": {
             "outlinewidth": 0,
             "ticks": ""
            },
            "colorscale": [
             [
              0,
              "#0d0887"
             ],
             [
              0.1111111111111111,
              "#46039f"
             ],
             [
              0.2222222222222222,
              "#7201a8"
             ],
             [
              0.3333333333333333,
              "#9c179e"
             ],
             [
              0.4444444444444444,
              "#bd3786"
             ],
             [
              0.5555555555555556,
              "#d8576b"
             ],
             [
              0.6666666666666666,
              "#ed7953"
             ],
             [
              0.7777777777777778,
              "#fb9f3a"
             ],
             [
              0.8888888888888888,
              "#fdca26"
             ],
             [
              1,
              "#f0f921"
             ]
            ],
            "type": "histogram2dcontour"
           }
          ],
          "mesh3d": [
           {
            "colorbar": {
             "outlinewidth": 0,
             "ticks": ""
            },
            "type": "mesh3d"
           }
          ],
          "parcoords": [
           {
            "line": {
             "colorbar": {
              "outlinewidth": 0,
              "ticks": ""
             }
            },
            "type": "parcoords"
           }
          ],
          "pie": [
           {
            "automargin": true,
            "type": "pie"
           }
          ],
          "scatter": [
           {
            "fillpattern": {
             "fillmode": "overlay",
             "size": 10,
             "solidity": 0.2
            },
            "type": "scatter"
           }
          ],
          "scatter3d": [
           {
            "line": {
             "colorbar": {
              "outlinewidth": 0,
              "ticks": ""
             }
            },
            "marker": {
             "colorbar": {
              "outlinewidth": 0,
              "ticks": ""
             }
            },
            "type": "scatter3d"
           }
          ],
          "scattercarpet": [
           {
            "marker": {
             "colorbar": {
              "outlinewidth": 0,
              "ticks": ""
             }
            },
            "type": "scattercarpet"
           }
          ],
          "scattergeo": [
           {
            "marker": {
             "colorbar": {
              "outlinewidth": 0,
              "ticks": ""
             }
            },
            "type": "scattergeo"
           }
          ],
          "scattergl": [
           {
            "marker": {
             "colorbar": {
              "outlinewidth": 0,
              "ticks": ""
             }
            },
            "type": "scattergl"
           }
          ],
          "scattermapbox": [
           {
            "marker": {
             "colorbar": {
              "outlinewidth": 0,
              "ticks": ""
             }
            },
            "type": "scattermapbox"
           }
          ],
          "scatterpolar": [
           {
            "marker": {
             "colorbar": {
              "outlinewidth": 0,
              "ticks": ""
             }
            },
            "type": "scatterpolar"
           }
          ],
          "scatterpolargl": [
           {
            "marker": {
             "colorbar": {
              "outlinewidth": 0,
              "ticks": ""
             }
            },
            "type": "scatterpolargl"
           }
          ],
          "scatterternary": [
           {
            "marker": {
             "colorbar": {
              "outlinewidth": 0,
              "ticks": ""
             }
            },
            "type": "scatterternary"
           }
          ],
          "surface": [
           {
            "colorbar": {
             "outlinewidth": 0,
             "ticks": ""
            },
            "colorscale": [
             [
              0,
              "#0d0887"
             ],
             [
              0.1111111111111111,
              "#46039f"
             ],
             [
              0.2222222222222222,
              "#7201a8"
             ],
             [
              0.3333333333333333,
              "#9c179e"
             ],
             [
              0.4444444444444444,
              "#bd3786"
             ],
             [
              0.5555555555555556,
              "#d8576b"
             ],
             [
              0.6666666666666666,
              "#ed7953"
             ],
             [
              0.7777777777777778,
              "#fb9f3a"
             ],
             [
              0.8888888888888888,
              "#fdca26"
             ],
             [
              1,
              "#f0f921"
             ]
            ],
            "type": "surface"
           }
          ],
          "table": [
           {
            "cells": {
             "fill": {
              "color": "#EBF0F8"
             },
             "line": {
              "color": "white"
             }
            },
            "header": {
             "fill": {
              "color": "#C8D4E3"
             },
             "line": {
              "color": "white"
             }
            },
            "type": "table"
           }
          ]
         },
         "layout": {
          "annotationdefaults": {
           "arrowcolor": "#2a3f5f",
           "arrowhead": 0,
           "arrowwidth": 1
          },
          "autotypenumbers": "strict",
          "coloraxis": {
           "colorbar": {
            "outlinewidth": 0,
            "ticks": ""
           }
          },
          "colorscale": {
           "diverging": [
            [
             0,
             "#8e0152"
            ],
            [
             0.1,
             "#c51b7d"
            ],
            [
             0.2,
             "#de77ae"
            ],
            [
             0.3,
             "#f1b6da"
            ],
            [
             0.4,
             "#fde0ef"
            ],
            [
             0.5,
             "#f7f7f7"
            ],
            [
             0.6,
             "#e6f5d0"
            ],
            [
             0.7,
             "#b8e186"
            ],
            [
             0.8,
             "#7fbc41"
            ],
            [
             0.9,
             "#4d9221"
            ],
            [
             1,
             "#276419"
            ]
           ],
           "sequential": [
            [
             0,
             "#0d0887"
            ],
            [
             0.1111111111111111,
             "#46039f"
            ],
            [
             0.2222222222222222,
             "#7201a8"
            ],
            [
             0.3333333333333333,
             "#9c179e"
            ],
            [
             0.4444444444444444,
             "#bd3786"
            ],
            [
             0.5555555555555556,
             "#d8576b"
            ],
            [
             0.6666666666666666,
             "#ed7953"
            ],
            [
             0.7777777777777778,
             "#fb9f3a"
            ],
            [
             0.8888888888888888,
             "#fdca26"
            ],
            [
             1,
             "#f0f921"
            ]
           ],
           "sequentialminus": [
            [
             0,
             "#0d0887"
            ],
            [
             0.1111111111111111,
             "#46039f"
            ],
            [
             0.2222222222222222,
             "#7201a8"
            ],
            [
             0.3333333333333333,
             "#9c179e"
            ],
            [
             0.4444444444444444,
             "#bd3786"
            ],
            [
             0.5555555555555556,
             "#d8576b"
            ],
            [
             0.6666666666666666,
             "#ed7953"
            ],
            [
             0.7777777777777778,
             "#fb9f3a"
            ],
            [
             0.8888888888888888,
             "#fdca26"
            ],
            [
             1,
             "#f0f921"
            ]
           ]
          },
          "colorway": [
           "#636efa",
           "#EF553B",
           "#00cc96",
           "#ab63fa",
           "#FFA15A",
           "#19d3f3",
           "#FF6692",
           "#B6E880",
           "#FF97FF",
           "#FECB52"
          ],
          "font": {
           "color": "#2a3f5f"
          },
          "geo": {
           "bgcolor": "white",
           "lakecolor": "white",
           "landcolor": "#E5ECF6",
           "showlakes": true,
           "showland": true,
           "subunitcolor": "white"
          },
          "hoverlabel": {
           "align": "left"
          },
          "hovermode": "closest",
          "mapbox": {
           "style": "light"
          },
          "paper_bgcolor": "white",
          "plot_bgcolor": "#E5ECF6",
          "polar": {
           "angularaxis": {
            "gridcolor": "white",
            "linecolor": "white",
            "ticks": ""
           },
           "bgcolor": "#E5ECF6",
           "radialaxis": {
            "gridcolor": "white",
            "linecolor": "white",
            "ticks": ""
           }
          },
          "scene": {
           "xaxis": {
            "backgroundcolor": "#E5ECF6",
            "gridcolor": "white",
            "gridwidth": 2,
            "linecolor": "white",
            "showbackground": true,
            "ticks": "",
            "zerolinecolor": "white"
           },
           "yaxis": {
            "backgroundcolor": "#E5ECF6",
            "gridcolor": "white",
            "gridwidth": 2,
            "linecolor": "white",
            "showbackground": true,
            "ticks": "",
            "zerolinecolor": "white"
           },
           "zaxis": {
            "backgroundcolor": "#E5ECF6",
            "gridcolor": "white",
            "gridwidth": 2,
            "linecolor": "white",
            "showbackground": true,
            "ticks": "",
            "zerolinecolor": "white"
           }
          },
          "shapedefaults": {
           "line": {
            "color": "#2a3f5f"
           }
          },
          "ternary": {
           "aaxis": {
            "gridcolor": "white",
            "linecolor": "white",
            "ticks": ""
           },
           "baxis": {
            "gridcolor": "white",
            "linecolor": "white",
            "ticks": ""
           },
           "bgcolor": "#E5ECF6",
           "caxis": {
            "gridcolor": "white",
            "linecolor": "white",
            "ticks": ""
           }
          },
          "title": {
           "x": 0.05
          },
          "xaxis": {
           "automargin": true,
           "gridcolor": "white",
           "linecolor": "white",
           "ticks": "",
           "title": {
            "standoff": 15
           },
           "zerolinecolor": "white",
           "zerolinewidth": 2
          },
          "yaxis": {
           "automargin": true,
           "gridcolor": "white",
           "linecolor": "white",
           "ticks": "",
           "title": {
            "standoff": 15
           },
           "zerolinecolor": "white",
           "zerolinewidth": 2
          }
         }
        },
        "width": 985,
        "xaxis": {
         "anchor": "y",
         "domain": [
          0,
          1
         ],
         "title": {
          "text": "Time"
         }
        },
        "yaxis": {
         "anchor": "x",
         "domain": [
          0,
          1
         ],
         "title": {
          "text": "StochRSI6_11"
         }
        }
       }
      },
      "text/html": [
       "<div>                            <div id=\"b3568cdb-dc45-482a-97fe-9abfbf77f4f6\" class=\"plotly-graph-div\" style=\"height:300px; width:985px;\"></div>            <script type=\"text/javascript\">                require([\"plotly\"], function(Plotly) {                    window.PLOTLYENV=window.PLOTLYENV || {};                                    if (document.getElementById(\"b3568cdb-dc45-482a-97fe-9abfbf77f4f6\")) {                    Plotly.newPlot(                        \"b3568cdb-dc45-482a-97fe-9abfbf77f4f6\",                        [{\"hovertemplate\":\"Time=%{x}<br>StochRSI6_11=%{y}<extra></extra>\",\"legendgroup\":\"\",\"line\":{\"color\":\"#636efa\",\"dash\":\"solid\"},\"marker\":{\"symbol\":\"circle\"},\"mode\":\"lines\",\"name\":\"\",\"orientation\":\"v\",\"showlegend\":false,\"x\":[\"16:30:00\",\"16:35:00\",\"16:40:00\",\"16:45:00\",\"16:50:00\",\"16:55:00\",\"17:00:00\",\"17:05:00\",\"17:10:00\",\"17:15:00\",\"17:20:00\",\"17:25:00\",\"17:30:00\",\"17:35:00\",\"17:40:00\",\"17:45:00\",\"17:50:00\",\"17:55:00\",\"18:00:00\",\"18:05:00\",\"18:10:00\",\"18:15:00\",\"18:20:00\",\"18:25:00\",\"18:30:00\",\"18:35:00\",\"18:40:00\",\"18:45:00\",\"18:50:00\",\"18:55:00\",\"19:00:00\",\"19:05:00\",\"19:10:00\",\"19:15:00\",\"19:20:00\",\"19:25:00\",\"19:30:00\",\"19:35:00\",\"19:40:00\",\"19:45:00\",\"19:50:00\",\"19:55:00\",\"20:00:00\",\"20:05:00\",\"20:10:00\",\"20:15:00\",\"20:20:00\",\"20:25:00\",\"20:30:00\",\"20:35:00\",\"20:40:00\",\"20:45:00\",\"20:50:00\",\"20:55:00\",\"21:00:00\",\"21:05:00\",\"21:10:00\",\"21:15:00\",\"21:20:00\",\"21:25:00\",\"21:30:00\",\"21:35:00\",\"21:40:00\",\"21:45:00\",\"21:50:00\",\"21:55:00\",\"22:00:00\",\"22:05:00\",\"22:10:00\",\"22:15:00\",\"22:20:00\",\"22:25:00\",\"22:30:00\",\"22:35:00\",\"22:40:00\",\"22:45:00\",\"22:50:00\",\"22:55:00\"],\"xaxis\":\"x\",\"y\":[33.33,66.67,96.69,96.69,96.69,100.0,100.0,98.63,93.36,88.1,62.66,34.59,14.71,8.19,8.19,0.0,4.68,7.66,7.66,3.58,0.88,0.88,0.28,26.9,60.23,93.56,83.07,57.72,27.25,22.8,26.18,34.16,33.0,28.08,28.68,31.52,58.4,80.29,100.0,100.0,75.64,43.57,15.07,19.83,29.79,31.84,18.1,6.87,3.88,3.88,3.88,25.82,47.05,53.15,58.95,71.05,98.28,94.88,93.78,88.82,85.77,82.13,77.71,82.27,87.01,96.39,70.15,44.35,27.7,45.51,37.98,21.3,0.0,2.45,2.45,9.13,22.57,39.89],\"yaxis\":\"y\",\"type\":\"scatter\"}],                        {\"template\":{\"data\":{\"histogram2dcontour\":[{\"type\":\"histogram2dcontour\",\"colorbar\":{\"outlinewidth\":0,\"ticks\":\"\"},\"colorscale\":[[0.0,\"#0d0887\"],[0.1111111111111111,\"#46039f\"],[0.2222222222222222,\"#7201a8\"],[0.3333333333333333,\"#9c179e\"],[0.4444444444444444,\"#bd3786\"],[0.5555555555555556,\"#d8576b\"],[0.6666666666666666,\"#ed7953\"],[0.7777777777777778,\"#fb9f3a\"],[0.8888888888888888,\"#fdca26\"],[1.0,\"#f0f921\"]]}],\"choropleth\":[{\"type\":\"choropleth\",\"colorbar\":{\"outlinewidth\":0,\"ticks\":\"\"}}],\"histogram2d\":[{\"type\":\"histogram2d\",\"colorbar\":{\"outlinewidth\":0,\"ticks\":\"\"},\"colorscale\":[[0.0,\"#0d0887\"],[0.1111111111111111,\"#46039f\"],[0.2222222222222222,\"#7201a8\"],[0.3333333333333333,\"#9c179e\"],[0.4444444444444444,\"#bd3786\"],[0.5555555555555556,\"#d8576b\"],[0.6666666666666666,\"#ed7953\"],[0.7777777777777778,\"#fb9f3a\"],[0.8888888888888888,\"#fdca26\"],[1.0,\"#f0f921\"]]}],\"heatmap\":[{\"type\":\"heatmap\",\"colorbar\":{\"outlinewidth\":0,\"ticks\":\"\"},\"colorscale\":[[0.0,\"#0d0887\"],[0.1111111111111111,\"#46039f\"],[0.2222222222222222,\"#7201a8\"],[0.3333333333333333,\"#9c179e\"],[0.4444444444444444,\"#bd3786\"],[0.5555555555555556,\"#d8576b\"],[0.6666666666666666,\"#ed7953\"],[0.7777777777777778,\"#fb9f3a\"],[0.8888888888888888,\"#fdca26\"],[1.0,\"#f0f921\"]]}],\"heatmapgl\":[{\"type\":\"heatmapgl\",\"colorbar\":{\"outlinewidth\":0,\"ticks\":\"\"},\"colorscale\":[[0.0,\"#0d0887\"],[0.1111111111111111,\"#46039f\"],[0.2222222222222222,\"#7201a8\"],[0.3333333333333333,\"#9c179e\"],[0.4444444444444444,\"#bd3786\"],[0.5555555555555556,\"#d8576b\"],[0.6666666666666666,\"#ed7953\"],[0.7777777777777778,\"#fb9f3a\"],[0.8888888888888888,\"#fdca26\"],[1.0,\"#f0f921\"]]}],\"contourcarpet\":[{\"type\":\"contourcarpet\",\"colorbar\":{\"outlinewidth\":0,\"ticks\":\"\"}}],\"contour\":[{\"type\":\"contour\",\"colorbar\":{\"outlinewidth\":0,\"ticks\":\"\"},\"colorscale\":[[0.0,\"#0d0887\"],[0.1111111111111111,\"#46039f\"],[0.2222222222222222,\"#7201a8\"],[0.3333333333333333,\"#9c179e\"],[0.4444444444444444,\"#bd3786\"],[0.5555555555555556,\"#d8576b\"],[0.6666666666666666,\"#ed7953\"],[0.7777777777777778,\"#fb9f3a\"],[0.8888888888888888,\"#fdca26\"],[1.0,\"#f0f921\"]]}],\"surface\":[{\"type\":\"surface\",\"colorbar\":{\"outlinewidth\":0,\"ticks\":\"\"},\"colorscale\":[[0.0,\"#0d0887\"],[0.1111111111111111,\"#46039f\"],[0.2222222222222222,\"#7201a8\"],[0.3333333333333333,\"#9c179e\"],[0.4444444444444444,\"#bd3786\"],[0.5555555555555556,\"#d8576b\"],[0.6666666666666666,\"#ed7953\"],[0.7777777777777778,\"#fb9f3a\"],[0.8888888888888888,\"#fdca26\"],[1.0,\"#f0f921\"]]}],\"mesh3d\":[{\"type\":\"mesh3d\",\"colorbar\":{\"outlinewidth\":0,\"ticks\":\"\"}}],\"scatter\":[{\"fillpattern\":{\"fillmode\":\"overlay\",\"size\":10,\"solidity\":0.2},\"type\":\"scatter\"}],\"parcoords\":[{\"type\":\"parcoords\",\"line\":{\"colorbar\":{\"outlinewidth\":0,\"ticks\":\"\"}}}],\"scatterpolargl\":[{\"type\":\"scatterpolargl\",\"marker\":{\"colorbar\":{\"outlinewidth\":0,\"ticks\":\"\"}}}],\"bar\":[{\"error_x\":{\"color\":\"#2a3f5f\"},\"error_y\":{\"color\":\"#2a3f5f\"},\"marker\":{\"line\":{\"color\":\"#E5ECF6\",\"width\":0.5},\"pattern\":{\"fillmode\":\"overlay\",\"size\":10,\"solidity\":0.2}},\"type\":\"bar\"}],\"scattergeo\":[{\"type\":\"scattergeo\",\"marker\":{\"colorbar\":{\"outlinewidth\":0,\"ticks\":\"\"}}}],\"scatterpolar\":[{\"type\":\"scatterpolar\",\"marker\":{\"colorbar\":{\"outlinewidth\":0,\"ticks\":\"\"}}}],\"histogram\":[{\"marker\":{\"pattern\":{\"fillmode\":\"overlay\",\"size\":10,\"solidity\":0.2}},\"type\":\"histogram\"}],\"scattergl\":[{\"type\":\"scattergl\",\"marker\":{\"colorbar\":{\"outlinewidth\":0,\"ticks\":\"\"}}}],\"scatter3d\":[{\"type\":\"scatter3d\",\"line\":{\"colorbar\":{\"outlinewidth\":0,\"ticks\":\"\"}},\"marker\":{\"colorbar\":{\"outlinewidth\":0,\"ticks\":\"\"}}}],\"scattermapbox\":[{\"type\":\"scattermapbox\",\"marker\":{\"colorbar\":{\"outlinewidth\":0,\"ticks\":\"\"}}}],\"scatterternary\":[{\"type\":\"scatterternary\",\"marker\":{\"colorbar\":{\"outlinewidth\":0,\"ticks\":\"\"}}}],\"scattercarpet\":[{\"type\":\"scattercarpet\",\"marker\":{\"colorbar\":{\"outlinewidth\":0,\"ticks\":\"\"}}}],\"carpet\":[{\"aaxis\":{\"endlinecolor\":\"#2a3f5f\",\"gridcolor\":\"white\",\"linecolor\":\"white\",\"minorgridcolor\":\"white\",\"startlinecolor\":\"#2a3f5f\"},\"baxis\":{\"endlinecolor\":\"#2a3f5f\",\"gridcolor\":\"white\",\"linecolor\":\"white\",\"minorgridcolor\":\"white\",\"startlinecolor\":\"#2a3f5f\"},\"type\":\"carpet\"}],\"table\":[{\"cells\":{\"fill\":{\"color\":\"#EBF0F8\"},\"line\":{\"color\":\"white\"}},\"header\":{\"fill\":{\"color\":\"#C8D4E3\"},\"line\":{\"color\":\"white\"}},\"type\":\"table\"}],\"barpolar\":[{\"marker\":{\"line\":{\"color\":\"#E5ECF6\",\"width\":0.5},\"pattern\":{\"fillmode\":\"overlay\",\"size\":10,\"solidity\":0.2}},\"type\":\"barpolar\"}],\"pie\":[{\"automargin\":true,\"type\":\"pie\"}]},\"layout\":{\"autotypenumbers\":\"strict\",\"colorway\":[\"#636efa\",\"#EF553B\",\"#00cc96\",\"#ab63fa\",\"#FFA15A\",\"#19d3f3\",\"#FF6692\",\"#B6E880\",\"#FF97FF\",\"#FECB52\"],\"font\":{\"color\":\"#2a3f5f\"},\"hovermode\":\"closest\",\"hoverlabel\":{\"align\":\"left\"},\"paper_bgcolor\":\"white\",\"plot_bgcolor\":\"#E5ECF6\",\"polar\":{\"bgcolor\":\"#E5ECF6\",\"angularaxis\":{\"gridcolor\":\"white\",\"linecolor\":\"white\",\"ticks\":\"\"},\"radialaxis\":{\"gridcolor\":\"white\",\"linecolor\":\"white\",\"ticks\":\"\"}},\"ternary\":{\"bgcolor\":\"#E5ECF6\",\"aaxis\":{\"gridcolor\":\"white\",\"linecolor\":\"white\",\"ticks\":\"\"},\"baxis\":{\"gridcolor\":\"white\",\"linecolor\":\"white\",\"ticks\":\"\"},\"caxis\":{\"gridcolor\":\"white\",\"linecolor\":\"white\",\"ticks\":\"\"}},\"coloraxis\":{\"colorbar\":{\"outlinewidth\":0,\"ticks\":\"\"}},\"colorscale\":{\"sequential\":[[0.0,\"#0d0887\"],[0.1111111111111111,\"#46039f\"],[0.2222222222222222,\"#7201a8\"],[0.3333333333333333,\"#9c179e\"],[0.4444444444444444,\"#bd3786\"],[0.5555555555555556,\"#d8576b\"],[0.6666666666666666,\"#ed7953\"],[0.7777777777777778,\"#fb9f3a\"],[0.8888888888888888,\"#fdca26\"],[1.0,\"#f0f921\"]],\"sequentialminus\":[[0.0,\"#0d0887\"],[0.1111111111111111,\"#46039f\"],[0.2222222222222222,\"#7201a8\"],[0.3333333333333333,\"#9c179e\"],[0.4444444444444444,\"#bd3786\"],[0.5555555555555556,\"#d8576b\"],[0.6666666666666666,\"#ed7953\"],[0.7777777777777778,\"#fb9f3a\"],[0.8888888888888888,\"#fdca26\"],[1.0,\"#f0f921\"]],\"diverging\":[[0,\"#8e0152\"],[0.1,\"#c51b7d\"],[0.2,\"#de77ae\"],[0.3,\"#f1b6da\"],[0.4,\"#fde0ef\"],[0.5,\"#f7f7f7\"],[0.6,\"#e6f5d0\"],[0.7,\"#b8e186\"],[0.8,\"#7fbc41\"],[0.9,\"#4d9221\"],[1,\"#276419\"]]},\"xaxis\":{\"gridcolor\":\"white\",\"linecolor\":\"white\",\"ticks\":\"\",\"title\":{\"standoff\":15},\"zerolinecolor\":\"white\",\"automargin\":true,\"zerolinewidth\":2},\"yaxis\":{\"gridcolor\":\"white\",\"linecolor\":\"white\",\"ticks\":\"\",\"title\":{\"standoff\":15},\"zerolinecolor\":\"white\",\"automargin\":true,\"zerolinewidth\":2},\"scene\":{\"xaxis\":{\"backgroundcolor\":\"#E5ECF6\",\"gridcolor\":\"white\",\"linecolor\":\"white\",\"showbackground\":true,\"ticks\":\"\",\"zerolinecolor\":\"white\",\"gridwidth\":2},\"yaxis\":{\"backgroundcolor\":\"#E5ECF6\",\"gridcolor\":\"white\",\"linecolor\":\"white\",\"showbackground\":true,\"ticks\":\"\",\"zerolinecolor\":\"white\",\"gridwidth\":2},\"zaxis\":{\"backgroundcolor\":\"#E5ECF6\",\"gridcolor\":\"white\",\"linecolor\":\"white\",\"showbackground\":true,\"ticks\":\"\",\"zerolinecolor\":\"white\",\"gridwidth\":2}},\"shapedefaults\":{\"line\":{\"color\":\"#2a3f5f\"}},\"annotationdefaults\":{\"arrowcolor\":\"#2a3f5f\",\"arrowhead\":0,\"arrowwidth\":1},\"geo\":{\"bgcolor\":\"white\",\"landcolor\":\"#E5ECF6\",\"subunitcolor\":\"white\",\"showland\":true,\"showlakes\":true,\"lakecolor\":\"white\"},\"title\":{\"x\":0.05},\"mapbox\":{\"style\":\"light\"}}},\"xaxis\":{\"anchor\":\"y\",\"domain\":[0.0,1.0],\"title\":{\"text\":\"Time\"}},\"yaxis\":{\"anchor\":\"x\",\"domain\":[0.0,1.0],\"title\":{\"text\":\"StochRSI6_11\"}},\"legend\":{\"tracegroupgap\":0},\"margin\":{\"t\":60},\"width\":985,\"height\":300,\"shapes\":[{\"line\":{\"color\":\"black\",\"dash\":\"dot\",\"width\":1},\"type\":\"line\",\"x0\":\"16:30:00\",\"x1\":\"22:55:00\",\"y0\":20,\"y1\":20},{\"line\":{\"color\":\"black\",\"dash\":\"dot\",\"width\":1},\"type\":\"line\",\"x0\":\"16:30:00\",\"x1\":\"22:55:00\",\"y0\":80,\"y1\":80}]},                        {\"responsive\": true}                    ).then(function(){\n",
       "                            \n",
       "var gd = document.getElementById('b3568cdb-dc45-482a-97fe-9abfbf77f4f6');\n",
       "var x = new MutationObserver(function (mutations, observer) {{\n",
       "        var display = window.getComputedStyle(gd).display;\n",
       "        if (!display || display === 'none') {{\n",
       "            console.log([gd, 'removed!']);\n",
       "            Plotly.purge(gd);\n",
       "            observer.disconnect();\n",
       "        }}\n",
       "}});\n",
       "\n",
       "// Listen for the removal of the full notebook cells\n",
       "var notebookContainer = gd.closest('#notebook-container');\n",
       "if (notebookContainer) {{\n",
       "    x.observe(notebookContainer, {childList: true});\n",
       "}}\n",
       "\n",
       "// Listen for the clearing of the current output cell\n",
       "var outputEl = gd.closest('.output');\n",
       "if (outputEl) {{\n",
       "    x.observe(outputEl, {childList: true});\n",
       "}}\n",
       "\n",
       "                        })                };                });            </script>        </div>"
      ]
     },
     "metadata": {},
     "output_type": "display_data"
    }
   ],
   "source": [
    "# Create the candlestick chart using plotly, Change Sample Data accordingly and specify Date/s\n",
    "CandCharData = CurrentData #Sample Data\n",
    "GraphDate = str(input('Date to show (YYYY-MM-DD):')).split(',')\n",
    "CandCharData = CandCharData[CandCharData.Date.isin(GraphDate)]      #Filter for specified date\n",
    "fig = go.Figure(data=[go.Candlestick(x=CandCharData['Time'],\n",
    "                open=CandCharData['OpenPrice'],\n",
    "                high=CandCharData['Highp'],\n",
    "                low=CandCharData['Lowp'],\n",
    "                close=CandCharData['ClosePrice'])])\n",
    "\n",
    "fig.update_layout(\n",
    "    title=str(CandCharData.ticker.unique())+', '+str(CandCharData.Date.unique()),\n",
    "    xaxis_title='Time',\n",
    "    yaxis_title='Price', \n",
    "    yaxis=dict(tickangle=0),\n",
    "    xaxis_rangeslider_visible=False)\n",
    "fig.show()\n",
    "\n",
    "fig = px.line(CandCharData, x='Time', y='StochRSI6_11')\n",
    "fig.update_layout(width=985, height=300)  # You can adjust width and height as needed\n",
    "fig.update_layout(shapes=[\n",
    "    dict(type=\"line\", x0=CandCharData['Time'].iloc[0], x1=CandCharData['Time'].iloc[-1], y0=20, y1=20,\n",
    "         line=dict(color=\"black\", width=1, dash=\"dot\")),\n",
    "    dict(type=\"line\", x0=CandCharData['Time'].iloc[0], x1=CandCharData['Time'].iloc[-1], y0=80, y1=80,\n",
    "         line=dict(color=\"black\", width=1, dash=\"dot\"))])\n",
    "fig.show()"
   ]
  },
  {
   "cell_type": "code",
   "execution_count": 169,
   "id": "cd10c099",
   "metadata": {},
   "outputs": [
    {
     "data": {
      "text/html": [
       "<div>\n",
       "<style scoped>\n",
       "    .dataframe tbody tr th:only-of-type {\n",
       "        vertical-align: middle;\n",
       "    }\n",
       "\n",
       "    .dataframe tbody tr th {\n",
       "        vertical-align: top;\n",
       "    }\n",
       "\n",
       "    .dataframe thead th {\n",
       "        text-align: right;\n",
       "    }\n",
       "</style>\n",
       "<table border=\"1\" class=\"dataframe\">\n",
       "  <thead>\n",
       "    <tr style=\"text-align: right;\">\n",
       "      <th></th>\n",
       "      <th>Ticker</th>\n",
       "      <th>Position</th>\n",
       "      <th>Date</th>\n",
       "      <th>EntryTime</th>\n",
       "      <th>CloseTime</th>\n",
       "      <th>TimeToPeak</th>\n",
       "      <th>RMax</th>\n",
       "      <th>PriceToPeak</th>\n",
       "      <th>PChangePeak</th>\n",
       "      <th>StopSize</th>\n",
       "      <th>RSICross</th>\n",
       "      <th>DayTNum</th>\n",
       "    </tr>\n",
       "  </thead>\n",
       "  <tbody>\n",
       "    <tr>\n",
       "      <th>0</th>\n",
       "      <td>QQQ</td>\n",
       "      <td>Short</td>\n",
       "      <td>2023-08-10</td>\n",
       "      <td>17:05:00</td>\n",
       "      <td>22:55:00</td>\n",
       "      <td>3:50</td>\n",
       "      <td>16.39</td>\n",
       "      <td>6.88</td>\n",
       "      <td>1.84</td>\n",
       "      <td>0.42</td>\n",
       "      <td>Yes</td>\n",
       "      <td>1</td>\n",
       "    </tr>\n",
       "    <tr>\n",
       "      <th>1</th>\n",
       "      <td>QQQ</td>\n",
       "      <td>Long</td>\n",
       "      <td>2023-08-10</td>\n",
       "      <td>17:55:00</td>\n",
       "      <td>18:00:00</td>\n",
       "      <td>0:00</td>\n",
       "      <td>0.14</td>\n",
       "      <td>0.15</td>\n",
       "      <td>0.04</td>\n",
       "      <td>1.06</td>\n",
       "      <td>No</td>\n",
       "      <td>2</td>\n",
       "    </tr>\n",
       "    <tr>\n",
       "      <th>2</th>\n",
       "      <td>QQQ</td>\n",
       "      <td>Long</td>\n",
       "      <td>2023-08-10</td>\n",
       "      <td>18:10:00</td>\n",
       "      <td>18:20:00</td>\n",
       "      <td>0:00</td>\n",
       "      <td>0.00</td>\n",
       "      <td>0.00</td>\n",
       "      <td>0.00</td>\n",
       "      <td>1.07</td>\n",
       "      <td>No</td>\n",
       "      <td>3</td>\n",
       "    </tr>\n",
       "    <tr>\n",
       "      <th>3</th>\n",
       "      <td>QQQ</td>\n",
       "      <td>Short</td>\n",
       "      <td>2023-08-10</td>\n",
       "      <td>18:40:00</td>\n",
       "      <td>22:55:00</td>\n",
       "      <td>2:15</td>\n",
       "      <td>10.13</td>\n",
       "      <td>4.15</td>\n",
       "      <td>1.12</td>\n",
       "      <td>0.41</td>\n",
       "      <td>Yes</td>\n",
       "      <td>4</td>\n",
       "    </tr>\n",
       "    <tr>\n",
       "      <th>4</th>\n",
       "      <td>QQQ</td>\n",
       "      <td>Long</td>\n",
       "      <td>2023-08-10</td>\n",
       "      <td>20:05:00</td>\n",
       "      <td>20:20:00</td>\n",
       "      <td>0:00</td>\n",
       "      <td>0.33</td>\n",
       "      <td>0.18</td>\n",
       "      <td>0.05</td>\n",
       "      <td>0.55</td>\n",
       "      <td>No</td>\n",
       "      <td>5</td>\n",
       "    </tr>\n",
       "    <tr>\n",
       "      <th>5</th>\n",
       "      <td>QQQ</td>\n",
       "      <td>Short</td>\n",
       "      <td>2023-08-10</td>\n",
       "      <td>21:25:00</td>\n",
       "      <td>21:50:00</td>\n",
       "      <td>0:15</td>\n",
       "      <td>0.43</td>\n",
       "      <td>0.31</td>\n",
       "      <td>0.08</td>\n",
       "      <td>0.72</td>\n",
       "      <td>No</td>\n",
       "      <td>6</td>\n",
       "    </tr>\n",
       "    <tr>\n",
       "      <th>6</th>\n",
       "      <td>QQQ</td>\n",
       "      <td>Short</td>\n",
       "      <td>2023-08-10</td>\n",
       "      <td>21:35:00</td>\n",
       "      <td>21:45:00</td>\n",
       "      <td>0:05</td>\n",
       "      <td>0.57</td>\n",
       "      <td>0.30</td>\n",
       "      <td>0.08</td>\n",
       "      <td>0.53</td>\n",
       "      <td>No</td>\n",
       "      <td>7</td>\n",
       "    </tr>\n",
       "  </tbody>\n",
       "</table>\n",
       "</div>"
      ],
      "text/plain": [
       "  Ticker Position        Date EntryTime CloseTime TimeToPeak   RMax  \\\n",
       "0    QQQ    Short  2023-08-10  17:05:00  22:55:00       3:50  16.39   \n",
       "1    QQQ     Long  2023-08-10  17:55:00  18:00:00       0:00   0.14   \n",
       "2    QQQ     Long  2023-08-10  18:10:00  18:20:00       0:00   0.00   \n",
       "3    QQQ    Short  2023-08-10  18:40:00  22:55:00       2:15  10.13   \n",
       "4    QQQ     Long  2023-08-10  20:05:00  20:20:00       0:00   0.33   \n",
       "5    QQQ    Short  2023-08-10  21:25:00  21:50:00       0:15   0.43   \n",
       "6    QQQ    Short  2023-08-10  21:35:00  21:45:00       0:05   0.57   \n",
       "\n",
       "   PriceToPeak  PChangePeak  StopSize RSICross  DayTNum  \n",
       "0         6.88         1.84      0.42      Yes        1  \n",
       "1         0.15         0.04      1.06       No        2  \n",
       "2         0.00         0.00      1.07       No        3  \n",
       "3         4.15         1.12      0.41      Yes        4  \n",
       "4         0.18         0.05      0.55       No        5  \n",
       "5         0.31         0.08      0.72       No        6  \n",
       "6         0.30         0.08      0.53       No        7  "
      ]
     },
     "execution_count": 169,
     "metadata": {},
     "output_type": "execute_result"
    }
   ],
   "source": [
    "#### Data Collection for opening trades when Stoch-RSI is above or below 20/80 for reversals ####\n",
    "DayStartTime = '17:00:00'\n",
    "RSITest = CurrentData[CurrentData.Time>=DayStartTime] #filter day start time\n",
    "RSITest = RSITest[RSITest.Date=='2023-08-10'] #filter day for loop build process\n",
    "RSITestData = {'Ticker':[],'Position': [], 'Date': [],'EntryTime': [], 'CloseTime': [],'TimeToPeak': [], 'RMax': [], 'PriceToPeak': [],'PChangePeak': [],'StopSize': [], 'RSICross': [], 'DayTNum': []} #empty results dictionary to create dataframe later\n",
    "def TimeToPeak (PeakTime, EntryTime):\n",
    "    time_obj1 = datetime.strptime(PeakTime, '%H:%M:%S').time()\n",
    "    time_obj2 = datetime.strptime(EntryTime, '%H:%M:%S').time()\n",
    "    time_difference = datetime.combine(datetime.today(), time_obj1) - datetime.combine(datetime.today(), time_obj2)\n",
    "    return(str(time_difference)[:4])\n",
    "xtest = 0\n",
    "yest = 0\n",
    "dailyTNum = 1\n",
    "Engulfing_candles = 0\n",
    "CurrHigh = 0\n",
    "CurrLow = 0\n",
    "RSICross = 'No' #variable to know if RSI crossed to other side\n",
    "CurrDate = ''\n",
    "PeakTime = '' \n",
    "CrossIndex = 0 #variable to know if RSI came inside to 65 or 35 to avoid extra trade logs\n",
    "for j in range (RSITest.head(1).index[0], RSITest.head(1).index[0]+RSITest.shape[0]): #from first index till end of filtering\n",
    "    yest += 1\n",
    "    if RSITest.loc[j].Time == DayStartTime:\n",
    "        CurrDate = RSITest.loc[j].Date\n",
    "        dailyTNum = 1\n",
    "    if (RSITest.loc[j].StochRSI6_11>80) and (j > CrossIndex):\n",
    "        CrossIndex = 0\n",
    "        if CurrHigh == 0:  #get first values for highs/lows\n",
    "            CurrHigh = RSITest.loc[j].Highp \n",
    "            CurrLow = RSITest.loc[j].Lowp\n",
    "        elif (RSITest.loc[j].Lowp < CurrLow) and (RSITest.loc[j].Highp >= CurrHigh):\n",
    "            Engulfing_candles += 1 #count candles where we dont know if it was an entry with new high or immediate loss           \n",
    "        elif RSITest.loc[j].Highp >= CurrHigh: #update high and low\n",
    "            CurrHigh = RSITest.loc[j].Highp\n",
    "            CurrLow = RSITest.loc[j].Lowp #update to higher high and higher low for entry\n",
    "        elif (RSITest.loc[j].Lowp < CurrLow) and (RSITest.loc[j-1].Date == CurrDate): #open trade, make sure its in same day\n",
    "            CrossIndex = 0\n",
    "            RSITestData['DayTNum'].append(dailyTNum)\n",
    "            dailyTNum += 1\n",
    "            RSITestData['EntryTime'].append(RSITest.loc[j].Time)\n",
    "            RSITestData['Ticker'].append(RSITest.loc[j].ticker)  \n",
    "            RSITestData['Date'].append(RSITest.loc[j].Date)  \n",
    "            RSITestData['StopSize'].append(CurrHigh-CurrLow-0.01)\n",
    "            RSITestData['Position'].append('Short')\n",
    "            StopSize = CurrHigh-CurrLow-0.01 #variables for trade close calculations\n",
    "            EntryPrice = CurrLow-0.01\n",
    "            EntryTime = RSITest.loc[j].Time\n",
    "            PeakTime = RSITest.loc[j].Time\n",
    "            for k in range (j, RSITest.head(1).index[0]+RSITest.shape[0]): \n",
    "                xtest += 1\n",
    "                if (not CurrDate==RSITest.loc[k].Date) or (RSITest.loc[k].Time=='22:55:00'):  #avoid day change \n",
    "                    RSITestData['PriceToPeak'].append(round(EntryPrice-CurrLow,2)) #Close trade\n",
    "                    RSITestData['RMax'].append(round((EntryPrice-CurrLow)/StopSize,2))\n",
    "                    RSITestData['PChangePeak'].append(round((EntryPrice-CurrLow)/EntryPrice*100,2))              \n",
    "                    RSITestData['RSICross'].append(RSICross)\n",
    "                    RSITestData['TimeToPeak'].append(TimeToPeak(PeakTime,EntryTime))\n",
    "                    if RSITest.loc[k].Time=='22:55:00':\n",
    "                        RSITestData['CloseTime'].append(RSITest.loc[k].Time) \n",
    "                    else:\n",
    "                        RSITestData['CloseTime'].append(RSITest.loc[k-1].Time)\n",
    "                    CurrHigh = 0 ; CurrLow = 0 ; RSICross = 'No' ; PeakTime = ''      \n",
    "                    break\n",
    "                if (CrossIndex==0) and (RSITest.loc[k].StochRSI6_11 < 65):\n",
    "                    CrossIndex = k\n",
    "                if RSITest.loc[k].StochRSI6_11 < 20:\n",
    "                    RSICross = 'Yes'\n",
    "                if RSITest.loc[k].Highp > CurrHigh:\n",
    "                    RSITestData['PriceToPeak'].append(round(EntryPrice-CurrLow,2)) #Close trade\n",
    "                    RSITestData['RMax'].append(round((EntryPrice-CurrLow)/StopSize,2))\n",
    "                    RSITestData['PChangePeak'].append(round((EntryPrice-CurrLow)/EntryPrice*100,2))\n",
    "                    RSITestData['CloseTime'].append(RSITest.loc[k].Time) \n",
    "                    RSITestData['RSICross'].append(RSICross)\n",
    "                    RSITestData['TimeToPeak'].append(TimeToPeak(PeakTime,EntryTime))\n",
    "                    CurrHigh = 0 ; CurrLow = 0 ; RSICross = 'No' ; PeakTime = ''      \n",
    "                    break\n",
    "                if RSITest.loc[k].Lowp < CurrLow:\n",
    "                    CurrLow = RSITest.loc[k].Lowp\n",
    "                    PeakTime = RSITest.loc[k].Time    \n",
    "    if (RSITest.loc[j].StochRSI6_11<20) and (j > CrossIndex):\n",
    "        CrossIndex = 0\n",
    "        if CurrHigh == 0:  #get first values for highs/lows\n",
    "            CurrHigh = RSITest.loc[j].Highp \n",
    "            CurrLow = RSITest.loc[j].Lowp\n",
    "        elif (RSITest.loc[j].Lowp < CurrLow) and (RSITest.loc[j].Highp >= CurrHigh):\n",
    "            Engulfing_candles += 1 #count candles where we dont know if it was an entry with new high or immediate loss \n",
    "        elif RSITest.loc[j].Lowp <= CurrLow: #update high and low\n",
    "            CurrHigh = RSITest.loc[j].Highp\n",
    "            CurrLow = RSITest.loc[j].Lowp #update to lower low and lower high for entry\n",
    "        elif (RSITest.loc[j].Highp > CurrHigh) and (RSITest.loc[j-1].Date == CurrDate): #open trade, make sure its in same day\n",
    "            CrossIndex = 0\n",
    "            RSITestData['DayTNum'].append(dailyTNum)\n",
    "            dailyTNum += 1\n",
    "            RSITestData['EntryTime'].append(RSITest.loc[j].Time)\n",
    "            RSITestData['Ticker'].append(RSITest.loc[j].ticker)  \n",
    "            RSITestData['Date'].append(RSITest.loc[j].Date)  \n",
    "            RSITestData['StopSize'].append(CurrHigh+0.01-CurrLow)\n",
    "            RSITestData['Position'].append('Long')\n",
    "            StopSize = CurrHigh+0.01-CurrLow #variables for trade close calculations\n",
    "            EntryPrice = CurrHigh+0.01\n",
    "            EntryTime = RSITest.loc[j].Time\n",
    "            PeakTime = RSITest.loc[j].Time\n",
    "            for k in range (j, RSITest.head(1).index[0]+RSITest.shape[0]): \n",
    "                if (not CurrDate==RSITest.loc[k].Date) or (RSITest.loc[k].Time=='22:55:00'):  #avoid day change  \n",
    "                    RSITestData['PriceToPeak'].append(round(CurrHigh-EntryPrice,2)) #Close trade\n",
    "                    RSITestData['RMax'].append(round((CurrHigh-EntryPrice)/StopSize,2))\n",
    "                    RSITestData['PChangePeak'].append(round((CurrHigh-EntryPrice)/EntryPrice*100,2))\n",
    "                    RSITestData['RSICross'].append(RSICross)\n",
    "                    RSITestData['TimeToPeak'].append(TimeToPeak(PeakTime,EntryTime))\n",
    "                    if RSITest.loc[k].Time=='22:55:00':\n",
    "                        RSITestData['CloseTime'].append(RSITest.loc[k].Time) \n",
    "                    else:\n",
    "                        RSITestData['CloseTime'].append(RSITest.loc[k-1].Time)\n",
    "                    CurrHigh = 0 ; CurrLow = 0 ; RSICross = 'No' ; PeakTime = ''      \n",
    "                    break\n",
    "                if (CrossIndex==0) and (RSITest.loc[k].StochRSI6_11 > 35):\n",
    "                    CrossIndex = k\n",
    "                if RSITest.loc[k].StochRSI6_11 > 80:\n",
    "                    RSICross = 'Yes'\n",
    "                if RSITest.loc[k].Lowp < CurrLow:\n",
    "                    RSITestData['PriceToPeak'].append(round(CurrHigh-EntryPrice,2)) #Close trade\n",
    "                    RSITestData['RMax'].append(round((CurrHigh-EntryPrice)/StopSize,2))\n",
    "                    RSITestData['PChangePeak'].append(round((CurrHigh-EntryPrice)/EntryPrice*100,2))\n",
    "                    RSITestData['CloseTime'].append(RSITest.loc[k].Time)\n",
    "                    RSITestData['RSICross'].append(RSICross)\n",
    "                    RSITestData['TimeToPeak'].append(TimeToPeak(PeakTime,EntryTime))\n",
    "                    CurrHigh = 0 ; CurrLow = 0 ; RSICross = 'No' ; PeakTime = ''      \n",
    "                    break\n",
    "                if RSITest.loc[k].Highp > CurrHigh:\n",
    "                    CurrHigh = RSITest.loc[k].Highp\n",
    "                    PeakTime = RSITest.loc[k].Time\n",
    "RSITestRes = pd.DataFrame(RSITestData).sort_values(['Date','EntryTime'], ascending=True)\n",
    "RSITestRes"
   ]
  },
  {
   "cell_type": "code",
   "execution_count": null,
   "id": "f2f65400",
   "metadata": {},
   "outputs": [],
   "source": []
  }
 ],
 "metadata": {
  "kernelspec": {
   "display_name": "Python 3 (ipykernel)",
   "language": "python",
   "name": "python3"
  },
  "language_info": {
   "codemirror_mode": {
    "name": "ipython",
    "version": 3
   },
   "file_extension": ".py",
   "mimetype": "text/x-python",
   "name": "python",
   "nbconvert_exporter": "python",
   "pygments_lexer": "ipython3",
   "version": "3.10.9"
  }
 },
 "nbformat": 4,
 "nbformat_minor": 5
}
